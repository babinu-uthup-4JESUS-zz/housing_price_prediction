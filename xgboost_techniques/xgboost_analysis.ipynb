{
 "cells": [
  {
   "cell_type": "markdown",
   "metadata": {},
   "source": [
    "\n",
    "# Basic Overview\n",
    "The objective is to build models  using gradient tree boosting techniques on the same.\n",
    "\n",
    "Comments/criticisms/appreciations are greatly accepted and appreciated. Do not be shy and send me an email at babinu@gmail.com !\n",
    "\n",
    "Source of data : https://www.kaggle.com/c/house-prices-advanced-regression-techniques"
   ]
  },
  {
   "cell_type": "code",
   "execution_count": 4,
   "metadata": {},
   "outputs": [],
   "source": [
    "import pandas as pd\n",
    "import numpy as np"
   ]
  },
  {
   "cell_type": "code",
   "execution_count": 5,
   "metadata": {},
   "outputs": [],
   "source": [
    "import sys\n",
    "sys.path.append('../common_routines/')\n",
    "import numpy as np\n",
    "from relevant_functions import\\\n",
    "    fit_pipeline_and_cross_validate, \\\n",
    "    get_cross_validation_score, \\\n",
    "    get_validated_transformed_data, \\\n",
    "    get_predictor_df, \\\n",
    "    plot_relevant_df, FIGURE_LENGTH, FIGURE_BREADTH\n"
   ]
  },
  {
   "cell_type": "markdown",
   "metadata": {},
   "source": [
    "### Master plan\n",
    "The main motivation behind using this technique is that the implicit regularization (in gradient boosting) would enable shrinkage of predictors, enabling us to get a tree ensemble with low dimensionality:\n",
    "\n",
    "1. Build a gradient boosting model using all pred\n",
    "2. Using the rank computed in the step above, see the cross validation score obtained , say when we include top 10 predictors, top 20 predictors etc, and hopefully arrive at an equilibrium value.\n",
    "\n",
    "The main motivation here is that hopefully, the non parametric nature of the method, couple with our 'dimensionality control' technique can give us something interesting .Let us see !"
   ]
  },
  {
   "cell_type": "markdown",
   "metadata": {},
   "source": [
    "#### First set up, set up data properly"
   ]
  },
  {
   "cell_type": "code",
   "execution_count": 6,
   "metadata": {},
   "outputs": [],
   "source": [
    "complete_train_data = get_validated_transformed_data(\"../input/train.csv\")"
   ]
  },
  {
   "cell_type": "code",
   "execution_count": 7,
   "metadata": {},
   "outputs": [],
   "source": [
    "complete_train_data_one_hot = pd.get_dummies(complete_train_data)\n",
    "train_data_one_hot = complete_train_data_one_hot[:(1460 - 365)].copy()\n",
    "test_data_one_hot = complete_train_data_one_hot[(1460 - 365):].copy()"
   ]
  },
  {
   "cell_type": "markdown",
   "metadata": {},
   "source": [
    "#### Set up pipelines appropriately"
   ]
  },
  {
   "cell_type": "code",
   "execution_count": 8,
   "metadata": {},
   "outputs": [],
   "source": [
    "from sklearn.pipeline import Pipeline\n",
    "from sklearn.preprocessing import Imputer\n",
    "from xgboost import XGBRegressor\n",
    "import xgboost as xgb\n",
    "def get_xgboost_pipeline():\n",
    "    my_pipe = Pipeline([('missing', Imputer(strategy='mean')),\n",
    "                        ('model', XGBRegressor())\n",
    "                        ])\n",
    "    return my_pipe"
   ]
  },
  {
   "cell_type": "code",
   "execution_count": 9,
   "metadata": {},
   "outputs": [],
   "source": [
    "predictor_cols = [col for col in train_data_one_hot.columns if col not in ['SalePrice']]\n"
   ]
  },
  {
   "cell_type": "code",
   "execution_count": 10,
   "metadata": {},
   "outputs": [
    {
     "name": "stdout",
     "output_type": "stream",
     "text": [
      "Cross validation score is 0.13572037238297738\n"
     ]
    }
   ],
   "source": [
    "\n",
    "(my_pipe, cross_validation_score) = fit_pipeline_and_cross_validate(\n",
    "    get_xgboost_pipeline(), \n",
    "    train_data_one_hot, predictor_cols)\n",
    "#print(predictor_cols)\n",
    "print(\"Cross validation score is {0}\".format(cross_validation_score))"
   ]
  },
  {
   "cell_type": "markdown",
   "metadata": {},
   "source": [
    "#### Checking out the model\n",
    "\n",
    "Let us check out more details regarding the model."
   ]
  },
  {
   "cell_type": "code",
   "execution_count": 11,
   "metadata": {},
   "outputs": [],
   "source": [
    "from relevant_functions import print_model_stats_from_pipeline"
   ]
  },
  {
   "cell_type": "code",
   "execution_count": 12,
   "metadata": {},
   "outputs": [],
   "source": [
    "model_obj = my_pipe.named_steps['model']"
   ]
  },
  {
   "cell_type": "code",
   "execution_count": 13,
   "metadata": {},
   "outputs": [
    {
     "data": {
      "text/plain": [
       "XGBRegressor(base_score=0.5, booster='gbtree', colsample_bylevel=1,\n",
       "       colsample_bytree=1, gamma=0, learning_rate=0.1, max_delta_step=0,\n",
       "       max_depth=3, min_child_weight=1, missing=None, n_estimators=100,\n",
       "       n_jobs=1, nthread=None, objective='reg:linear', random_state=0,\n",
       "       reg_alpha=0, reg_lambda=1, scale_pos_weight=1, seed=None,\n",
       "       silent=True, subsample=1)"
      ]
     },
     "execution_count": 13,
     "metadata": {},
     "output_type": "execute_result"
    }
   ],
   "source": [
    "model_obj"
   ]
  },
  {
   "cell_type": "code",
   "execution_count": 14,
   "metadata": {},
   "outputs": [
    {
     "data": {
      "text/plain": [
       "<BarContainer object of 270 artists>"
      ]
     },
     "execution_count": 14,
     "metadata": {},
     "output_type": "execute_result"
    },
    {
     "data": {
      "image/png": "[encoded data removed]",
      "text/plain": [
       "<Figure size 1152x648 with 1 Axes>"
      ]
     },
     "metadata": {},
     "output_type": "display_data"
    }
   ],
   "source": [
    "import matplotlib.pyplot as plt\n",
    "fig, ax = plt.subplots(1, 1, figsize=(FIGURE_LENGTH, FIGURE_BREADTH))\n",
    "ax.set_xlabel('Feature Importances')\n",
    "ax.set_ylabel('Predictor Indices')\n",
    "ax.set_title('Feature importances of various predictors')\n",
    "ax.barh(range(len(model_obj.feature_importances_)), model_obj.feature_importances_)\n",
    "#plt.show() "
   ]
  },
  {
   "cell_type": "markdown",
   "metadata": {},
   "source": [
    "\n",
    "### Get cross validation score with a subset of predictors"
   ]
  },
  {
   "cell_type": "code",
   "execution_count": 17,
   "metadata": {},
   "outputs": [
    {
     "data": {
      "text/plain": [
       "0.047765795"
      ]
     },
     "execution_count": 17,
     "metadata": {},
     "output_type": "execute_result"
    }
   ],
   "source": [
    "model_obj.feature_importances_[10]"
   ]
  },
  {
   "cell_type": "code",
   "execution_count": 18,
   "metadata": {},
   "outputs": [],
   "source": [
    "from collections import OrderedDict\n",
    "from operator import itemgetter\n",
    "\n",
    "def get_columns_sorted_in_predictive_power(model_feature_importance):\n",
    "    col_name_to_feature_importance = dict()\n",
    "    for i in np.nonzero(model_feature_importance)[0]:\n",
    "\n",
    "        col_name = predictor_cols[i]\n",
    "        feature_importance = model_feature_importance[i]\n",
    "        col_name_to_feature_importance[col_name] = feature_importance\n",
    "\n",
    "    col_name_to_feature_importance_sorted = \\\n",
    "        [(k, col_name_to_feature_importance[k]) for k in sorted(\n",
    "            col_name_to_feature_importance, \n",
    "            key=col_name_to_feature_importance.get, \n",
    "            reverse=True)]        \n",
    "\n",
    "    col_name_to_feature_importance_sorted = \\\n",
    "        OrderedDict(sorted(\n",
    "            col_name_to_feature_importance.items(), \n",
    "            key = itemgetter(1), \n",
    "            reverse = True))\n",
    "\n",
    "    columns_sorted = list(col_name_to_feature_importance_sorted.keys())\n",
    "    return columns_sorted\n",
    "\n",
    "\n"
   ]
  },
  {
   "cell_type": "code",
   "execution_count": 19,
   "metadata": {},
   "outputs": [],
   "source": [
    "columns_in_desc_predictive_power = get_columns_sorted_in_predictive_power(model_obj.feature_importances_)"
   ]
  },
  {
   "cell_type": "code",
   "execution_count": 20,
   "metadata": {},
   "outputs": [],
   "source": [
    "def get_cross_val_score_with_best_predictors(num_predictors_to_include=5,\n",
    "                                             predictor_index_cross_val_score_df=columns_in_desc_predictive_power,\n",
    "                                             train_data_one_hot=train_data_one_hot):\n",
    "    rel_cols = predictor_index_cross_val_score_df[0:num_predictors_to_include]\n",
    "    (my_pipe, cross_validation_score) = fit_pipeline_and_cross_validate(\n",
    "        get_xgboost_pipeline(), \n",
    "        train_data_one_hot, rel_cols)\n",
    "    return cross_validation_score "
   ]
  },
  {
   "cell_type": "code",
   "execution_count": 21,
   "metadata": {},
   "outputs": [],
   "source": [
    "def get_cross_validation_score_given_num_predictors(num_predictors_to_include=5,\n",
    "                                                    train_data_one_hot=train_data_one_hot, \n",
    "                                                    predictor_cols=columns_in_desc_predictive_power):\n",
    "    cross_val_score = \\\n",
    "        get_cross_validation_score(get_xgboost_pipeline(), \n",
    "                                   train_data_one_hot, \n",
    "                                   predictor_cols[0:num_predictors_to_include])\n",
    "    return cross_val_score\n"
   ]
  },
  {
   "cell_type": "code",
   "execution_count": 23,
   "metadata": {},
   "outputs": [],
   "source": [
    "predictor_index_cross_val_score_df = get_predictor_df('num_predictors',\n",
    "                                                      get_cross_val_score_with_best_predictors,\n",
    "                                                      1,\n",
    "                                                      columns_in_desc_predictive_power)"
   ]
  },
  {
   "cell_type": "code",
   "execution_count": 25,
   "metadata": {},
   "outputs": [
    {
     "data": {
      "text/plain": [
       "<matplotlib.axes._subplots.AxesSubplot at 0x1a0f8b2a20>"
      ]
     },
     "execution_count": 25,
     "metadata": {},
     "output_type": "execute_result"
    },
    {
     "data": {
      "image/png": "[encoded data removed]",
      "text/plain": [
       "<Figure size 1152x648 with 1 Axes>"
      ]
     },
     "metadata": {},
     "output_type": "display_data"
    }
   ],
   "source": [
    "plot_relevant_df(predictor_index_cross_val_score_df) "
   ]
  },
  {
   "cell_type": "code",
   "execution_count": 27,
   "metadata": {},
   "outputs": [
    {
     "name": "stdout",
     "output_type": "stream",
     "text": [
      "1 0.28081065005053446\n",
      "2 0.26902128298505973\n",
      "3 0.2407831833170806\n",
      "4 0.1718579894475329\n",
      "5 0.16985674665497966\n",
      "6 0.16284938229356036\n",
      "7 0.1576024400894897\n",
      "8 0.1444654029826691\n",
      "9 0.14605833251556494\n",
      "10 0.1446702105818901\n",
      "11 0.14428223829554682\n",
      "12 0.14435840219192736\n",
      "13 0.1443099988835566\n",
      "14 0.14542687280526725\n",
      "15 0.14365736635903736\n",
      "16 0.14466679145922562\n",
      "17 0.14560842897359497\n",
      "18 0.14412250282889855\n",
      "19 0.14336004044665715\n",
      "20 0.142304379309468\n",
      "21 0.14164297709707716\n",
      "22 0.14112461834101592\n",
      "23 0.14129261366786944\n",
      "24 0.14134644713024158\n",
      "25 0.14044821521623238\n",
      "26 0.14014865758417297\n",
      "27 0.13983096449232318\n",
      "28 0.13997092568760974\n",
      "29 0.13874511037634246\n",
      "30 0.1391908393966386\n",
      "31 0.137839769251354\n",
      "32 0.1373156450989415\n",
      "33 0.137795798435381\n",
      "34 0.13719145240448535\n",
      "35 0.13748898516485927\n",
      "36 0.1361219283940706\n",
      "37 0.13612525386649243\n",
      "38 0.136757259797801\n",
      "39 0.13651748152622684\n",
      "40 0.13633391412197648\n",
      "41 0.13690516683201756\n",
      "42 0.13690998840188778\n",
      "43 0.13670767530784866\n",
      "44 0.13674705935334264\n",
      "45 0.13627917629865727\n",
      "46 0.1369952195850332\n",
      "47 0.13730999509365818\n",
      "48 0.1372479355509899\n",
      "49 0.13714410985313177\n",
      "50 0.13690896581557258\n",
      "51 0.13711086887690627\n",
      "52 0.1366500146245452\n",
      "53 0.13682149375437902\n",
      "54 0.13676324392735942\n",
      "55 0.13660347065015074\n",
      "56 0.1355236315257579\n",
      "57 0.13533908984224013\n",
      "58 0.13574627268375178\n",
      "59 0.13575144347987897\n",
      "60 0.13516460759160448\n",
      "61 0.13672632830522188\n",
      "62 0.13658351924016165\n",
      "63 0.13652847579546865\n",
      "64 0.1360170279495326\n",
      "65 0.13597223577522616\n",
      "66 0.13633083550981304\n",
      "67 0.13635311359780733\n",
      "68 0.1359188519649393\n",
      "69 0.1358487250638289\n",
      "70 0.13615773503730555\n",
      "71 0.13666088019468536\n",
      "72 0.1363109959801932\n",
      "73 0.13559653173713815\n",
      "74 0.1356492079389623\n",
      "75 0.13557091961618237\n",
      "76 0.1355909192580959\n",
      "77 0.13552002035143426\n",
      "78 0.1355925532974345\n",
      "79 0.13623421234978478\n",
      "80 0.1365991207753689\n",
      "81 0.13619115852606972\n"
     ]
    }
   ],
   "source": [
    "NUM_IMPORTANT_PREDICTORS = np.sum(model_obj.feature_importances_ > 0)\n",
    "for i in range(1, NUM_IMPORTANT_PREDICTORS + 1): \n",
    "    predictors_list = columns_in_desc_predictive_power[0:i] \n",
    "    cross_validation_score = \\\n",
    "        get_cross_validation_score(get_xgboost_pipeline(), train_data_one_hot, predictors_list)\n",
    "\n",
    "    print(i, cross_validation_score)\n",
    "    "
   ]
  }
 ],
 "metadata": {
  "kernelspec": {
   "display_name": "Python 3",
   "language": "python",
   "name": "python3"
  },
  "language_info": {
   "codemirror_mode": {
    "name": "ipython",
    "version": 3
   },
   "file_extension": ".py",
   "mimetype": "text/x-python",
   "name": "python",
   "nbconvert_exporter": "python",
   "pygments_lexer": "ipython3",
   "version": "3.6.4"
  }
 },
 "nbformat": 4,
 "nbformat_minor": 2
}

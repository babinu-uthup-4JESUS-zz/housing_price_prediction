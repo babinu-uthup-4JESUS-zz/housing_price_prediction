{
 "cells": [
  {
   "cell_type": "markdown",
   "metadata": {},
   "source": [
    "\n",
    "# Basic Overview\n",
    "The objective is to build models  using gradient tree boosting techniques on the same.\n",
    "\n",
    "Comments/criticisms/appreciations are greatly accepted and appreciated. Do not be shy and send me an email at babinu@gmail.com !\n",
    "\n",
    "Source of data : https://www.kaggle.com/c/house-prices-advanced-regression-techniques"
   ]
  },
  {
   "cell_type": "code",
   "execution_count": 1,
   "metadata": {},
   "outputs": [],
   "source": [
    "import pandas as pd\n",
    "import numpy as np"
   ]
  },
  {
   "cell_type": "code",
   "execution_count": 2,
   "metadata": {},
   "outputs": [],
   "source": [
    "import sys\n",
    "sys.path.append('../common_routines/')\n",
    "import numpy as np\n",
    "from relevant_functions import\\\n",
    "    fit_pipeline_and_cross_validate, \\\n",
    "    get_validated_transformed_data\n"
   ]
  },
  {
   "cell_type": "code",
   "execution_count": 3,
   "metadata": {},
   "outputs": [],
   "source": [
    "import matplotlib.pyplot as plt\n",
    "FIGURE_LENGTH = 16\n",
    "FIGURE_BREADTH = 9\n"
   ]
  },
  {
   "cell_type": "markdown",
   "metadata": {},
   "source": [
    "### Master plan\n",
    "The main motivation behind using this technique is that the implicit regularization (in gradient boosting) would enable shrinkage of predictors, enabling us to get a tree ensemble with low dimensionality:\n",
    "\n",
    "1. Build a gradient boosting model using all pred\n",
    "2. Using the rank computed in the step above, see the cross validation score obtained , say when we include top 10 predictors, top 20 predictors etc, and hopefully arrive at an equilibrium value.\n",
    "\n",
    "The main motivation here is that hopefully, the non parametric nature of the method, couple with our 'dimensionality control' technique can give us something interesting .Let us see !"
   ]
  },
  {
   "cell_type": "markdown",
   "metadata": {},
   "source": [
    "#### First set up, set up data properly"
   ]
  },
  {
   "cell_type": "code",
   "execution_count": 4,
   "metadata": {},
   "outputs": [],
   "source": [
    "complete_train_data = get_validated_transformed_data(\"../input/train.csv\")"
   ]
  },
  {
   "cell_type": "code",
   "execution_count": 5,
   "metadata": {},
   "outputs": [],
   "source": [
    "complete_train_data_one_hot = pd.get_dummies(complete_train_data)\n",
    "train_data_one_hot = complete_train_data_one_hot[:(1460 - 365)].copy()\n",
    "test_data_one_hot = complete_train_data_one_hot[(1460 - 365):].copy()"
   ]
  },
  {
   "cell_type": "markdown",
   "metadata": {},
   "source": [
    "#### Set up pipelines appropriately"
   ]
  },
  {
   "cell_type": "code",
   "execution_count": 6,
   "metadata": {},
   "outputs": [],
   "source": [
    "from sklearn.pipeline import Pipeline\n",
    "from sklearn.preprocessing import Imputer\n",
    "from xgboost import XGBRegressor\n",
    "import xgboost as xgb\n",
    "def get_xgboost_pipeline():\n",
    "    my_pipe = Pipeline([('missing', Imputer(strategy='mean')),\n",
    "                        ('model', XGBRegressor())\n",
    "                        ])\n",
    "    return my_pipe"
   ]
  },
  {
   "cell_type": "code",
   "execution_count": 7,
   "metadata": {},
   "outputs": [],
   "source": [
    "predictor_cols = [col for col in train_data_one_hot.columns if col not in ['SalePrice']]\n"
   ]
  },
  {
   "cell_type": "code",
   "execution_count": 8,
   "metadata": {},
   "outputs": [
    {
     "name": "stdout",
     "output_type": "stream",
     "text": [
      "Cross validation score is 0.13572037238297738\n"
     ]
    }
   ],
   "source": [
    "\n",
    "(my_pipe, cross_validation_score) = fit_pipeline_and_cross_validate(\n",
    "    get_xgboost_pipeline(), \n",
    "    train_data_one_hot, predictor_cols)\n",
    "#print(predictor_cols)\n",
    "print(\"Cross validation score is {0}\".format(cross_validation_score))"
   ]
  },
  {
   "cell_type": "markdown",
   "metadata": {},
   "source": [
    "#### Checking out the model\n",
    "\n",
    "Let us check out more details regarding the model."
   ]
  },
  {
   "cell_type": "code",
   "execution_count": 9,
   "metadata": {},
   "outputs": [],
   "source": [
    "from relevant_functions import print_model_stats_from_pipeline"
   ]
  },
  {
   "cell_type": "code",
   "execution_count": 10,
   "metadata": {},
   "outputs": [],
   "source": [
    "model_obj = my_pipe.named_steps['model']"
   ]
  },
  {
   "cell_type": "code",
   "execution_count": 11,
   "metadata": {},
   "outputs": [
    {
     "data": {
      "text/plain": [
       "XGBRegressor(base_score=0.5, booster='gbtree', colsample_bylevel=1,\n",
       "       colsample_bytree=1, gamma=0, learning_rate=0.1, max_delta_step=0,\n",
       "       max_depth=3, min_child_weight=1, missing=None, n_estimators=100,\n",
       "       n_jobs=1, nthread=None, objective='reg:linear', random_state=0,\n",
       "       reg_alpha=0, reg_lambda=1, scale_pos_weight=1, seed=None,\n",
       "       silent=True, subsample=1)"
      ]
     },
     "execution_count": 11,
     "metadata": {},
     "output_type": "execute_result"
    }
   ],
   "source": [
    "model_obj"
   ]
  },
  {
   "cell_type": "code",
   "execution_count": 12,
   "metadata": {},
   "outputs": [
    {
     "data": {
      "text/plain": [
       "<BarContainer object of 270 artists>"
      ]
     },
     "execution_count": 12,
     "metadata": {},
     "output_type": "execute_result"
    },
    {
     "data": {
      "image/png": "[encoded data removed]",
      "text/plain": [
       "<Figure size 1152x648 with 1 Axes>"
      ]
     },
     "metadata": {},
     "output_type": "display_data"
    }
   ],
   "source": [
    "fig, ax = plt.subplots(1, 1, figsize=(FIGURE_LENGTH, FIGURE_BREADTH))\n",
    "ax.set_xlabel('Feature Importances')\n",
    "ax.set_ylabel('Predictor Indices')\n",
    "ax.set_title('Feature importances of various predictors')\n",
    "ax.barh(range(len(model_obj.feature_importances_)), model_obj.feature_importances_)\n",
    "#plt.show()"
   ]
  },
  {
   "cell_type": "markdown",
   "metadata": {},
   "source": [
    "### Selecting predictors with importances lesser than a threshold.\n",
    "\n",
    "Now, that we have feature importances for each predictors, we can build models by selecting all predictors with feature importances less than a threshold. For example , if threshold = 0.5, we can select predictors having feature_importance < 0.5 and build a model using the same."
   ]
  },
  {
   "cell_type": "code",
   "execution_count": 13,
   "metadata": {},
   "outputs": [],
   "source": [
    "thresholds = np.sort(model_obj.feature_importances_)"
   ]
  },
  {
   "cell_type": "code",
   "execution_count": 14,
   "metadata": {},
   "outputs": [],
   "source": [
    "positive_importances = thresholds[thresholds > 0]"
   ]
  },
  {
   "cell_type": "code",
   "execution_count": 15,
   "metadata": {},
   "outputs": [
    {
     "data": {
      "text/plain": [
       "array([0.00154083, 0.00308166, 0.0046225 , 0.00616333, 0.00770416,\n",
       "       0.00924499, 0.01078582, 0.01232666, 0.01386749, 0.01540832,\n",
       "       0.01848998, 0.02003082, 0.02157165, 0.02465331, 0.03081664,\n",
       "       0.03389831, 0.0385208 , 0.04006163, 0.0431433 , 0.0477658 ,\n",
       "       0.05084746, 0.07241911, 0.07858244, 0.09553159], dtype=float32)"
      ]
     },
     "execution_count": 15,
     "metadata": {},
     "output_type": "execute_result"
    }
   ],
   "source": [
    "np.unique(positive_importances)"
   ]
  },
  {
   "cell_type": "markdown",
   "metadata": {},
   "source": [
    "\n",
    "### Get cross validation score with a subset of predictors"
   ]
  },
  {
   "cell_type": "code",
   "execution_count": 16,
   "metadata": {},
   "outputs": [
    {
     "data": {
      "text/plain": [
       "(array([  0,   1,   2,   3,   4,   5,   6,   7,   8,   9,  10,  11,  12,\n",
       "         14,  15,  17,  18,  19,  20,  21,  22,  23,  24,  25,  26,  27,\n",
       "         28,  30,  33,  34,  36,  37,  39,  44,  46,  47,  53,  54,  67,\n",
       "         68,  78,  79,  82,  83,  84,  86,  88,  97,  99, 103, 108, 129,\n",
       "        133, 136, 142, 150, 162, 163, 168, 175, 180, 182, 185, 189, 191,\n",
       "        194, 202, 210, 215, 222, 225, 232, 234, 240, 246, 251, 261, 264,\n",
       "        267, 268, 269]),)"
      ]
     },
     "execution_count": 16,
     "metadata": {},
     "output_type": "execute_result"
    }
   ],
   "source": [
    "np.nonzero(model_obj.feature_importances_)"
   ]
  },
  {
   "cell_type": "code",
   "execution_count": 17,
   "metadata": {},
   "outputs": [],
   "source": [
    "col_name_to_feature_importance = dict()\n",
    "for i in np.nonzero(model_obj.feature_importances_)[0]:\n",
    "\n",
    "    col_name = predictor_cols[i]\n",
    "    feature_importance = model_obj.feature_importances_[i]\n",
    "    col_name_to_feature_importance[col_name] = feature_importance\n",
    "\n",
    "    "
   ]
  },
  {
   "cell_type": "code",
   "execution_count": 18,
   "metadata": {},
   "outputs": [],
   "source": [
    "col_name_to_feature_importance_sorted = \\\n",
    "    [(k, col_name_to_feature_importance[k]) for k in sorted(\n",
    "        col_name_to_feature_importance, key=col_name_to_feature_importance.get, reverse=True)]"
   ]
  },
  {
   "cell_type": "code",
   "execution_count": 19,
   "metadata": {},
   "outputs": [],
   "source": [
    "from collections import OrderedDict\n",
    "from operator import itemgetter\n",
    "col_name_to_feature_importance_sorted = OrderedDict(sorted(col_name_to_feature_importance.items(), key = itemgetter(1), reverse = True))\n"
   ]
  },
  {
   "cell_type": "code",
   "execution_count": 20,
   "metadata": {},
   "outputs": [
    {
     "data": {
      "text/plain": [
       "['GrLivArea']"
      ]
     },
     "execution_count": 20,
     "metadata": {},
     "output_type": "execute_result"
    }
   ],
   "source": [
    "columns_sorted = list(col_name_to_feature_importance_sorted.keys())\n",
    "columns_sorted[0:1]\n"
   ]
  },
  {
   "cell_type": "code",
   "execution_count": 21,
   "metadata": {},
   "outputs": [
    {
     "data": {
      "text/plain": [
       "['GrLivArea',\n",
       " 'LotArea',\n",
       " 'BsmtFinSF1',\n",
       " 'OverallQual',\n",
       " 'TotalBsmtSF',\n",
       " 'OverallCond',\n",
       " 'GarageArea',\n",
       " 'YearBuilt',\n",
       " '2ndFlrSF',\n",
       " '1stFlrSF',\n",
       " 'MoSold',\n",
       " 'YearRemodAdd',\n",
       " 'GarageYrBlt',\n",
       " 'WoodDeckSF',\n",
       " 'OpenPorchSF',\n",
       " 'MasVnrArea',\n",
       " 'BsmtUnfSF',\n",
       " 'Neighborhood_Crawfor',\n",
       " 'Functional_Typ',\n",
       " 'SaleType_New',\n",
       " 'ScreenPorch',\n",
       " 'BsmtExposure_Gd',\n",
       " 'MSSubClass',\n",
       " 'Neighborhood_StoneBr',\n",
       " 'GarageCars',\n",
       " 'KitchenQual_Ex',\n",
       " 'BsmtFinSF2',\n",
       " 'TotRmsAbvGrd',\n",
       " 'Fireplaces',\n",
       " 'EnclosedPorch',\n",
       " 'MSZoning_C (all)',\n",
       " 'Exterior1st_BrkFace',\n",
       " 'BsmtFullBath',\n",
       " 'Condition1_Norm',\n",
       " 'HouseStyle_1.5Fin',\n",
       " 'SaleCondition_Abnorml',\n",
       " 'YrSold',\n",
       " 'Neighborhood_Edwards',\n",
       " 'BsmtCond_Gd',\n",
       " 'HalfBath',\n",
       " 'MSZoning_RL',\n",
       " 'MasVnrType_BrkFace',\n",
       " 'HeatingQC_Ex',\n",
       " 'GarageFinish_RFn',\n",
       " 'SaleCondition_Partial',\n",
       " 'FullBath',\n",
       " 'MSZoning_FV',\n",
       " 'LotShape_Reg',\n",
       " 'LotConfig_CulDSac',\n",
       " 'Neighborhood_Somerst',\n",
       " 'Condition1_Artery',\n",
       " 'RoofMatl_WdShngl',\n",
       " 'Exterior1st_HdBoard',\n",
       " 'MasVnrType_None',\n",
       " 'Foundation_CBlock',\n",
       " 'BsmtQual_Ex',\n",
       " 'BsmtExposure_No',\n",
       " 'BsmtFinType1_GLQ',\n",
       " 'CentralAir_N',\n",
       " 'KitchenQual_TA',\n",
       " 'GarageType_Attchd',\n",
       " 'SaleCondition_Family',\n",
       " 'BedroomAbvGr',\n",
       " 'KitchenAbvGr',\n",
       " 'LotShape_IR2',\n",
       " 'LandContour_Bnk',\n",
       " 'LotConfig_Corner',\n",
       " 'Neighborhood_OldTown',\n",
       " 'Neighborhood_SWISU',\n",
       " 'Neighborhood_Timber',\n",
       " 'Condition2_Norm',\n",
       " 'Condition2_PosN',\n",
       " 'BldgType_1Fam',\n",
       " 'Exterior1st_VinylSd',\n",
       " 'Exterior2nd_CmentBd',\n",
       " 'ExterQual_TA',\n",
       " 'BsmtQual_Gd',\n",
       " 'BsmtFinType2_Rec',\n",
       " 'GarageQual_TA',\n",
       " 'GarageCond_TA',\n",
       " 'SaleCondition_Normal']"
      ]
     },
     "execution_count": 21,
     "metadata": {},
     "output_type": "execute_result"
    }
   ],
   "source": [
    "columns_sorted"
   ]
  },
  {
   "cell_type": "code",
   "execution_count": 22,
   "metadata": {},
   "outputs": [],
   "source": [
    "def get_cross_val_score_with_best_predictors(num_predictors_to_include=5,\n",
    "                                             predictor_index_cross_val_score_df=columns_sorted,\n",
    "                                             train_data_one_hot=train_data_one_hot):\n",
    "    rel_cols = predictor_index_cross_val_score_df[0:num_predictors_to_include]\n",
    "    (my_pipe, cross_validation_score) = fit_pipeline_and_cross_validate(\n",
    "        get_xgboost_pipeline(), \n",
    "        train_data_one_hot, rel_cols)\n",
    "    return cross_validation_score "
   ]
  },
  {
   "cell_type": "code",
   "execution_count": 23,
   "metadata": {},
   "outputs": [],
   "source": [
    "def get_relevant_df(index_name='predictor_index', \n",
    "                    compute_func=get_cross_val_score_with_best_predictors,\n",
    "                    index_start=1,\n",
    "                    predictor_cols=columns_sorted):\n",
    "    NUM_POINTS = len(predictor_cols)\n",
    "    predictor_index_cross_val_score_df = pd.DataFrame(np.arange(index_start,NUM_POINTS + index_start), columns=[index_name])\n",
    "    predictor_index_cross_val_score_df['cross_val_score'] = \\\n",
    "        predictor_index_cross_val_score_df[index_name].apply(lambda x : compute_func(x))\n",
    "    predictor_index_cross_val_score_df.index = predictor_index_cross_val_score_df[index_name]\n",
    "    predictor_index_cross_val_score_df.drop(columns=[index_name], inplace=True)\n",
    "    return predictor_index_cross_val_score_df"
   ]
  },
  {
   "cell_type": "code",
   "execution_count": 24,
   "metadata": {},
   "outputs": [],
   "source": [
    "predictor_index_cross_val_score_df = get_relevant_df()"
   ]
  },
  {
   "cell_type": "code",
   "execution_count": 25,
   "metadata": {},
   "outputs": [],
   "source": [
    "def plot_relevant_df(predictor_index_cross_val_score_df, \n",
    "                    title='Cross Validation score vs Predictor column index',\n",
    "                    fig_length=FIGURE_LENGTH,\n",
    "                    fig_breadth=FIGURE_BREADTH):\n",
    "    fig, ax = plt.subplots(1, 1, figsize=(fig_length, fig_breadth))\n",
    "    predictor_index_cross_val_score_df.plot(ax=ax)\n",
    "    ax.set_title(title)    "
   ]
  },
  {
   "cell_type": "code",
   "execution_count": 26,
   "metadata": {},
   "outputs": [
    {
     "data": {
      "text/html": [
       "<div>\n",
       "<style scoped>\n",
       "    .dataframe tbody tr th:only-of-type {\n",
       "        vertical-align: middle;\n",
       "    }\n",
       "\n",
       "    .dataframe tbody tr th {\n",
       "        vertical-align: top;\n",
       "    }\n",
       "\n",
       "    .dataframe thead th {\n",
       "        text-align: right;\n",
       "    }\n",
       "</style>\n",
       "<table border=\"1\" class=\"dataframe\">\n",
       "  <thead>\n",
       "    <tr style=\"text-align: right;\">\n",
       "      <th></th>\n",
       "      <th>cross_val_score</th>\n",
       "    </tr>\n",
       "    <tr>\n",
       "      <th>predictor_index</th>\n",
       "      <th></th>\n",
       "    </tr>\n",
       "  </thead>\n",
       "  <tbody>\n",
       "    <tr>\n",
       "      <th>1</th>\n",
       "      <td>0.280811</td>\n",
       "    </tr>\n",
       "    <tr>\n",
       "      <th>2</th>\n",
       "      <td>0.269021</td>\n",
       "    </tr>\n",
       "    <tr>\n",
       "      <th>3</th>\n",
       "      <td>0.240783</td>\n",
       "    </tr>\n",
       "    <tr>\n",
       "      <th>4</th>\n",
       "      <td>0.171858</td>\n",
       "    </tr>\n",
       "    <tr>\n",
       "      <th>5</th>\n",
       "      <td>0.169857</td>\n",
       "    </tr>\n",
       "    <tr>\n",
       "      <th>6</th>\n",
       "      <td>0.162849</td>\n",
       "    </tr>\n",
       "    <tr>\n",
       "      <th>7</th>\n",
       "      <td>0.157602</td>\n",
       "    </tr>\n",
       "    <tr>\n",
       "      <th>8</th>\n",
       "      <td>0.144465</td>\n",
       "    </tr>\n",
       "    <tr>\n",
       "      <th>9</th>\n",
       "      <td>0.146058</td>\n",
       "    </tr>\n",
       "    <tr>\n",
       "      <th>10</th>\n",
       "      <td>0.144670</td>\n",
       "    </tr>\n",
       "    <tr>\n",
       "      <th>11</th>\n",
       "      <td>0.144282</td>\n",
       "    </tr>\n",
       "    <tr>\n",
       "      <th>12</th>\n",
       "      <td>0.144358</td>\n",
       "    </tr>\n",
       "    <tr>\n",
       "      <th>13</th>\n",
       "      <td>0.144310</td>\n",
       "    </tr>\n",
       "    <tr>\n",
       "      <th>14</th>\n",
       "      <td>0.145427</td>\n",
       "    </tr>\n",
       "    <tr>\n",
       "      <th>15</th>\n",
       "      <td>0.143657</td>\n",
       "    </tr>\n",
       "    <tr>\n",
       "      <th>16</th>\n",
       "      <td>0.144667</td>\n",
       "    </tr>\n",
       "    <tr>\n",
       "      <th>17</th>\n",
       "      <td>0.145608</td>\n",
       "    </tr>\n",
       "    <tr>\n",
       "      <th>18</th>\n",
       "      <td>0.144123</td>\n",
       "    </tr>\n",
       "    <tr>\n",
       "      <th>19</th>\n",
       "      <td>0.143360</td>\n",
       "    </tr>\n",
       "    <tr>\n",
       "      <th>20</th>\n",
       "      <td>0.142304</td>\n",
       "    </tr>\n",
       "    <tr>\n",
       "      <th>21</th>\n",
       "      <td>0.141643</td>\n",
       "    </tr>\n",
       "    <tr>\n",
       "      <th>22</th>\n",
       "      <td>0.141125</td>\n",
       "    </tr>\n",
       "    <tr>\n",
       "      <th>23</th>\n",
       "      <td>0.141293</td>\n",
       "    </tr>\n",
       "    <tr>\n",
       "      <th>24</th>\n",
       "      <td>0.141346</td>\n",
       "    </tr>\n",
       "    <tr>\n",
       "      <th>25</th>\n",
       "      <td>0.140448</td>\n",
       "    </tr>\n",
       "    <tr>\n",
       "      <th>26</th>\n",
       "      <td>0.140149</td>\n",
       "    </tr>\n",
       "    <tr>\n",
       "      <th>27</th>\n",
       "      <td>0.139831</td>\n",
       "    </tr>\n",
       "    <tr>\n",
       "      <th>28</th>\n",
       "      <td>0.139971</td>\n",
       "    </tr>\n",
       "    <tr>\n",
       "      <th>29</th>\n",
       "      <td>0.138745</td>\n",
       "    </tr>\n",
       "    <tr>\n",
       "      <th>30</th>\n",
       "      <td>0.139191</td>\n",
       "    </tr>\n",
       "    <tr>\n",
       "      <th>...</th>\n",
       "      <td>...</td>\n",
       "    </tr>\n",
       "    <tr>\n",
       "      <th>52</th>\n",
       "      <td>0.136650</td>\n",
       "    </tr>\n",
       "    <tr>\n",
       "      <th>53</th>\n",
       "      <td>0.136821</td>\n",
       "    </tr>\n",
       "    <tr>\n",
       "      <th>54</th>\n",
       "      <td>0.136763</td>\n",
       "    </tr>\n",
       "    <tr>\n",
       "      <th>55</th>\n",
       "      <td>0.136603</td>\n",
       "    </tr>\n",
       "    <tr>\n",
       "      <th>56</th>\n",
       "      <td>0.135524</td>\n",
       "    </tr>\n",
       "    <tr>\n",
       "      <th>57</th>\n",
       "      <td>0.135339</td>\n",
       "    </tr>\n",
       "    <tr>\n",
       "      <th>58</th>\n",
       "      <td>0.135746</td>\n",
       "    </tr>\n",
       "    <tr>\n",
       "      <th>59</th>\n",
       "      <td>0.135751</td>\n",
       "    </tr>\n",
       "    <tr>\n",
       "      <th>60</th>\n",
       "      <td>0.135165</td>\n",
       "    </tr>\n",
       "    <tr>\n",
       "      <th>61</th>\n",
       "      <td>0.136726</td>\n",
       "    </tr>\n",
       "    <tr>\n",
       "      <th>62</th>\n",
       "      <td>0.136584</td>\n",
       "    </tr>\n",
       "    <tr>\n",
       "      <th>63</th>\n",
       "      <td>0.136528</td>\n",
       "    </tr>\n",
       "    <tr>\n",
       "      <th>64</th>\n",
       "      <td>0.136017</td>\n",
       "    </tr>\n",
       "    <tr>\n",
       "      <th>65</th>\n",
       "      <td>0.135972</td>\n",
       "    </tr>\n",
       "    <tr>\n",
       "      <th>66</th>\n",
       "      <td>0.136331</td>\n",
       "    </tr>\n",
       "    <tr>\n",
       "      <th>67</th>\n",
       "      <td>0.136353</td>\n",
       "    </tr>\n",
       "    <tr>\n",
       "      <th>68</th>\n",
       "      <td>0.135919</td>\n",
       "    </tr>\n",
       "    <tr>\n",
       "      <th>69</th>\n",
       "      <td>0.135849</td>\n",
       "    </tr>\n",
       "    <tr>\n",
       "      <th>70</th>\n",
       "      <td>0.136158</td>\n",
       "    </tr>\n",
       "    <tr>\n",
       "      <th>71</th>\n",
       "      <td>0.136661</td>\n",
       "    </tr>\n",
       "    <tr>\n",
       "      <th>72</th>\n",
       "      <td>0.136311</td>\n",
       "    </tr>\n",
       "    <tr>\n",
       "      <th>73</th>\n",
       "      <td>0.135597</td>\n",
       "    </tr>\n",
       "    <tr>\n",
       "      <th>74</th>\n",
       "      <td>0.135649</td>\n",
       "    </tr>\n",
       "    <tr>\n",
       "      <th>75</th>\n",
       "      <td>0.135571</td>\n",
       "    </tr>\n",
       "    <tr>\n",
       "      <th>76</th>\n",
       "      <td>0.135591</td>\n",
       "    </tr>\n",
       "    <tr>\n",
       "      <th>77</th>\n",
       "      <td>0.135520</td>\n",
       "    </tr>\n",
       "    <tr>\n",
       "      <th>78</th>\n",
       "      <td>0.135593</td>\n",
       "    </tr>\n",
       "    <tr>\n",
       "      <th>79</th>\n",
       "      <td>0.136234</td>\n",
       "    </tr>\n",
       "    <tr>\n",
       "      <th>80</th>\n",
       "      <td>0.136599</td>\n",
       "    </tr>\n",
       "    <tr>\n",
       "      <th>81</th>\n",
       "      <td>0.136191</td>\n",
       "    </tr>\n",
       "  </tbody>\n",
       "</table>\n",
       "<p>81 rows × 1 columns</p>\n",
       "</div>"
      ],
      "text/plain": [
       "                 cross_val_score\n",
       "predictor_index                 \n",
       "1                       0.280811\n",
       "2                       0.269021\n",
       "3                       0.240783\n",
       "4                       0.171858\n",
       "5                       0.169857\n",
       "6                       0.162849\n",
       "7                       0.157602\n",
       "8                       0.144465\n",
       "9                       0.146058\n",
       "10                      0.144670\n",
       "11                      0.144282\n",
       "12                      0.144358\n",
       "13                      0.144310\n",
       "14                      0.145427\n",
       "15                      0.143657\n",
       "16                      0.144667\n",
       "17                      0.145608\n",
       "18                      0.144123\n",
       "19                      0.143360\n",
       "20                      0.142304\n",
       "21                      0.141643\n",
       "22                      0.141125\n",
       "23                      0.141293\n",
       "24                      0.141346\n",
       "25                      0.140448\n",
       "26                      0.140149\n",
       "27                      0.139831\n",
       "28                      0.139971\n",
       "29                      0.138745\n",
       "30                      0.139191\n",
       "...                          ...\n",
       "52                      0.136650\n",
       "53                      0.136821\n",
       "54                      0.136763\n",
       "55                      0.136603\n",
       "56                      0.135524\n",
       "57                      0.135339\n",
       "58                      0.135746\n",
       "59                      0.135751\n",
       "60                      0.135165\n",
       "61                      0.136726\n",
       "62                      0.136584\n",
       "63                      0.136528\n",
       "64                      0.136017\n",
       "65                      0.135972\n",
       "66                      0.136331\n",
       "67                      0.136353\n",
       "68                      0.135919\n",
       "69                      0.135849\n",
       "70                      0.136158\n",
       "71                      0.136661\n",
       "72                      0.136311\n",
       "73                      0.135597\n",
       "74                      0.135649\n",
       "75                      0.135571\n",
       "76                      0.135591\n",
       "77                      0.135520\n",
       "78                      0.135593\n",
       "79                      0.136234\n",
       "80                      0.136599\n",
       "81                      0.136191\n",
       "\n",
       "[81 rows x 1 columns]"
      ]
     },
     "execution_count": 26,
     "metadata": {},
     "output_type": "execute_result"
    }
   ],
   "source": [
    "predictor_index_cross_val_score_df"
   ]
  },
  {
   "cell_type": "code",
   "execution_count": 27,
   "metadata": {},
   "outputs": [
    {
     "data": {
      "image/png": "[encoded data removed]",
      "text/plain": [
       "<Figure size 1152x648 with 1 Axes>"
      ]
     },
     "metadata": {},
     "output_type": "display_data"
    }
   ],
   "source": [
    "plot_relevant_df(predictor_index_cross_val_score_df) "
   ]
  },
  {
   "cell_type": "code",
   "execution_count": 28,
   "metadata": {},
   "outputs": [
    {
     "name": "stdout",
     "output_type": "stream",
     "text": [
      "1 0.28081065005053446\n",
      "2 0.26902128298505973\n",
      "3 0.2407831833170806\n",
      "4 0.1718579894475329\n",
      "5 0.16985674665497966\n",
      "6 0.16284938229356036\n",
      "7 0.1576024400894897\n",
      "8 0.1444654029826691\n",
      "9 0.14605833251556494\n",
      "10 0.1446702105818901\n",
      "11 0.14428223829554682\n",
      "12 0.14435840219192736\n",
      "13 0.1443099988835566\n",
      "14 0.14542687280526725\n",
      "15 0.14365736635903736\n",
      "16 0.14466679145922562\n",
      "17 0.14560842897359497\n",
      "18 0.14412250282889855\n",
      "19 0.14336004044665715\n",
      "20 0.142304379309468\n",
      "21 0.14164297709707716\n",
      "22 0.14112461834101592\n",
      "23 0.14129261366786944\n",
      "24 0.14134644713024158\n",
      "25 0.14044821521623238\n",
      "26 0.14014865758417297\n",
      "27 0.13983096449232318\n",
      "28 0.13997092568760974\n",
      "29 0.13874511037634246\n",
      "30 0.1391908393966386\n",
      "31 0.137839769251354\n",
      "32 0.1373156450989415\n",
      "33 0.137795798435381\n",
      "34 0.13719145240448535\n",
      "35 0.13748898516485927\n",
      "36 0.1361219283940706\n",
      "37 0.13612525386649243\n",
      "38 0.136757259797801\n",
      "39 0.13651748152622684\n",
      "40 0.13633391412197648\n",
      "41 0.13690516683201756\n",
      "42 0.13690998840188778\n",
      "43 0.13670767530784866\n",
      "44 0.13674705935334264\n",
      "45 0.13627917629865727\n",
      "46 0.1369952195850332\n",
      "47 0.13730999509365818\n",
      "48 0.1372479355509899\n",
      "49 0.13714410985313177\n",
      "50 0.13690896581557258\n",
      "51 0.13711086887690627\n",
      "52 0.1366500146245452\n",
      "53 0.13682149375437902\n",
      "54 0.13676324392735942\n",
      "55 0.13660347065015074\n",
      "56 0.1355236315257579\n",
      "57 0.13533908984224013\n",
      "58 0.13574627268375178\n",
      "59 0.13575144347987897\n",
      "60 0.13516460759160448\n",
      "61 0.13672632830522188\n",
      "62 0.13658351924016165\n",
      "63 0.13652847579546865\n",
      "64 0.1360170279495326\n",
      "65 0.13597223577522616\n",
      "66 0.13633083550981304\n",
      "67 0.13635311359780733\n",
      "68 0.1359188519649393\n",
      "69 0.1358487250638289\n",
      "70 0.13615773503730555\n",
      "71 0.13666088019468536\n",
      "72 0.1363109959801932\n",
      "73 0.13559653173713815\n",
      "74 0.1356492079389623\n",
      "75 0.13557091961618237\n",
      "76 0.1355909192580959\n",
      "77 0.13552002035143426\n",
      "78 0.1355925532974345\n",
      "79 0.13623421234978478\n",
      "80 0.1365991207753689\n",
      "81 0.13619115852606972\n"
     ]
    }
   ],
   "source": [
    "NUM_IMPORTANT_PREDICTORS = np.sum(model_obj.feature_importances_ > 0)\n",
    "for i in range(1, NUM_IMPORTANT_PREDICTORS + 1):\n",
    "    predictors_list = columns_sorted[0:i]\n",
    "    (my_pipe, cross_validation_score) = fit_pipeline_and_cross_validate(\n",
    "        get_xgboost_pipeline(), \n",
    "        train_data_one_hot, predictors_list)\n",
    "    print(i, cross_validation_score)\n",
    "    "
   ]
  }
 ],
 "metadata": {
  "kernelspec": {
   "display_name": "Python 3",
   "language": "python",
   "name": "python3"
  },
  "language_info": {
   "codemirror_mode": {
    "name": "ipython",
    "version": 3
   },
   "file_extension": ".py",
   "mimetype": "text/x-python",
   "name": "python",
   "nbconvert_exporter": "python",
   "pygments_lexer": "ipython3",
   "version": "3.6.4"
  }
 },
 "nbformat": 4,
 "nbformat_minor": 2
}

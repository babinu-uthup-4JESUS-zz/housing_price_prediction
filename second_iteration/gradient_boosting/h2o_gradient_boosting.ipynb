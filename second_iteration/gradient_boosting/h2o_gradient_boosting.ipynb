{
 "cells": [
  {
   "cell_type": "markdown",
   "metadata": {},
   "source": [
    "### Basic Overview\n",
    "\n",
    "We will be exploring gradient boosting methods (in the h2o framework) to build a predictive model for predicting housing prices, given relevant data.\n",
    "\n",
    "However, we will be examining every step in detail, to make sure that we make full use of the library."
   ]
  },
  {
   "cell_type": "code",
   "execution_count": 105,
   "metadata": {},
   "outputs": [],
   "source": [
    "import pandas as pd\n",
    "import numpy as np\n",
    "import sys\n",
    "sys.path.append('../../common_routines/')\n",
    "from relevant_functions import\\\n",
    "    evaluate_model_score_given_predictions,\\\n",
    "    evaluate_model_score\n"
   ]
  },
  {
   "cell_type": "markdown",
   "metadata": {},
   "source": [
    "#### Get clean data first"
   ]
  },
  {
   "cell_type": "code",
   "execution_count": 106,
   "metadata": {},
   "outputs": [],
   "source": [
    "train_data = pd.read_csv('../../cleaned_input/train_data.csv')\n",
    "validation_data = pd.read_csv('../../cleaned_input/validation_data.csv')"
   ]
  },
  {
   "cell_type": "code",
   "execution_count": 107,
   "metadata": {},
   "outputs": [
    {
     "data": {
      "text/plain": [
       "Index(['Id', 'MSSubClass', 'MSZoning', 'LotArea', 'Street', 'LotShape',\n",
       "       'LandContour', 'Utilities', 'LotConfig', 'LandSlope',\n",
       "       ...\n",
       "       'LogGarageArea', 'LogWoodDeckSF', 'LogOpenPorchSF', 'LogEnclosedPorch',\n",
       "       'Log3SsnPorch', 'LogScreenPorch', 'LogPoolArea', 'LogMiscVal',\n",
       "       'LogSalePrice', 'LogMasVnrArea_times_not_missing'],\n",
       "      dtype='object', length=102)"
      ]
     },
     "execution_count": 107,
     "metadata": {},
     "output_type": "execute_result"
    }
   ],
   "source": [
    "train_data.columns"
   ]
  },
  {
   "cell_type": "code",
   "execution_count": 108,
   "metadata": {},
   "outputs": [],
   "source": [
    "train_validation_data = pd.concat([train_data, validation_data])"
   ]
  },
  {
   "cell_type": "code",
   "execution_count": 109,
   "metadata": {},
   "outputs": [],
   "source": [
    "test_data = pd.read_csv('../../cleaned_input/test.csv')"
   ]
  },
  {
   "cell_type": "code",
   "execution_count": 110,
   "metadata": {},
   "outputs": [
    {
     "data": {
      "text/plain": [
       "27"
      ]
     },
     "execution_count": 110,
     "metadata": {},
     "output_type": "execute_result"
    }
   ],
   "source": [
    "test_data.isnull().sum().sum()"
   ]
  },
  {
   "cell_type": "code",
   "execution_count": 111,
   "metadata": {},
   "outputs": [
    {
     "data": {
      "text/plain": [
       "False"
      ]
     },
     "execution_count": 111,
     "metadata": {},
     "output_type": "execute_result"
    }
   ],
   "source": [
    "## Are they indeed clean ?\n",
    "train_data.isnull().sum().any()"
   ]
  },
  {
   "cell_type": "code",
   "execution_count": 112,
   "metadata": {},
   "outputs": [
    {
     "data": {
      "text/plain": [
       "False"
      ]
     },
     "execution_count": 112,
     "metadata": {},
     "output_type": "execute_result"
    }
   ],
   "source": [
    "validation_data.isnull().sum().any()"
   ]
  },
  {
   "cell_type": "markdown",
   "metadata": {},
   "source": [
    "#### Get h2o up and running !\n"
   ]
  },
  {
   "cell_type": "code",
   "execution_count": 113,
   "metadata": {},
   "outputs": [
    {
     "name": "stdout",
     "output_type": "stream",
     "text": [
      "Checking whether there is an H2O instance running at http://localhost:54321 . connected.\n"
     ]
    },
    {
     "data": {
      "text/html": [
       "<div style=\"overflow:auto\"><table style=\"width:50%\"><tr><td>H2O cluster uptime:</td>\n",
       "<td>16 hours 44 mins</td></tr>\n",
       "<tr><td>H2O cluster timezone:</td>\n",
       "<td>America/New_York</td></tr>\n",
       "<tr><td>H2O data parsing timezone:</td>\n",
       "<td>UTC</td></tr>\n",
       "<tr><td>H2O cluster version:</td>\n",
       "<td>3.24.0.1</td></tr>\n",
       "<tr><td>H2O cluster version age:</td>\n",
       "<td>11 days </td></tr>\n",
       "<tr><td>H2O cluster name:</td>\n",
       "<td>H2O_from_python_babs4JESUS_auajwj</td></tr>\n",
       "<tr><td>H2O cluster total nodes:</td>\n",
       "<td>1</td></tr>\n",
       "<tr><td>H2O cluster free memory:</td>\n",
       "<td>12.84 Gb</td></tr>\n",
       "<tr><td>H2O cluster total cores:</td>\n",
       "<td>8</td></tr>\n",
       "<tr><td>H2O cluster allowed cores:</td>\n",
       "<td>8</td></tr>\n",
       "<tr><td>H2O cluster status:</td>\n",
       "<td>locked, healthy</td></tr>\n",
       "<tr><td>H2O connection url:</td>\n",
       "<td>http://localhost:54321</td></tr>\n",
       "<tr><td>H2O connection proxy:</td>\n",
       "<td>None</td></tr>\n",
       "<tr><td>H2O internal security:</td>\n",
       "<td>False</td></tr>\n",
       "<tr><td>H2O API Extensions:</td>\n",
       "<td>Amazon S3, XGBoost, Algos, AutoML, Core V3, Core V4</td></tr>\n",
       "<tr><td>Python version:</td>\n",
       "<td>3.6.8 final</td></tr></table></div>"
      ],
      "text/plain": [
       "--------------------------  ---------------------------------------------------\n",
       "H2O cluster uptime:         16 hours 44 mins\n",
       "H2O cluster timezone:       America/New_York\n",
       "H2O data parsing timezone:  UTC\n",
       "H2O cluster version:        3.24.0.1\n",
       "H2O cluster version age:    11 days\n",
       "H2O cluster name:           H2O_from_python_babs4JESUS_auajwj\n",
       "H2O cluster total nodes:    1\n",
       "H2O cluster free memory:    12.84 Gb\n",
       "H2O cluster total cores:    8\n",
       "H2O cluster allowed cores:  8\n",
       "H2O cluster status:         locked, healthy\n",
       "H2O connection url:         http://localhost:54321\n",
       "H2O connection proxy:\n",
       "H2O internal security:      False\n",
       "H2O API Extensions:         Amazon S3, XGBoost, Algos, AutoML, Core V3, Core V4\n",
       "Python version:             3.6.8 final\n",
       "--------------------------  ---------------------------------------------------"
      ]
     },
     "metadata": {},
     "output_type": "display_data"
    }
   ],
   "source": [
    "# Using h2o\n",
    "import h2o\n",
    "h2o.init(nthreads = -1, max_mem_size = 15)"
   ]
  },
  {
   "cell_type": "markdown",
   "metadata": {},
   "source": [
    "### Brief framework.\n",
    "\n",
    "We will be building according the following framework (similar to how we did for PCA).\n",
    "\n",
    "Given set of columns, we should be able to do the following :\n",
    "\n",
    "1. Train model on training set.\n",
    "\n",
    "2. Validate on validation set.\n",
    "\n",
    "3. Generate predicitons on test data.\n",
    "\n",
    "4. Do cross validation on combined set of training/validation data.\n"
   ]
  },
  {
   "cell_type": "code",
   "execution_count": 114,
   "metadata": {},
   "outputs": [],
   "source": [
    "ALL_CATEGORICAL_COLUMNS = ['MSSubClass',\n",
    " 'MSZoning',\n",
    " 'Street',\n",
    " 'LotShape',\n",
    " 'LandContour',\n",
    " 'Utilities',\n",
    " 'LotConfig',\n",
    " 'LandSlope',\n",
    " 'Neighborhood',\n",
    " 'Condition1',\n",
    " 'Condition2',\n",
    " 'BldgType',\n",
    " 'HouseStyle',\n",
    " 'RoofStyle',\n",
    " 'RoofMatl',\n",
    " 'Exterior1st',\n",
    " 'Exterior2nd',\n",
    " 'MasVnrType',\n",
    " 'ExterQual',\n",
    " 'ExterCond',\n",
    " 'Foundation',\n",
    " 'BsmtQual',\n",
    " 'BsmtCond',\n",
    " 'BsmtExposure',\n",
    " 'BsmtFinType1',\n",
    " 'BsmtFinType2',\n",
    " 'Heating',\n",
    " 'HeatingQC',\n",
    " 'CentralAir',\n",
    " 'Electrical',\n",
    " 'KitchenQual',\n",
    " 'Functional',\n",
    " 'FireplaceQu',\n",
    " 'GarageType',\n",
    " 'GarageFinish',\n",
    " 'GarageQual',\n",
    " 'GarageCond',\n",
    " 'PavedDrive',\n",
    " 'PoolQC',\n",
    " 'Fence',\n",
    " 'MiscFeature',\n",
    " 'MoSold',\n",
    " 'YrSold',\n",
    " 'SaleType',\n",
    " 'SaleCondition']"
   ]
  },
  {
   "cell_type": "code",
   "execution_count": 115,
   "metadata": {},
   "outputs": [],
   "source": [
    "ALL_NUMERICAL_COLUMNS = ['LotArea',\n",
    " 'OverallQual',\n",
    " 'OverallCond',\n",
    " 'YearBuilt',\n",
    " 'YearRemodAdd',\n",
    " 'MasVnrArea_times_not_missing',\n",
    " 'MasVnrArea_not_missing',\n",
    " 'BsmtFinSF1',\n",
    " 'BsmtUnfSF',\n",
    " 'TotalBsmtSF',\n",
    " '1stFlrSF',\n",
    " '2ndFlrSF',\n",
    " 'LowQualFinSF',\n",
    " 'GrLivArea',\n",
    " 'BsmtFullBath',\n",
    " 'BsmtHalfBath',\n",
    " 'FullBath',\n",
    " 'HalfBath',\n",
    " 'BedroomAbvGr',\n",
    " 'KitchenAbvGr',\n",
    " 'TotRmsAbvGrd',\n",
    " 'Fireplaces',\n",
    " 'GarageYrBlt_times_not_missing',\n",
    " 'GarageYrBlt_not_missing',\n",
    " 'GarageCars',\n",
    " 'GarageArea',\n",
    " 'WoodDeckSF',\n",
    " 'OpenPorchSF',\n",
    " 'EnclosedPorch',\n",
    " '3SsnPorch',\n",
    " 'ScreenPorch',\n",
    " 'PoolArea',\n",
    " 'MiscVal']"
   ]
  },
  {
   "cell_type": "code",
   "execution_count": 116,
   "metadata": {},
   "outputs": [],
   "source": [
    "ALL_COLUMNS = ALL_CATEGORICAL_COLUMNS + ALL_NUMERICAL_COLUMNS"
   ]
  },
  {
   "cell_type": "code",
   "execution_count": 117,
   "metadata": {},
   "outputs": [],
   "source": [
    "# Columns the model to be trained \n",
    "# Check out ExterQual and YearBuilt instead of YearRemodAdd\n",
    "# Check out BsmtCond\n",
    "#cat_cols_in_model = ['MSSubClass', 'Neighborhood', 'ExterQual', 'Foundation', 'BsmtQual', 'BsmtCond',\n",
    "#                     'BsmtFinType1']\n",
    "#numeric_cols_in_model = ['GrLivArea', 'OverallQual', 'OverallCond', 'YearRemodAdd', 'BsmtFinSF1', \n",
    "#                         'TotalBsmtSF']\n",
    "# Check out GarageCond\n",
    "cat_cols_in_model = ['MSSubClass', 'Neighborhood']\n",
    "numeric_cols_in_model = ['GrLivArea', 'OverallQual', 'OverallCond', 'YearRemodAdd', 'BsmtFinSF1', \n",
    "                         'TotalBsmtSF', '1stFlrSF', '2ndFlrSF', 'GarageArea', 'LowQualFinSF']\n",
    "\n",
    "all_cols_in_model = cat_cols_in_model + numeric_cols_in_model\n",
    "all_cols_in_model = ['OverallQual']\n",
    "dep_var_col = 'LogSalePrice'"
   ]
  },
  {
   "cell_type": "code",
   "execution_count": 118,
   "metadata": {},
   "outputs": [
    {
     "data": {
      "text/plain": [
       "['OverallQual']"
      ]
     },
     "execution_count": 118,
     "metadata": {},
     "output_type": "execute_result"
    }
   ],
   "source": [
    "all_cols_in_model"
   ]
  },
  {
   "cell_type": "markdown",
   "metadata": {},
   "source": [
    "#### Training model on the training set\n"
   ]
  },
  {
   "cell_type": "code",
   "execution_count": 119,
   "metadata": {},
   "outputs": [],
   "source": [
    "def get_h2o_frame_with_rel_factors(test_data):\n",
    "    test_data_h2o = h2o.H2OFrame(test_data)\n",
    "    for col in ALL_CATEGORICAL_COLUMNS:\n",
    "        test_data_h2o[col] = test_data_h2o[col].asfactor()\n",
    "    return test_data_h2o"
   ]
  },
  {
   "cell_type": "code",
   "execution_count": 120,
   "metadata": {},
   "outputs": [],
   "source": [
    "from h2o.estimators.gbm import H2OGradientBoostingEstimator"
   ]
  },
  {
   "cell_type": "code",
   "execution_count": 121,
   "metadata": {},
   "outputs": [
    {
     "name": "stdout",
     "output_type": "stream",
     "text": [
      "Parse progress: |█████████████████████████████████████████████████████████| 100%\n",
      "gbm Model Build progress: |███████████████████████████████████████████████| 100%\n"
     ]
    }
   ],
   "source": [
    "hpr_1 = H2OGradientBoostingEstimator(model_id='housing_price_regression', seed=1)\n",
    "hpr_1.train(x=all_cols_in_model, \n",
    "            y=dep_var_col, \n",
    "            training_frame=get_h2o_frame_with_rel_factors(train_data))"
   ]
  },
  {
   "cell_type": "code",
   "execution_count": 122,
   "metadata": {},
   "outputs": [
    {
     "name": "stdout",
     "output_type": "stream",
     "text": [
      "Parse progress: |█████████████████████████████████████████████████████████| 100%\n",
      "gbm prediction progress: |████████████████████████████████████████████████| 100%\n"
     ]
    }
   ],
   "source": [
    "predict_out = hpr_1.predict(\n",
    "    get_h2o_frame_with_rel_factors(train_data))                \n",
    "train_data['Predictions'] = predict_out.as_data_frame()['predict'].values.tolist()"
   ]
  },
  {
   "cell_type": "code",
   "execution_count": 123,
   "metadata": {},
   "outputs": [
    {
     "data": {
      "text/plain": [
       "0.2297343624924363"
      ]
     },
     "execution_count": 123,
     "metadata": {},
     "output_type": "execute_result"
    }
   ],
   "source": [
    "evaluate_model_score_given_predictions((train_data['Predictions'].values), \n",
    "                                       (train_data[dep_var_col].values))"
   ]
  },
  {
   "cell_type": "markdown",
   "metadata": {},
   "source": [
    "#### Inspect the output model\n",
    "\n",
    "It may seem like a trivial thing, but shouldn't we inspect the model to see what exactly it does ? This is especially important in data science and it is very easy to get entangled in a quagmire of models and functions without clearly understanding what any of them does.\n"
   ]
  },
  {
   "cell_type": "code",
   "execution_count": 124,
   "metadata": {},
   "outputs": [],
   "source": [
    "from h2o.tree import H2OTree\n",
    "tree = H2OTree(model = hpr_1, tree_number = 0, tree_class = None)"
   ]
  },
  {
   "cell_type": "code",
   "execution_count": 125,
   "metadata": {},
   "outputs": [
    {
     "data": {
      "text/plain": [
       "<h2o.tree.tree.H2OTree at 0x12fa327f0>"
      ]
     },
     "execution_count": 125,
     "metadata": {},
     "output_type": "execute_result"
    }
   ],
   "source": [
    "tree"
   ]
  },
  {
   "cell_type": "code",
   "execution_count": 126,
   "metadata": {},
   "outputs": [
    {
     "data": {
      "text/plain": [
       "15"
      ]
     },
     "execution_count": 126,
     "metadata": {},
     "output_type": "execute_result"
    }
   ],
   "source": [
    "len(tree)"
   ]
  },
  {
   "cell_type": "code",
   "execution_count": 127,
   "metadata": {},
   "outputs": [
    {
     "name": "stdout",
     "output_type": "stream",
     "text": [
      "Tree related to model housing_price_regression. Tree number is 0, tree class is 'None'\n",
      "\n",
      "\n"
     ]
    }
   ],
   "source": [
    "print(tree)"
   ]
  },
  {
   "cell_type": "code",
   "execution_count": 128,
   "metadata": {},
   "outputs": [
    {
     "data": {
      "text/plain": [
       "[None,\n",
       " None,\n",
       " None,\n",
       " None,\n",
       " None,\n",
       " None,\n",
       " None,\n",
       " None,\n",
       " None,\n",
       " None,\n",
       " None,\n",
       " None,\n",
       " None,\n",
       " None,\n",
       " None]"
      ]
     },
     "execution_count": 128,
     "metadata": {},
     "output_type": "execute_result"
    }
   ],
   "source": [
    "tree.levels"
   ]
  },
  {
   "cell_type": "code",
   "execution_count": 129,
   "metadata": {},
   "outputs": [
    {
     "data": {
      "text/plain": [
       "0"
      ]
     },
     "execution_count": 129,
     "metadata": {},
     "output_type": "execute_result"
    }
   ],
   "source": [
    "tree.tree_number"
   ]
  },
  {
   "cell_type": "code",
   "execution_count": 130,
   "metadata": {},
   "outputs": [
    {
     "name": "stdout",
     "output_type": "stream",
     "text": [
      "Tree related to model housing_price_regression. Tree number is 0, tree class is 'None'\n",
      "\n",
      "\n"
     ]
    }
   ],
   "source": [
    "tree.show()"
   ]
  },
  {
   "cell_type": "code",
   "execution_count": 131,
   "metadata": {},
   "outputs": [
    {
     "name": "stdout",
     "output_type": "stream",
     "text": [
      "Node ID 0 \n",
      "Left child node ID = 1\n",
      "Right child node ID = 2\n",
      "\n",
      "Splits on column OverallQual\n",
      "Split threshold < 6.5 to the left node, >= 6.5 to the right node \n",
      "\n",
      "NA values go to the LEFT\n"
     ]
    }
   ],
   "source": [
    "print(tree.root_node)"
   ]
  },
  {
   "cell_type": "code",
   "execution_count": 132,
   "metadata": {},
   "outputs": [
    {
     "name": "stdout",
     "output_type": "stream",
     "text": [
      "Node ID 1 \n",
      "Left child node ID = 3\n",
      "Right child node ID = 4\n",
      "\n",
      "Splits on column OverallQual\n",
      "Split threshold < 4.5 to the left node, >= 4.5 to the right node \n",
      "\n",
      "NA values go to the RIGHT\n"
     ]
    }
   ],
   "source": [
    "print(tree.root_node.left_child)"
   ]
  },
  {
   "cell_type": "markdown",
   "metadata": {},
   "source": [
    "#### Testing model on validation set"
   ]
  },
  {
   "cell_type": "code",
   "execution_count": 133,
   "metadata": {},
   "outputs": [
    {
     "name": "stdout",
     "output_type": "stream",
     "text": [
      "Parse progress: |█████████████████████████████████████████████████████████| 100%\n",
      "gbm prediction progress: |████████████████████████████████████████████████| 100%\n"
     ]
    }
   ],
   "source": [
    "predict_out = hpr_1.predict(\n",
    "    get_h2o_frame_with_rel_factors(validation_data))                \n",
    "validation_data['Predictions'] = predict_out.as_data_frame()['predict'].values.tolist()"
   ]
  },
  {
   "cell_type": "code",
   "execution_count": 134,
   "metadata": {},
   "outputs": [],
   "source": [
    "#evaluate_model_score_given_predictions(np.log(validation_data['Predictions'].values), \n",
    "#                                       np.log(validation_data[dep_var_col].values))"
   ]
  },
  {
   "cell_type": "code",
   "execution_count": 135,
   "metadata": {},
   "outputs": [
    {
     "name": "stdout",
     "output_type": "stream",
     "text": [
      "0.23048405571983568\n"
     ]
    }
   ],
   "source": [
    "validation_score = evaluate_model_score_given_predictions((validation_data['Predictions'].values), \n",
    "                                                          (validation_data[dep_var_col].values))\n",
    "print(validation_score)"
   ]
  },
  {
   "cell_type": "markdown",
   "metadata": {},
   "source": [
    "#### Generate predictions on test data"
   ]
  },
  {
   "cell_type": "code",
   "execution_count": 136,
   "metadata": {},
   "outputs": [],
   "source": [
    "test_data_one_hot = pd.read_csv('../../cleaned_input/test_data_one_hot.csv')"
   ]
  },
  {
   "cell_type": "code",
   "execution_count": 137,
   "metadata": {},
   "outputs": [],
   "source": [
    "test_data['LogMasVnrArea_times_not_missing'] = test_data_one_hot['LogMasVnrArea_times_not_missing']"
   ]
  },
  {
   "cell_type": "code",
   "execution_count": 138,
   "metadata": {},
   "outputs": [
    {
     "data": {
      "text/plain": [
       "OverallQual    0\n",
       "dtype: int64"
      ]
     },
     "execution_count": 138,
     "metadata": {},
     "output_type": "execute_result"
    }
   ],
   "source": [
    "test_data[all_cols_in_model].isnull().sum()"
   ]
  },
  {
   "cell_type": "code",
   "execution_count": 139,
   "metadata": {},
   "outputs": [
    {
     "name": "stdout",
     "output_type": "stream",
     "text": [
      "Parse progress: |█████████████████████████████████████████████████████████| 100%\n",
      "gbm Model Build progress: |███████████████████████████████████████████████| 100%\n"
     ]
    }
   ],
   "source": [
    "hpr_1 = H2OGradientBoostingEstimator(model_id='housing_price_regression', seed=1)\n",
    "hpr_1.train(x=all_cols_in_model, \n",
    "            y=dep_var_col, \n",
    "            training_frame=get_h2o_frame_with_rel_factors(train_validation_data))"
   ]
  },
  {
   "cell_type": "code",
   "execution_count": 140,
   "metadata": {},
   "outputs": [
    {
     "name": "stdout",
     "output_type": "stream",
     "text": [
      "Parse progress: |█████████████████████████████████████████████████████████| 100%\n",
      "gbm prediction progress: |████████████████████████████████████████████████| 100%\n"
     ]
    }
   ],
   "source": [
    "predict_out = hpr_1.predict(\n",
    "    get_h2o_frame_with_rel_factors(test_data))                \n",
    "test_data['Predictions'] = predict_out.as_data_frame()['predict'].values.tolist()"
   ]
  },
  {
   "cell_type": "markdown",
   "metadata": {},
   "source": [
    "#### Cross validation"
   ]
  },
  {
   "cell_type": "code",
   "execution_count": 141,
   "metadata": {},
   "outputs": [
    {
     "name": "stdout",
     "output_type": "stream",
     "text": [
      "Parse progress: |█████████████████████████████████████████████████████████| 100%\n",
      "gbm Model Build progress: |███████████████████████████████████████████████| 100%\n"
     ]
    }
   ],
   "source": [
    "# Do a 10 fold cross validation as that is done typically.\n",
    "hpr_cross_val = H2OGradientBoostingEstimator(model_id='housing_price_regression', \n",
    "                                             seed=1, \n",
    "                                             nfolds=5,\n",
    "                                             keep_cross_validation_predictions=True)\n",
    "hpr_cross_val.train(x=all_cols_in_model, \n",
    "                    y=dep_var_col, \n",
    "                    training_frame=get_h2o_frame_with_rel_factors(train_validation_data))\n"
   ]
  },
  {
   "cell_type": "code",
   "execution_count": 142,
   "metadata": {},
   "outputs": [
    {
     "name": "stdout",
     "output_type": "stream",
     "text": [
      "Model Details\n",
      "=============\n",
      "H2OGradientBoostingEstimator :  Gradient Boosting Machine\n",
      "Model Key:  housing_price_regression\n",
      "\n",
      "\n",
      "ModelMetricsRegression: gbm\n",
      "** Reported on train data. **\n",
      "\n",
      "MSE: 0.05283147764757129\n",
      "RMSE: 0.2298509900948249\n",
      "MAE: 0.1729413862097753\n",
      "RMSLE: 0.017775319501599753\n",
      "Mean Residual Deviance: 0.05283147764757129\n",
      "\n",
      "ModelMetricsRegression: gbm\n",
      "** Reported on cross-validation data. **\n",
      "\n",
      "MSE: 0.053578162226033635\n",
      "RMSE: 0.23146957084254863\n",
      "MAE: 0.17412129196219545\n",
      "RMSLE: 0.017903618872038885\n",
      "Mean Residual Deviance: 0.053578162226033635\n",
      "Cross-Validation Metrics Summary: \n"
     ]
    },
    {
     "data": {
      "text/html": [
       "<div style=\"overflow:auto\"><table style=\"width:50%\"><tr><td><b></b></td>\n",
       "<td><b>mean</b></td>\n",
       "<td><b>sd</b></td>\n",
       "<td><b>cv_1_valid</b></td>\n",
       "<td><b>cv_2_valid</b></td>\n",
       "<td><b>cv_3_valid</b></td>\n",
       "<td><b>cv_4_valid</b></td>\n",
       "<td><b>cv_5_valid</b></td></tr>\n",
       "<tr><td>mae</td>\n",
       "<td>0.1739756</td>\n",
       "<td>0.0092284</td>\n",
       "<td>0.1981142</td>\n",
       "<td>0.1597065</td>\n",
       "<td>0.1712044</td>\n",
       "<td>0.1744567</td>\n",
       "<td>0.1663963</td></tr>\n",
       "<tr><td>mean_residual_deviance</td>\n",
       "<td>0.0534754</td>\n",
       "<td>0.0066526</td>\n",
       "<td>0.0690148</td>\n",
       "<td>0.0393210</td>\n",
       "<td>0.0531473</td>\n",
       "<td>0.0527417</td>\n",
       "<td>0.0531521</td></tr>\n",
       "<tr><td>mse</td>\n",
       "<td>0.0534754</td>\n",
       "<td>0.0066526</td>\n",
       "<td>0.0690148</td>\n",
       "<td>0.0393210</td>\n",
       "<td>0.0531473</td>\n",
       "<td>0.0527417</td>\n",
       "<td>0.0531521</td></tr>\n",
       "<tr><td>r2</td>\n",
       "<td>0.6645809</td>\n",
       "<td>0.0160242</td>\n",
       "<td>0.6453004</td>\n",
       "<td>0.6822407</td>\n",
       "<td>0.6457014</td>\n",
       "<td>0.6491643</td>\n",
       "<td>0.700498</td></tr>\n",
       "<tr><td>residual_deviance</td>\n",
       "<td>0.0534754</td>\n",
       "<td>0.0066526</td>\n",
       "<td>0.0690148</td>\n",
       "<td>0.0393210</td>\n",
       "<td>0.0531473</td>\n",
       "<td>0.0527417</td>\n",
       "<td>0.0531521</td></tr>\n",
       "<tr><td>rmse</td>\n",
       "<td>0.2303484</td>\n",
       "<td>0.0144050</td>\n",
       "<td>0.2627068</td>\n",
       "<td>0.1982952</td>\n",
       "<td>0.2305369</td>\n",
       "<td>0.2296556</td>\n",
       "<td>0.2305475</td></tr>\n",
       "<tr><td>rmsle</td>\n",
       "<td>0.0178089</td>\n",
       "<td>0.0011740</td>\n",
       "<td>0.0204315</td>\n",
       "<td>0.0151848</td>\n",
       "<td>0.0177887</td>\n",
       "<td>0.0177245</td>\n",
       "<td>0.0179152</td></tr></table></div>"
      ],
      "text/plain": [
       "                        mean       sd          cv_1_valid    cv_2_valid    cv_3_valid    cv_4_valid    cv_5_valid\n",
       "----------------------  ---------  ----------  ------------  ------------  ------------  ------------  ------------\n",
       "mae                     0.173976   0.00922841  0.198114      0.159706      0.171204      0.174457      0.166396\n",
       "mean_residual_deviance  0.0534754  0.00665261  0.0690148     0.039321      0.0531473     0.0527417     0.0531521\n",
       "mse                     0.0534754  0.00665261  0.0690148     0.039321      0.0531473     0.0527417     0.0531521\n",
       "r2                      0.664581   0.0160242   0.6453        0.682241      0.645701      0.649164      0.700498\n",
       "residual_deviance       0.0534754  0.00665261  0.0690148     0.039321      0.0531473     0.0527417     0.0531521\n",
       "rmse                    0.230348   0.014405    0.262707      0.198295      0.230537      0.229656      0.230547\n",
       "rmsle                   0.0178089  0.001174    0.0204315     0.0151848     0.0177887     0.0177245     0.0179152"
      ]
     },
     "metadata": {},
     "output_type": "display_data"
    },
    {
     "name": "stdout",
     "output_type": "stream",
     "text": [
      "Scoring History: \n"
     ]
    },
    {
     "data": {
      "text/html": [
       "<div style=\"overflow:auto\"><table style=\"width:50%\"><tr><td><b></b></td>\n",
       "<td><b>timestamp</b></td>\n",
       "<td><b>duration</b></td>\n",
       "<td><b>number_of_trees</b></td>\n",
       "<td><b>training_rmse</b></td>\n",
       "<td><b>training_mae</b></td>\n",
       "<td><b>training_deviance</b></td></tr>\n",
       "<tr><td></td>\n",
       "<td>2019-04-12 12:23:09</td>\n",
       "<td> 0.162 sec</td>\n",
       "<td>0.0</td>\n",
       "<td>0.3993151</td>\n",
       "<td>0.3098117</td>\n",
       "<td>0.1594525</td></tr>\n",
       "<tr><td></td>\n",
       "<td>2019-04-12 12:23:09</td>\n",
       "<td> 0.165 sec</td>\n",
       "<td>1.0</td>\n",
       "<td>0.3730871</td>\n",
       "<td>0.2883666</td>\n",
       "<td>0.1391940</td></tr>\n",
       "<tr><td></td>\n",
       "<td>2019-04-12 12:23:09</td>\n",
       "<td> 0.166 sec</td>\n",
       "<td>2.0</td>\n",
       "<td>0.3504063</td>\n",
       "<td>0.2697649</td>\n",
       "<td>0.1227845</td></tr>\n",
       "<tr><td></td>\n",
       "<td>2019-04-12 12:23:09</td>\n",
       "<td> 0.167 sec</td>\n",
       "<td>3.0</td>\n",
       "<td>0.3308971</td>\n",
       "<td>0.2537511</td>\n",
       "<td>0.1094929</td></tr>\n",
       "<tr><td></td>\n",
       "<td>2019-04-12 12:23:09</td>\n",
       "<td> 0.168 sec</td>\n",
       "<td>4.0</td>\n",
       "<td>0.3142081</td>\n",
       "<td>0.2400349</td>\n",
       "<td>0.0987267</td></tr>\n",
       "<tr><td>---</td>\n",
       "<td>---</td>\n",
       "<td>---</td>\n",
       "<td>---</td>\n",
       "<td>---</td>\n",
       "<td>---</td>\n",
       "<td>---</td></tr>\n",
       "<tr><td></td>\n",
       "<td>2019-04-12 12:23:09</td>\n",
       "<td> 0.225 sec</td>\n",
       "<td>46.0</td>\n",
       "<td>0.2298589</td>\n",
       "<td>0.1729028</td>\n",
       "<td>0.0528351</td></tr>\n",
       "<tr><td></td>\n",
       "<td>2019-04-12 12:23:09</td>\n",
       "<td> 0.226 sec</td>\n",
       "<td>47.0</td>\n",
       "<td>0.2298562</td>\n",
       "<td>0.1729144</td>\n",
       "<td>0.0528339</td></tr>\n",
       "<tr><td></td>\n",
       "<td>2019-04-12 12:23:09</td>\n",
       "<td> 0.228 sec</td>\n",
       "<td>48.0</td>\n",
       "<td>0.2298541</td>\n",
       "<td>0.1729246</td>\n",
       "<td>0.0528329</td></tr>\n",
       "<tr><td></td>\n",
       "<td>2019-04-12 12:23:09</td>\n",
       "<td> 0.229 sec</td>\n",
       "<td>49.0</td>\n",
       "<td>0.2298524</td>\n",
       "<td>0.1729339</td>\n",
       "<td>0.0528321</td></tr>\n",
       "<tr><td></td>\n",
       "<td>2019-04-12 12:23:09</td>\n",
       "<td> 0.231 sec</td>\n",
       "<td>50.0</td>\n",
       "<td>0.2298510</td>\n",
       "<td>0.1729414</td>\n",
       "<td>0.0528315</td></tr></table></div>"
      ],
      "text/plain": [
       "     timestamp            duration    number_of_trees    training_rmse        training_mae         training_deviance\n",
       "---  -------------------  ----------  -----------------  -------------------  -------------------  -------------------\n",
       "     2019-04-12 12:23:09  0.162 sec   0.0                0.39931505656031513  0.30981172461111245  0.15945251439576769\n",
       "     2019-04-12 12:23:09  0.165 sec   1.0                0.3730870839817307   0.2883665738040454   0.13919397223399096\n",
       "     2019-04-12 12:23:09  0.166 sec   2.0                0.3504062583228136   0.26976489302230205  0.12278454587179437\n",
       "     2019-04-12 12:23:09  0.167 sec   3.0                0.33089712573609276  0.25375114336405713  0.10949290782040756\n",
       "     2019-04-12 12:23:09  0.168 sec   4.0                0.31420809649272735  0.24003489833988556  0.09872672790158304\n",
       "---  ---                  ---         ---                ---                  ---                  ---\n",
       "     2019-04-12 12:23:09  0.225 sec   46.0               0.22985892324491244  0.17290278852802432  0.05283512459531055\n",
       "     2019-04-12 12:23:09  0.226 sec   47.0               0.2298562070869786   0.17291435803452584  0.05283387593641199\n",
       "     2019-04-12 12:23:09  0.228 sec   48.0               0.22985413283016484  0.17292462832307162  0.05283292237910706\n",
       "     2019-04-12 12:23:09  0.229 sec   49.0               0.22985235778547453  0.17293393709888197  0.0528321063795418\n",
       "     2019-04-12 12:23:09  0.231 sec   50.0               0.2298509900948249   0.1729413862097753   0.05283147764757129"
      ]
     },
     "metadata": {},
     "output_type": "display_data"
    },
    {
     "name": "stdout",
     "output_type": "stream",
     "text": [
      "\n",
      "See the whole table with table.as_data_frame()\n",
      "Variable Importances: \n"
     ]
    },
    {
     "data": {
      "text/html": [
       "<div style=\"overflow:auto\"><table style=\"width:50%\"><tr><td><b>variable</b></td>\n",
       "<td><b>relative_importance</b></td>\n",
       "<td><b>scaled_importance</b></td>\n",
       "<td><b>percentage</b></td></tr>\n",
       "<tr><td>OverallQual</td>\n",
       "<td>819.2989502</td>\n",
       "<td>1.0</td>\n",
       "<td>1.0</td></tr></table></div>"
      ],
      "text/plain": [
       "variable     relative_importance    scaled_importance    percentage\n",
       "-----------  ---------------------  -------------------  ------------\n",
       "OverallQual  819.299                1                    1"
      ]
     },
     "metadata": {},
     "output_type": "display_data"
    },
    {
     "data": {
      "text/plain": [
       "<bound method ModelBase.cross_validation_predictions of >"
      ]
     },
     "execution_count": 142,
     "metadata": {},
     "output_type": "execute_result"
    }
   ],
   "source": [
    "hpr_cross_val.cross_validation_predictions"
   ]
  },
  {
   "cell_type": "code",
   "execution_count": 143,
   "metadata": {},
   "outputs": [],
   "source": [
    "def get_cross_validated_rmse(hpr_cross_val):\n",
    "    cv_preds = hpr_cross_val.cross_validation_predictions()\n",
    "    for i in range(len(cv_preds)):\n",
    "        if i == 0:\n",
    "            result_cv = cv_preds[0]['predict'].as_data_frame().copy()\n",
    "        else:\n",
    "            result_cv +=  cv_preds[i]['predict'].as_data_frame()\n",
    "    return evaluate_model_score_given_predictions(result_cv, train_validation_data['LogSalePrice'])    "
   ]
  },
  {
   "cell_type": "code",
   "execution_count": 144,
   "metadata": {},
   "outputs": [
    {
     "data": {
      "text/plain": [
       "0.2314695712659162"
      ]
     },
     "execution_count": 144,
     "metadata": {},
     "output_type": "execute_result"
    }
   ],
   "source": [
    "get_cross_validated_rmse(hpr_cross_val)"
   ]
  },
  {
   "cell_type": "markdown",
   "metadata": {},
   "source": [
    "#### Model building in detail.\n",
    "\n",
    "We make sure that we exploit the capabilities given by the h2o module to the maximum.\n",
    "\n",
    "So in this section, we try to build models in multiple ways using different values for certain parameters and see how they perform. Here we go !"
   ]
  },
  {
   "cell_type": "code",
   "execution_count": 145,
   "metadata": {},
   "outputs": [],
   "source": [
    "# # Build the model using default parameters and evaluate error on the training/validation set.\n",
    "\n",
    "# hpr_1 = H2OGradientBoostingEstimator(model_id='housing_price_regression', \n",
    "#                                      seed=1,\n",
    "#                                      ntrees=50,\n",
    "#                                      learn_rate=0.1,\n",
    "#                                      stopping_rounds=0)\n",
    "# hpr_1.train(x=all_cols_in_model, \n",
    "#             y=dep_var_col, \n",
    "#             training_frame=get_h2o_frame_with_rel_factors(train_data),\n",
    "\n",
    "#             validation_frame=None)\n",
    "\n",
    "# predict_out = hpr_1.predict(\n",
    "#     get_h2o_frame_with_rel_factors(train_data))                \n",
    "# train_data['Predictions'] = predict_out.as_data_frame()['predict'].values.tolist()\n",
    "\n",
    "# print(\"Score on training data : \",\n",
    "#       evaluate_model_score_given_predictions((train_data['Predictions'].values), \n",
    "#                                              (train_data[dep_var_col].values)))\n",
    "\n",
    "\n",
    "\n",
    "# predict_out = hpr_1.predict(\n",
    "#     get_h2o_frame_with_rel_factors(validation_data))                \n",
    "# validation_data['Predictions'] = predict_out.as_data_frame()['predict'].values.tolist()\n",
    "\n",
    "# print(\"Score on training data : \",\n",
    "#       evaluate_model_score_given_predictions((validation_data['Predictions'].values), \n",
    "#                                              (validation_data[dep_var_col].values)))\n",
    "\n"
   ]
  },
  {
   "cell_type": "code",
   "execution_count": 146,
   "metadata": {},
   "outputs": [],
   "source": [
    "# # Tinker with the learning rate alone here.\n",
    "# # Build the model using default parameters and evaluate error on the training/validation set.\n",
    "\n",
    "# hpr_1 = H2OGradientBoostingEstimator(model_id='housing_price_regression', \n",
    "#                                      seed=1,\n",
    "#                                      ntrees=50,\n",
    "#                                      learn_rate=0.01,\n",
    "#                                      stopping_rounds=0)\n",
    "# hpr_1.train(x=all_cols_in_model, \n",
    "#             y=dep_var_col, \n",
    "#             training_frame=get_h2o_frame_with_rel_factors(train_data),\n",
    "\n",
    "#             validation_frame=None)\n",
    "\n",
    "# predict_out = hpr_1.predict(\n",
    "#     get_h2o_frame_with_rel_factors(train_data))                \n",
    "# train_data['Predictions'] = predict_out.as_data_frame()['predict'].values.tolist()\n",
    "\n",
    "# print(\"Score on training data : \",\n",
    "#       evaluate_model_score_given_predictions((train_data['Predictions'].values), \n",
    "#                                              (train_data[dep_var_col].values)))\n",
    "\n",
    "\n",
    "\n",
    "# predict_out = hpr_1.predict(\n",
    "#     get_h2o_frame_with_rel_factors(validation_data))                \n",
    "# validation_data['Predictions'] = predict_out.as_data_frame()['predict'].values.tolist()\n",
    "\n",
    "# print(\"Score on training data : \",\n",
    "#       evaluate_model_score_given_predictions((validation_data['Predictions'].values), \n",
    "#                                              (validation_data[dep_var_col].values)))\n",
    "\n",
    "\n"
   ]
  },
  {
   "cell_type": "code",
   "execution_count": 147,
   "metadata": {},
   "outputs": [],
   "source": [
    "# # Try increasing the number of trees here and see whether it makes any difference.\n",
    "\n",
    "# hpr_1 = H2OGradientBoostingEstimator(model_id='housing_price_regression', \n",
    "#                                      seed=1,\n",
    "#                                      ntrees=500,\n",
    "#                                      learn_rate=0.01,\n",
    "#                                      stopping_rounds=0)\n",
    "# hpr_1.train(x=all_cols_in_model, \n",
    "#             y=dep_var_col, \n",
    "#             training_frame=get_h2o_frame_with_rel_factors(train_data),\n",
    "\n",
    "#             validation_frame=None)\n",
    "\n",
    "# predict_out = hpr_1.predict(\n",
    "#     get_h2o_frame_with_rel_factors(train_data))                \n",
    "# train_data['Predictions'] = predict_out.as_data_frame()['predict'].values.tolist()\n",
    "\n",
    "# print(\"Score on training data : \",\n",
    "#       evaluate_model_score_given_predictions((train_data['Predictions'].values), \n",
    "#                                              (train_data[dep_var_col].values)))\n",
    "\n",
    "\n",
    "\n",
    "# predict_out = hpr_1.predict(\n",
    "#     get_h2o_frame_with_rel_factors(validation_data))                \n",
    "# validation_data['Predictions'] = predict_out.as_data_frame()['predict'].values.tolist()\n",
    "\n",
    "# print(\"Score on training data : \",\n",
    "#       evaluate_model_score_given_predictions((validation_data['Predictions'].values), \n",
    "#                                              (validation_data[dep_var_col].values)))\n",
    "\n",
    "\n"
   ]
  },
  {
   "cell_type": "code",
   "execution_count": 148,
   "metadata": {},
   "outputs": [],
   "source": [
    "# # Now comes the real boosting tree part. Add in a validation frame and set a value for stopping rounds as well.\n",
    "\n",
    "# hpr_1 = H2OGradientBoostingEstimator(model_id='housing_price_regression', \n",
    "#                                      seed=1,\n",
    "#                                      ntrees=50,\n",
    "#                                      learn_rate=0.1,\n",
    "#                                      stopping_rounds=5)\n",
    "# hpr_1.train(x=all_cols_in_model, \n",
    "#             y=dep_var_col, \n",
    "#             training_frame=get_h2o_frame_with_rel_factors(train_data),\n",
    "\n",
    "#             validation_frame=get_h2o_frame_with_rel_factors(validation_data))\n",
    "\n",
    "# predict_out = hpr_1.predict(\n",
    "#     get_h2o_frame_with_rel_factors(train_data))                \n",
    "# train_data['Predictions'] = predict_out.as_data_frame()['predict'].values.tolist()\n",
    "\n",
    "# print(\"Score on training data : \",\n",
    "#       evaluate_model_score_given_predictions((train_data['Predictions'].values), \n",
    "#                                              (train_data[dep_var_col].values)))\n",
    "\n",
    "\n",
    "\n",
    "# predict_out = hpr_1.predict(\n",
    "#     get_h2o_frame_with_rel_factors(validation_data))                \n",
    "# validation_data['Predictions'] = predict_out.as_data_frame()['predict'].values.tolist()\n",
    "\n",
    "# print(\"Score on training data : \",\n",
    "#       evaluate_model_score_given_predictions((validation_data['Predictions'].values), \n",
    "#                                              (validation_data[dep_var_col].values)))\n",
    "\n",
    "\n"
   ]
  },
  {
   "cell_type": "code",
   "execution_count": 149,
   "metadata": {},
   "outputs": [],
   "source": [
    "# # Now comes the real boosting tree part. Add in a validation frame and set a value for stopping rounds as well.\n",
    "# # Increases the number of trees to 500.\n",
    "# hpr_1 = H2OGradientBoostingEstimator(model_id='housing_price_regression', \n",
    "#                                      seed=1,\n",
    "#                                      ntrees=500,\n",
    "#                                      learn_rate=0.01,\n",
    "#                                      stopping_rounds=5)\n",
    "# hpr_1.train(x=all_cols_in_model, \n",
    "#             y=dep_var_col, \n",
    "#             training_frame=get_h2o_frame_with_rel_factors(train_data),\n",
    "\n",
    "#             validation_frame=get_h2o_frame_with_rel_factors(validation_data))\n",
    "\n",
    "# predict_out = hpr_1.predict(\n",
    "#     get_h2o_frame_with_rel_factors(train_data))                \n",
    "# train_data['Predictions'] = predict_out.as_data_frame()['predict'].values.tolist()\n",
    "\n",
    "# print(\"Score on training data : \",\n",
    "#       evaluate_model_score_given_predictions((train_data['Predictions'].values), \n",
    "#                                              (train_data[dep_var_col].values)))\n",
    "\n",
    "\n",
    "\n",
    "# predict_out = hpr_1.predict(\n",
    "#     get_h2o_frame_with_rel_factors(validation_data))                \n",
    "# validation_data['Predictions'] = predict_out.as_data_frame()['predict'].values.tolist()\n",
    "\n",
    "# print(\"Score on training data : \",\n",
    "#       evaluate_model_score_given_predictions((validation_data['Predictions'].values), \n",
    "#                                              (validation_data[dep_var_col].values)))\n",
    "\n",
    "\n"
   ]
  },
  {
   "cell_type": "code",
   "execution_count": 150,
   "metadata": {},
   "outputs": [],
   "source": [
    "# # Now let us try cross validation along with stopping and see where we end up.\n",
    "# hpr_1 = H2OGradientBoostingEstimator(model_id='housing_price_regression', \n",
    "#                                      seed=1,\n",
    "#                                      ntrees=500,\n",
    "#                                      learn_rate=0.01,\n",
    "#                                      stopping_rounds=5,\n",
    "#                                      nfolds=5,\n",
    "#                                      keep_cross_validation_predictions=True)\n",
    "# hpr_1.train(x=all_cols_in_model, \n",
    "#             y=dep_var_col, \n",
    "#             training_frame=get_h2o_frame_with_rel_factors(train_validation_data))\n",
    "\n",
    "# print(\"Cross validaition score is \", get_cross_validated_rmse(hpr_1))"
   ]
  },
  {
   "cell_type": "code",
   "execution_count": 151,
   "metadata": {},
   "outputs": [],
   "source": [
    "# # Now let us try the same with a different number of trees.\n",
    "# hpr_1 = H2OGradientBoostingEstimator(model_id='housing_price_regression', \n",
    "#                                      seed=1,\n",
    "#                                      ntrees=50,\n",
    "#                                      learn_rate=0.1,\n",
    "#                                      stopping_rounds=5,\n",
    "#                                      nfolds=5,\n",
    "#                                      keep_cross_validation_predictions=True)\n",
    "# hpr_1.train(x=all_cols_in_model, \n",
    "#             y=dep_var_col, \n",
    "#             training_frame=get_h2o_frame_with_rel_factors(train_validation_data))\n",
    "\n",
    "# print(\"Cross validaition score is \", get_cross_validated_rmse(hpr_1))"
   ]
  },
  {
   "cell_type": "markdown",
   "metadata": {},
   "source": [
    "#### Conclusion.\n",
    "\n",
    "At this stage, after seeing outputs, it is difficult to say something concretly. The model outputs will definitely depend on the number of predictors and at this stage, with just just predictor, it does not look to make much of a difference."
   ]
  },
  {
   "cell_type": "markdown",
   "metadata": {},
   "source": [
    "### Try somewhat of a greedy method to select columns\n",
    "\n",
    "In this approach, we would start with an empty model and at every step, we would the predictor that would decrease the cross validation error the most. We have not fully automated it (it would be extremely easy to do so), but have built the model manually after inspection in each step. \n",
    "\n",
    "As simple as it seems, this looks to work pretty well. In fact, we were able to get a much better model, with almost no extra effort !"
   ]
  },
  {
   "cell_type": "code",
   "execution_count": 152,
   "metadata": {},
   "outputs": [],
   "source": [
    "import operator\n",
    "def get_cross_val_scores_new_col(base_model_cols, \n",
    "                                 ntrees=50,\n",
    "                                 learn_rate=0.1,\n",
    "                                 stopping_rounds=0,\n",
    "                                 train_validation_data=train_validation_data,\n",
    "                                 nfolds=5,\n",
    "                                 dep_var_col='LogSalePrice'):\n",
    "    columns_to_cross_val_score = dict()\n",
    "    for col in ALL_COLUMNS:\n",
    "        # If the column was already included, skip it.\n",
    "        if col in base_model_cols:\n",
    "            continue\n",
    "        \n",
    "        cur_model_cols = base_model_cols + [col]            \n",
    "        print(cur_model_cols)\n",
    "\n",
    "        # Do a 10 fold cross validation as that is done typically.\n",
    "        hpr_cross_val = H2OGradientBoostingEstimator(model_id='housing_price_regression', \n",
    "                                                    seed=1, \n",
    "                                                    ntrees=ntrees,\n",
    "                                                    learn_rate=learn_rate,\n",
    "                                                    stopping_rounds=stopping_rounds,\n",
    "                                                    nfolds=nfolds,\n",
    "                                                    keep_cross_validation_predictions=True)\n",
    "        hpr_cross_val.train(x=cur_model_cols, \n",
    "                            y=dep_var_col, \n",
    "                            training_frame=get_h2o_frame_with_rel_factors(train_validation_data))\n",
    "\n",
    "        cv_score = get_cross_validated_rmse(hpr_cross_val)\n",
    "\n",
    "        columns_to_cross_val_score[col] = cv_score\n",
    "    \n",
    "    sorted_cross_val_scores = sorted(columns_to_cross_val_score.items(), key=operator.itemgetter(1))\n",
    "    return sorted_cross_val_scores"
   ]
  },
  {
   "cell_type": "code",
   "execution_count": 153,
   "metadata": {},
   "outputs": [],
   "source": [
    "def get_cross_val_scores_given_cols(cur_model_cols,\n",
    "                                    ntrees=50,\n",
    "                                    learn_rate=0.1,\n",
    "                                    stopping_rounds=0,\n",
    "                                    train_validation_data=train_validation_data,\n",
    "                                    nfolds=5,\n",
    "                                    dep_var_col='LogSalePrice'):\n",
    "\n",
    "    # Do a 10 fold cross validation as that is done typically.\n",
    "    hpr_cross_val = H2OGradientBoostingEstimator(model_id='housing_price_regression', \n",
    "                                                 seed=1, \n",
    "                                                 ntrees=50,\n",
    "                                                 learn_rate=0.1,\n",
    "                                                 stopping_rounds=0,\n",
    "                                                 nfolds=nfolds,\n",
    "                                                 keep_cross_validation_predictions=True)\n",
    "    hpr_cross_val.train(x=cur_model_cols, \n",
    "                        y=dep_var_col, \n",
    "                        training_frame=get_h2o_frame_with_rel_factors(train_validation_data))\n",
    "\n",
    "    cv_score = get_cross_validated_rmse(hpr_cross_val)\n",
    "\n",
    "    return cv_score"
   ]
  },
  {
   "cell_type": "code",
   "execution_count": 154,
   "metadata": {},
   "outputs": [],
   "source": [
    "# Let us begin our testing on a good number of trees witha a low learning rate and see how it looks.\n",
    "#sorted_cross_val_scores = get_cross_val_scores_new_col([],ntrees=500, learn_rate=0.01)"
   ]
  },
  {
   "cell_type": "code",
   "execution_count": 155,
   "metadata": {},
   "outputs": [],
   "source": [
    "#sorted_cross_val_scores "
   ]
  },
  {
   "cell_type": "code",
   "execution_count": 156,
   "metadata": {
    "scrolled": false
   },
   "outputs": [],
   "source": [
    "# Let us check out default values now. We would not expect much of a difference here.\n",
    "#sorted_cross_val_scores = get_cross_val_scores_new_col([])"
   ]
  },
  {
   "cell_type": "code",
   "execution_count": 157,
   "metadata": {},
   "outputs": [],
   "source": [
    "#sorted_cross_val_scores"
   ]
  },
  {
   "cell_type": "code",
   "execution_count": 158,
   "metadata": {},
   "outputs": [],
   "source": [
    "# We do not see much of difference here. Let us try with stopping rounds (we do not expect to see much of a difference\n",
    "# here as well.)\n",
    "# Let us begin our testing on a good number of trees witha a low learning rate and see how it looks.\n",
    "#sorted_cross_val_scores = get_cross_val_scores_new_col([],ntrees=500, learn_rate=0.01, stopping_rounds=5)"
   ]
  },
  {
   "cell_type": "code",
   "execution_count": 159,
   "metadata": {},
   "outputs": [],
   "source": [
    "#sorted_cross_val_scores"
   ]
  },
  {
   "cell_type": "code",
   "execution_count": 160,
   "metadata": {
    "scrolled": false
   },
   "outputs": [],
   "source": [
    "#sorted_cross_val_scores = get_cross_val_scores_new_col(['OverallQual'])"
   ]
  },
  {
   "cell_type": "code",
   "execution_count": 161,
   "metadata": {},
   "outputs": [],
   "source": [
    "#sorted_cross_val_scores"
   ]
  },
  {
   "cell_type": "code",
   "execution_count": 162,
   "metadata": {},
   "outputs": [],
   "source": [
    "#sorted_cross_val_scores = get_cross_val_scores_new_col(['OverallQual'],ntrees=500, learn_rate=0.01, stopping_rounds=5)"
   ]
  },
  {
   "cell_type": "code",
   "execution_count": 163,
   "metadata": {},
   "outputs": [],
   "source": [
    "#sorted_cross_val_scores"
   ]
  },
  {
   "cell_type": "code",
   "execution_count": 164,
   "metadata": {
    "scrolled": false
   },
   "outputs": [],
   "source": [
    "#sorted_cross_val_scores = get_cross_val_scores_new_col(['OverallQual', 'GrLivArea'])"
   ]
  },
  {
   "cell_type": "code",
   "execution_count": 165,
   "metadata": {},
   "outputs": [],
   "source": [
    "#sorted_cross_val_scores\n"
   ]
  },
  {
   "cell_type": "code",
   "execution_count": 166,
   "metadata": {},
   "outputs": [],
   "source": [
    "# Do this after checkiing the earlier result to see if GrLivArea is the factor to be included.\n",
    "#sorted_cross_val_scores = get_cross_val_scores_new_col(['OverallQual', 'GrLivArea'],\n",
    "#                                                       ntrees=500, learn_rate=0.01, stopping_rounds=5)"
   ]
  },
  {
   "cell_type": "code",
   "execution_count": 167,
   "metadata": {},
   "outputs": [],
   "source": [
    "#sorted_cross_val_scores"
   ]
  },
  {
   "cell_type": "code",
   "execution_count": 168,
   "metadata": {},
   "outputs": [],
   "source": [
    "#sorted_cross_val_scores = get_cross_val_scores_new_col(['OverallQual', 'GrLivArea', 'Neighborhood'])"
   ]
  },
  {
   "cell_type": "code",
   "execution_count": 169,
   "metadata": {},
   "outputs": [],
   "source": [
    "#sorted_cross_val_scores"
   ]
  },
  {
   "cell_type": "code",
   "execution_count": 170,
   "metadata": {},
   "outputs": [],
   "source": [
    "# Do this after checkiing the earlier result to see if GrLivArea is the factor to be included.\n",
    "#sorted_cross_val_scores = get_cross_val_scores_new_col(['OverallQual', 'GrLivArea', 'Neighborhood'],\n",
    "#                                                       ntrees=500, learn_rate=0.01, stopping_rounds=5)"
   ]
  },
  {
   "cell_type": "code",
   "execution_count": 171,
   "metadata": {},
   "outputs": [],
   "source": [
    "#sorted_cross_val_scores"
   ]
  },
  {
   "cell_type": "code",
   "execution_count": 172,
   "metadata": {},
   "outputs": [],
   "source": [
    "#sorted_cross_val_scores = get_cross_val_scores_new_col(['OverallQual', 'GrLivArea', 'Neighborhood'],\n",
    "#                                                       ntrees=500, learn_rate=0.01)"
   ]
  },
  {
   "cell_type": "code",
   "execution_count": 173,
   "metadata": {},
   "outputs": [],
   "source": [
    "#sorted_cross_val_scores"
   ]
  },
  {
   "cell_type": "markdown",
   "metadata": {},
   "source": [
    "If the results shown above look right, go for the final model and apply stopping rounds to the same (you may want to check for the 'heat' variable.\n"
   ]
  },
  {
   "cell_type": "code",
   "execution_count": 174,
   "metadata": {
    "scrolled": false
   },
   "outputs": [],
   "source": [
    "# sorted_cross_val_scores = get_cross_val_scores_new_col(['OverallQual', \n",
    "#                                                         'Neighborhood', \n",
    "#                                                         'GrLivArea',\n",
    "#                                                         'BsmtFinSF1'])"
   ]
  },
  {
   "cell_type": "code",
   "execution_count": 175,
   "metadata": {},
   "outputs": [],
   "source": [
    "# sorted_cross_val_scores"
   ]
  },
  {
   "cell_type": "code",
   "execution_count": 176,
   "metadata": {},
   "outputs": [],
   "source": [
    "\n",
    "# sorted_cross_val_scores = get_cross_val_scores_new_col(['OverallQual', \n",
    "#                                                         'Neighborhood', \n",
    "#                                                         'GrLivArea',\n",
    "#                                                         'BsmtFinSF1',\n",
    "#                                                         'OverallCond'])\n"
   ]
  },
  {
   "cell_type": "code",
   "execution_count": 177,
   "metadata": {},
   "outputs": [],
   "source": [
    "# sorted_cross_val_scores"
   ]
  },
  {
   "cell_type": "code",
   "execution_count": 178,
   "metadata": {},
   "outputs": [],
   "source": [
    "\n",
    "# sorted_cross_val_scores = get_cross_val_scores_new_col(['OverallQual', \n",
    "#                                                         'Neighborhood', \n",
    "#                                                         'GrLivArea',\n",
    "#                                                         'BsmtFinSF1',\n",
    "#                                                         'OverallCond',\n",
    "#                                                         'GarageArea'])"
   ]
  },
  {
   "cell_type": "code",
   "execution_count": 179,
   "metadata": {},
   "outputs": [],
   "source": [
    "# sorted_cross_val_scores"
   ]
  },
  {
   "cell_type": "code",
   "execution_count": 180,
   "metadata": {},
   "outputs": [],
   "source": [
    "\n",
    "# sorted_cross_val_scores = get_cross_val_scores_new_col(['OverallQual', \n",
    "#                                                         'Neighborhood', \n",
    "#                                                         'GrLivArea',\n",
    "#                                                         'BsmtFinSF1',\n",
    "#                                                         'OverallCond',\n",
    "#                                                         'GarageArea',\n",
    "#                                                         'TotalBsmtSF'])\n"
   ]
  },
  {
   "cell_type": "code",
   "execution_count": 181,
   "metadata": {},
   "outputs": [],
   "source": [
    "# sorted_cross_val_scores"
   ]
  },
  {
   "cell_type": "code",
   "execution_count": 182,
   "metadata": {},
   "outputs": [],
   "source": [
    "\n",
    "\n",
    "# sorted_cross_val_scores = get_cross_val_scores_new_col(['OverallQual', \n",
    "#                                                         'Neighborhood', \n",
    "#                                                         'GrLivArea',\n",
    "#                                                         'BsmtFinSF1',\n",
    "#                                                         'OverallCond',\n",
    "#                                                         'GarageArea',\n",
    "#                                                         'TotalBsmtSF',\n",
    "#                                                         'YearBuilt'])\n"
   ]
  },
  {
   "cell_type": "code",
   "execution_count": 183,
   "metadata": {},
   "outputs": [],
   "source": [
    "# sorted_cross_val_scores"
   ]
  },
  {
   "cell_type": "code",
   "execution_count": 184,
   "metadata": {},
   "outputs": [],
   "source": [
    "# sorted_cross_val_scores = get_cross_val_scores_new_col(['OverallQual', \n",
    "#                                                         'Neighborhood', \n",
    "#                                                         'GrLivArea',\n",
    "#                                                         'BsmtFinSF1',\n",
    "#                                                         'OverallCond',\n",
    "#                                                         'GarageArea',\n",
    "#                                                         'TotalBsmtSF',\n",
    "#                                                         'YearBuilt',\n",
    "#                                                         'GarageFinish'])\n",
    "\n"
   ]
  },
  {
   "cell_type": "code",
   "execution_count": 185,
   "metadata": {},
   "outputs": [],
   "source": [
    "# sorted_cross_val_scores"
   ]
  },
  {
   "cell_type": "code",
   "execution_count": 186,
   "metadata": {},
   "outputs": [],
   "source": [
    "# sorted_cross_val_scores = get_cross_val_scores_new_col(['OverallQual', \n",
    "#                                                         'Neighborhood', \n",
    "#                                                         'GrLivArea',\n",
    "#                                                         'BsmtFinSF1',\n",
    "#                                                         'OverallCond',\n",
    "#                                                         'GarageArea',\n",
    "#                                                         'TotalBsmtSF',\n",
    "#                                                         'YearBuilt',\n",
    "#                                                         'GarageFinish',\n",
    "#                                                         'LotArea'])\n",
    "\n"
   ]
  },
  {
   "cell_type": "code",
   "execution_count": 187,
   "metadata": {},
   "outputs": [],
   "source": [
    "# sorted_cross_val_scores"
   ]
  },
  {
   "cell_type": "code",
   "execution_count": 188,
   "metadata": {},
   "outputs": [],
   "source": [
    "# sorted_cross_val_scores = get_cross_val_scores_new_col(['OverallQual', \n",
    "#                                                         'Neighborhood', \n",
    "#                                                         'GrLivArea',\n",
    "#                                                         'BsmtFinSF1',\n",
    "#                                                         'OverallCond',\n",
    "#                                                         'GarageArea',\n",
    "#                                                         'TotalBsmtSF',\n",
    "#                                                         'YearBuilt',\n",
    "#                                                         'GarageFinish',\n",
    "#                                                         'LotArea',\n",
    "#                                                         'CentralAir'])\n",
    "\n"
   ]
  },
  {
   "cell_type": "code",
   "execution_count": 189,
   "metadata": {},
   "outputs": [],
   "source": [
    "# sorted_cross_val_scores"
   ]
  },
  {
   "cell_type": "code",
   "execution_count": 190,
   "metadata": {},
   "outputs": [],
   "source": [
    "# sorted_cross_val_scores = get_cross_val_scores_new_col(['OverallQual', \n",
    "#                                                         'Neighborhood', \n",
    "#                                                         'GrLivArea',\n",
    "#                                                         'BsmtFinSF1',\n",
    "#                                                         'OverallCond',\n",
    "#                                                         'GarageArea',\n",
    "#                                                         'TotalBsmtSF',\n",
    "#                                                         'YearBuilt',\n",
    "#                                                         'GarageFinish',\n",
    "#                                                         'LotArea',\n",
    "#                                                         'CentralAir',\n",
    "#                                                         'BsmtFinType1'])\n",
    "\n"
   ]
  },
  {
   "cell_type": "code",
   "execution_count": 191,
   "metadata": {},
   "outputs": [],
   "source": [
    "# sorted_cross_val_scores"
   ]
  },
  {
   "cell_type": "code",
   "execution_count": 192,
   "metadata": {},
   "outputs": [],
   "source": [
    "# sorted_cross_val_scores = get_cross_val_scores_new_col(['OverallQual', \n",
    "#                                                         'Neighborhood', \n",
    "#                                                         'GrLivArea',\n",
    "#                                                         'BsmtFinSF1',\n",
    "#                                                         'OverallCond',\n",
    "#                                                         'GarageArea',\n",
    "#                                                         'TotalBsmtSF',\n",
    "#                                                         'YearBuilt',\n",
    "#                                                         'GarageFinish',\n",
    "#                                                         'LotArea',\n",
    "#                                                         'CentralAir',\n",
    "#                                                         'BsmtFinType1',\n",
    "#                                                         'KitchenAbvGr'])\n",
    "\n"
   ]
  },
  {
   "cell_type": "code",
   "execution_count": 193,
   "metadata": {},
   "outputs": [],
   "source": [
    "# sorted_cross_val_scores"
   ]
  },
  {
   "cell_type": "code",
   "execution_count": 194,
   "metadata": {},
   "outputs": [],
   "source": [
    "# sorted_cross_val_scores = get_cross_val_scores_new_col(['OverallQual', \n",
    "#                                                         'Neighborhood', \n",
    "#                                                         'GrLivArea',\n",
    "#                                                         'BsmtFinSF1',\n",
    "#                                                         'OverallCond',\n",
    "#                                                         'GarageArea',\n",
    "#                                                         'TotalBsmtSF',\n",
    "#                                                         'YearBuilt',\n",
    "#                                                         'GarageFinish',\n",
    "#                                                         'LotArea',\n",
    "#                                                         'CentralAir',\n",
    "#                                                         'BsmtFinType1',\n",
    "#                                                         'KitchenAbvGr',\n",
    "#                                                         'Condition1'])\n",
    "\n"
   ]
  },
  {
   "cell_type": "code",
   "execution_count": 195,
   "metadata": {},
   "outputs": [],
   "source": [
    "# sorted_cross_val_scores"
   ]
  },
  {
   "cell_type": "code",
   "execution_count": 196,
   "metadata": {},
   "outputs": [],
   "source": [
    "# sorted_cross_val_scores = get_cross_val_scores_new_col(['OverallQual', \n",
    "#                                                         'Neighborhood', \n",
    "#                                                         'GrLivArea',\n",
    "#                                                         'BsmtFinSF1',\n",
    "#                                                         'OverallCond',\n",
    "#                                                         'GarageArea',\n",
    "#                                                         'TotalBsmtSF',\n",
    "#                                                         'YearBuilt',\n",
    "#                                                         'GarageFinish',\n",
    "#                                                         'LotArea',\n",
    "#                                                         'CentralAir',\n",
    "#                                                         'BsmtFinType1',\n",
    "#                                                         'KitchenAbvGr',\n",
    "#                                                         'Condition1',\n",
    "#                                                         'ScreenPorch'])\n",
    "\n"
   ]
  },
  {
   "cell_type": "code",
   "execution_count": 197,
   "metadata": {},
   "outputs": [],
   "source": [
    "# sorted_cross_val_scores"
   ]
  },
  {
   "cell_type": "code",
   "execution_count": 198,
   "metadata": {},
   "outputs": [],
   "source": [
    "# sorted_cross_val_scores = get_cross_val_scores_new_col(['OverallQual', \n",
    "#                                                         'Neighborhood', \n",
    "#                                                         'GrLivArea',\n",
    "#                                                         'BsmtFinSF1',\n",
    "#                                                         'OverallCond',\n",
    "#                                                         'GarageArea',\n",
    "#                                                         'TotalBsmtSF',\n",
    "#                                                         'YearBuilt',\n",
    "#                                                         'GarageFinish',\n",
    "#                                                         'LotArea',\n",
    "#                                                         'CentralAir',\n",
    "#                                                         'BsmtFinType1',\n",
    "#                                                         'KitchenAbvGr',\n",
    "#                                                         'Condition1',\n",
    "#                                                         'ScreenPorch',\n",
    "#                                                         'BsmtFinType2'])\n",
    "\n"
   ]
  },
  {
   "cell_type": "code",
   "execution_count": 199,
   "metadata": {},
   "outputs": [],
   "source": [
    "# sorted_cross_val_scores"
   ]
  },
  {
   "cell_type": "code",
   "execution_count": 200,
   "metadata": {},
   "outputs": [],
   "source": [
    "# sorted_cross_val_scores = get_cross_val_scores_new_col(['OverallQual', \n",
    "#                                                         'Neighborhood', \n",
    "#                                                         'GrLivArea',\n",
    "#                                                         'BsmtFinSF1',\n",
    "#                                                         'OverallCond',\n",
    "#                                                         'GarageArea',\n",
    "#                                                         'TotalBsmtSF',\n",
    "#                                                         'YearBuilt',\n",
    "#                                                         'GarageFinish',\n",
    "#                                                         'LotArea',\n",
    "#                                                         'CentralAir',\n",
    "#                                                         'BsmtFinType1',\n",
    "#                                                         'KitchenAbvGr',\n",
    "#                                                         'Condition1',\n",
    "#                                                         'ScreenPorch',\n",
    "#                                                         'BsmtFinType2',\n",
    "#                                                         'Heating'])\n",
    "\n"
   ]
  },
  {
   "cell_type": "code",
   "execution_count": 201,
   "metadata": {},
   "outputs": [],
   "source": [
    "# cross_val_score_this_model = get_cross_val_scores_given_cols(['OverallQual', \n",
    "#                                                         'Neighborhood', \n",
    "#                                                         'GrLivArea',\n",
    "#                                                         'BsmtFinSF1',\n",
    "#                                                         'OverallCond',\n",
    "#                                                         'GarageArea',\n",
    "#                                                         'TotalBsmtSF',\n",
    "#                                                         'YearBuilt',\n",
    "#                                                         'GarageFinish',\n",
    "#                                                         'LotArea',\n",
    "#                                                         'CentralAir',\n",
    "#                                                         'BsmtFinType1',\n",
    "#                                                         'KitchenAbvGr',\n",
    "#                                                         'Condition1',\n",
    "#                                                         'ScreenPorch',\n",
    "#                                                         'BsmtFinType2',\n",
    "#                                                         'Heating'])\n",
    "\n"
   ]
  },
  {
   "cell_type": "code",
   "execution_count": 202,
   "metadata": {},
   "outputs": [],
   "source": [
    "# cross_val_score_this_model"
   ]
  },
  {
   "cell_type": "code",
   "execution_count": 203,
   "metadata": {},
   "outputs": [],
   "source": [
    "# sorted_cross_val_scores"
   ]
  },
  {
   "cell_type": "markdown",
   "metadata": {},
   "source": [
    "We see that the cross validation score is decreasing, indicating that we have reached a plateau. Let us make check out our cross validation score now."
   ]
  },
  {
   "cell_type": "code",
   "execution_count": 204,
   "metadata": {},
   "outputs": [],
   "source": [
    "final_cols = ['OverallQual', \n",
    "              'Neighborhood', \n",
    "              'GrLivArea',\n",
    "              'BsmtFinSF1',\n",
    "              'OverallCond',\n",
    "              'GarageArea',\n",
    "              'TotalBsmtSF',\n",
    "              'YearBuilt',\n",
    "              'GarageFinish',\n",
    "              'LotArea',\n",
    "              'CentralAir',\n",
    "              'BsmtFinType1',\n",
    "              'KitchenAbvGr',\n",
    "              'Condition1',\n",
    "              'ScreenPorch',\n",
    "              'BsmtFinType2',\n",
    "              'Heating']"
   ]
  },
  {
   "cell_type": "code",
   "execution_count": 205,
   "metadata": {},
   "outputs": [
    {
     "name": "stdout",
     "output_type": "stream",
     "text": [
      "Parse progress: |█████████████████████████████████████████████████████████| 100%\n",
      "gbm Model Build progress: |███████████████████████████████████████████████| 100%\n",
      "0.1256114948485721\n"
     ]
    }
   ],
   "source": [
    "cv_score = get_cross_val_scores_given_cols(final_cols)\n",
    "print(cv_score)\n"
   ]
  },
  {
   "cell_type": "markdown",
   "metadata": {},
   "source": [
    "#### Run at home BEGIN"
   ]
  },
  {
   "cell_type": "code",
   "execution_count": 206,
   "metadata": {},
   "outputs": [
    {
     "data": {
      "text/plain": [
       "'\\ncv_score = get_cross_val_scores_given_cols(final_cols, ntrees=500, learn_rate=0.01)\\nprint(cv_score)\\n'"
      ]
     },
     "execution_count": 206,
     "metadata": {},
     "output_type": "execute_result"
    }
   ],
   "source": [
    "'''\n",
    "cv_score = get_cross_val_scores_given_cols(final_cols, ntrees=500, learn_rate=0.01)\n",
    "print(cv_score)\n",
    "'''\n"
   ]
  },
  {
   "cell_type": "code",
   "execution_count": 207,
   "metadata": {},
   "outputs": [
    {
     "data": {
      "text/plain": [
       "'\\ncv_score = get_cross_val_scores_given_cols(final_cols, ntrees=500, learn_rate=0.01, stopping_rounds=5)\\nprint(cv_score)\\n'"
      ]
     },
     "execution_count": 207,
     "metadata": {},
     "output_type": "execute_result"
    }
   ],
   "source": [
    "'''\n",
    "cv_score = get_cross_val_scores_given_cols(final_cols, ntrees=500, learn_rate=0.01, stopping_rounds=5)\n",
    "print(cv_score)\n",
    "'''\n"
   ]
  },
  {
   "cell_type": "markdown",
   "metadata": {},
   "source": [
    "#### Run at home END"
   ]
  },
  {
   "cell_type": "markdown",
   "metadata": {},
   "source": [
    "#### Complete summary of the cross validation metrics."
   ]
  },
  {
   "cell_type": "code",
   "execution_count": 208,
   "metadata": {},
   "outputs": [
    {
     "name": "stdout",
     "output_type": "stream",
     "text": [
      "Parse progress: |█████████████████████████████████████████████████████████| 100%\n",
      "gbm Model Build progress: |███████████████████████████████████████████████| 100%\n"
     ]
    }
   ],
   "source": [
    "# Do a 10 fold cross validation as that is done typically.\n",
    "hpr_cross_val = H2OGradientBoostingEstimator(model_id='housing_price_regression', \n",
    "                                             seed=1, \n",
    "                                             nfolds=5,\n",
    "                                             keep_cross_validation_predictions=True)\n",
    "hpr_cross_val.train(x=final_cols, \n",
    "                    y=dep_var_col, \n",
    "                    training_frame=get_h2o_frame_with_rel_factors(train_validation_data))\n"
   ]
  },
  {
   "cell_type": "code",
   "execution_count": 209,
   "metadata": {},
   "outputs": [
    {
     "name": "stdout",
     "output_type": "stream",
     "text": [
      "Model Details\n",
      "=============\n",
      "H2OGradientBoostingEstimator :  Gradient Boosting Machine\n",
      "Model Key:  housing_price_regression\n",
      "\n",
      "\n",
      "ModelMetricsRegression: gbm\n",
      "** Reported on train data. **\n",
      "\n",
      "MSE: 0.005787660939965575\n",
      "RMSE: 0.07607667802924609\n",
      "MAE: 0.053875103388747125\n",
      "RMSLE: 0.005919316221845295\n",
      "Mean Residual Deviance: 0.005787660939965575\n",
      "\n",
      "ModelMetricsRegression: gbm\n",
      "** Reported on cross-validation data. **\n",
      "\n",
      "MSE: 0.015778247201824646\n",
      "RMSE: 0.12561149311199452\n",
      "MAE: 0.08664433888908148\n",
      "RMSLE: 0.00976176167592953\n",
      "Mean Residual Deviance: 0.015778247201824646\n",
      "Cross-Validation Metrics Summary: \n"
     ]
    },
    {
     "data": {
      "text/html": [
       "<div style=\"overflow:auto\"><table style=\"width:50%\"><tr><td><b></b></td>\n",
       "<td><b>mean</b></td>\n",
       "<td><b>sd</b></td>\n",
       "<td><b>cv_1_valid</b></td>\n",
       "<td><b>cv_2_valid</b></td>\n",
       "<td><b>cv_3_valid</b></td>\n",
       "<td><b>cv_4_valid</b></td>\n",
       "<td><b>cv_5_valid</b></td></tr>\n",
       "<tr><td>mae</td>\n",
       "<td>0.0865637</td>\n",
       "<td>0.0048704</td>\n",
       "<td>0.0938477</td>\n",
       "<td>0.0761395</td>\n",
       "<td>0.0882947</td>\n",
       "<td>0.0932474</td>\n",
       "<td>0.0812892</td></tr>\n",
       "<tr><td>mean_residual_deviance</td>\n",
       "<td>0.0157500</td>\n",
       "<td>0.0022251</td>\n",
       "<td>0.0188923</td>\n",
       "<td>0.0110734</td>\n",
       "<td>0.0158627</td>\n",
       "<td>0.0193542</td>\n",
       "<td>0.0135676</td></tr>\n",
       "<tr><td>mse</td>\n",
       "<td>0.0157500</td>\n",
       "<td>0.0022251</td>\n",
       "<td>0.0188923</td>\n",
       "<td>0.0110734</td>\n",
       "<td>0.0158627</td>\n",
       "<td>0.0193542</td>\n",
       "<td>0.0135676</td></tr>\n",
       "<tr><td>r2</td>\n",
       "<td>0.9004954</td>\n",
       "<td>0.0123754</td>\n",
       "<td>0.9029038</td>\n",
       "<td>0.9105138</td>\n",
       "<td>0.8942537</td>\n",
       "<td>0.8712566</td>\n",
       "<td>0.9235492</td></tr>\n",
       "<tr><td>residual_deviance</td>\n",
       "<td>0.0157500</td>\n",
       "<td>0.0022251</td>\n",
       "<td>0.0188923</td>\n",
       "<td>0.0110734</td>\n",
       "<td>0.0158627</td>\n",
       "<td>0.0193542</td>\n",
       "<td>0.0135676</td></tr>\n",
       "<tr><td>rmse</td>\n",
       "<td>0.1248452</td>\n",
       "<td>0.0090473</td>\n",
       "<td>0.1374491</td>\n",
       "<td>0.1052304</td>\n",
       "<td>0.1259472</td>\n",
       "<td>0.1391194</td>\n",
       "<td>0.1164801</td></tr>\n",
       "<tr><td>rmsle</td>\n",
       "<td>0.0096992</td>\n",
       "<td>0.0007248</td>\n",
       "<td>0.0106937</td>\n",
       "<td>0.0080755</td>\n",
       "<td>0.0097665</td>\n",
       "<td>0.0108362</td>\n",
       "<td>0.0091243</td></tr></table></div>"
      ],
      "text/plain": [
       "                        mean        sd           cv_1_valid    cv_2_valid    cv_3_valid    cv_4_valid    cv_5_valid\n",
       "----------------------  ----------  -----------  ------------  ------------  ------------  ------------  ------------\n",
       "mae                     0.0865637   0.0048704    0.0938477     0.0761395     0.0882947     0.0932474     0.0812892\n",
       "mean_residual_deviance  0.01575     0.00222508   0.0188923     0.0110734     0.0158627     0.0193542     0.0135676\n",
       "mse                     0.01575     0.00222508   0.0188923     0.0110734     0.0158627     0.0193542     0.0135676\n",
       "r2                      0.900495    0.0123754    0.902904      0.910514      0.894254      0.871257      0.923549\n",
       "residual_deviance       0.01575     0.00222508   0.0188923     0.0110734     0.0158627     0.0193542     0.0135676\n",
       "rmse                    0.124845    0.00904733   0.137449      0.10523       0.125947      0.139119      0.11648\n",
       "rmsle                   0.00969924  0.000724799  0.0106937     0.00807549    0.00976651    0.0108362     0.00912427"
      ]
     },
     "metadata": {},
     "output_type": "display_data"
    },
    {
     "name": "stdout",
     "output_type": "stream",
     "text": [
      "Scoring History: \n"
     ]
    },
    {
     "data": {
      "text/html": [
       "<div style=\"overflow:auto\"><table style=\"width:50%\"><tr><td><b></b></td>\n",
       "<td><b>timestamp</b></td>\n",
       "<td><b>duration</b></td>\n",
       "<td><b>number_of_trees</b></td>\n",
       "<td><b>training_rmse</b></td>\n",
       "<td><b>training_mae</b></td>\n",
       "<td><b>training_deviance</b></td></tr>\n",
       "<tr><td></td>\n",
       "<td>2019-04-12 12:23:29</td>\n",
       "<td> 0.373 sec</td>\n",
       "<td>0.0</td>\n",
       "<td>0.3993151</td>\n",
       "<td>0.3098117</td>\n",
       "<td>0.1594525</td></tr>\n",
       "<tr><td></td>\n",
       "<td>2019-04-12 12:23:29</td>\n",
       "<td> 0.378 sec</td>\n",
       "<td>1.0</td>\n",
       "<td>0.3661650</td>\n",
       "<td>0.2832440</td>\n",
       "<td>0.1340768</td></tr>\n",
       "<tr><td></td>\n",
       "<td>2019-04-12 12:23:29</td>\n",
       "<td> 0.382 sec</td>\n",
       "<td>2.0</td>\n",
       "<td>0.3365929</td>\n",
       "<td>0.2589587</td>\n",
       "<td>0.1132948</td></tr>\n",
       "<tr><td></td>\n",
       "<td>2019-04-12 12:23:29</td>\n",
       "<td> 0.386 sec</td>\n",
       "<td>3.0</td>\n",
       "<td>0.3103553</td>\n",
       "<td>0.2374981</td>\n",
       "<td>0.0963204</td></tr>\n",
       "<tr><td></td>\n",
       "<td>2019-04-12 12:23:29</td>\n",
       "<td> 0.390 sec</td>\n",
       "<td>4.0</td>\n",
       "<td>0.2865502</td>\n",
       "<td>0.2185276</td>\n",
       "<td>0.0821110</td></tr>\n",
       "<tr><td>---</td>\n",
       "<td>---</td>\n",
       "<td>---</td>\n",
       "<td>---</td>\n",
       "<td>---</td>\n",
       "<td>---</td>\n",
       "<td>---</td></tr>\n",
       "<tr><td></td>\n",
       "<td>2019-04-12 12:23:29</td>\n",
       "<td> 0.593 sec</td>\n",
       "<td>46.0</td>\n",
       "<td>0.0774682</td>\n",
       "<td>0.0548900</td>\n",
       "<td>0.0060013</td></tr>\n",
       "<tr><td></td>\n",
       "<td>2019-04-12 12:23:29</td>\n",
       "<td> 0.596 sec</td>\n",
       "<td>47.0</td>\n",
       "<td>0.0771927</td>\n",
       "<td>0.0546091</td>\n",
       "<td>0.0059587</td></tr>\n",
       "<tr><td></td>\n",
       "<td>2019-04-12 12:23:29</td>\n",
       "<td> 0.598 sec</td>\n",
       "<td>48.0</td>\n",
       "<td>0.0766233</td>\n",
       "<td>0.0542210</td>\n",
       "<td>0.0058711</td></tr>\n",
       "<tr><td></td>\n",
       "<td>2019-04-12 12:23:29</td>\n",
       "<td> 0.601 sec</td>\n",
       "<td>49.0</td>\n",
       "<td>0.0762996</td>\n",
       "<td>0.0540034</td>\n",
       "<td>0.0058216</td></tr>\n",
       "<tr><td></td>\n",
       "<td>2019-04-12 12:23:29</td>\n",
       "<td> 0.604 sec</td>\n",
       "<td>50.0</td>\n",
       "<td>0.0760767</td>\n",
       "<td>0.0538751</td>\n",
       "<td>0.0057877</td></tr></table></div>"
      ],
      "text/plain": [
       "     timestamp            duration    number_of_trees    training_rmse        training_mae          training_deviance\n",
       "---  -------------------  ----------  -----------------  -------------------  --------------------  --------------------\n",
       "     2019-04-12 12:23:29  0.373 sec   0.0                0.39931505656031513  0.30981172461111245   0.15945251439576769\n",
       "     2019-04-12 12:23:29  0.378 sec   1.0                0.36616502143098845  0.28324399255726435   0.13407682291955622\n",
       "     2019-04-12 12:23:29  0.382 sec   2.0                0.3365928863651111   0.25895874728895213   0.11329477115159658\n",
       "     2019-04-12 12:23:29  0.386 sec   3.0                0.31035531578520886  0.23749810375579417   0.09632042203613671\n",
       "     2019-04-12 12:23:29  0.390 sec   4.0                0.28655022115870504  0.21852758616617282   0.08211102924610278\n",
       "---  ---                  ---         ---                ---                  ---                   ---\n",
       "     2019-04-12 12:23:29  0.593 sec   46.0               0.0774682314582361   0.05488995199334132   0.006001326885266841\n",
       "     2019-04-12 12:23:29  0.596 sec   47.0               0.07719271961240742  0.054609139324867564  0.00595871596115975\n",
       "     2019-04-12 12:23:29  0.598 sec   48.0               0.07662325246645857  0.05422104417461238   0.005871122818538649\n",
       "     2019-04-12 12:23:29  0.601 sec   49.0               0.0762995587999258   0.054003442476873526  0.005821622673063334\n",
       "     2019-04-12 12:23:29  0.604 sec   50.0               0.07607667802924609  0.053875103388747125  0.005787660939965575"
      ]
     },
     "metadata": {},
     "output_type": "display_data"
    },
    {
     "name": "stdout",
     "output_type": "stream",
     "text": [
      "\n",
      "See the whole table with table.as_data_frame()\n",
      "Variable Importances: \n"
     ]
    },
    {
     "data": {
      "text/html": [
       "<div style=\"overflow:auto\"><table style=\"width:50%\"><tr><td><b>variable</b></td>\n",
       "<td><b>relative_importance</b></td>\n",
       "<td><b>scaled_importance</b></td>\n",
       "<td><b>percentage</b></td></tr>\n",
       "<tr><td>OverallQual</td>\n",
       "<td>613.5524902</td>\n",
       "<td>1.0</td>\n",
       "<td>0.5196104</td></tr>\n",
       "<tr><td>Neighborhood</td>\n",
       "<td>178.9126282</td>\n",
       "<td>0.2916012</td>\n",
       "<td>0.1515190</td></tr>\n",
       "<tr><td>GrLivArea</td>\n",
       "<td>154.8893890</td>\n",
       "<td>0.2524468</td>\n",
       "<td>0.1311740</td></tr>\n",
       "<tr><td>TotalBsmtSF</td>\n",
       "<td>55.8950195</td>\n",
       "<td>0.0911006</td>\n",
       "<td>0.0473368</td></tr>\n",
       "<tr><td>GarageArea</td>\n",
       "<td>55.5602303</td>\n",
       "<td>0.0905550</td>\n",
       "<td>0.0470533</td></tr>\n",
       "<tr><td>BsmtFinSF1</td>\n",
       "<td>29.2153645</td>\n",
       "<td>0.0476167</td>\n",
       "<td>0.0247422</td></tr>\n",
       "<tr><td>OverallCond</td>\n",
       "<td>24.1364708</td>\n",
       "<td>0.0393389</td>\n",
       "<td>0.0204409</td></tr>\n",
       "<tr><td>CentralAir</td>\n",
       "<td>15.8737736</td>\n",
       "<td>0.0258719</td>\n",
       "<td>0.0134433</td></tr>\n",
       "<tr><td>LotArea</td>\n",
       "<td>15.8381004</td>\n",
       "<td>0.0258138</td>\n",
       "<td>0.0134131</td></tr>\n",
       "<tr><td>YearBuilt</td>\n",
       "<td>10.9194803</td>\n",
       "<td>0.0177971</td>\n",
       "<td>0.0092476</td></tr>\n",
       "<tr><td>GarageFinish</td>\n",
       "<td>9.9148970</td>\n",
       "<td>0.0161598</td>\n",
       "<td>0.0083968</td></tr>\n",
       "<tr><td>BsmtFinType1</td>\n",
       "<td>9.6484165</td>\n",
       "<td>0.0157255</td>\n",
       "<td>0.0081711</td></tr>\n",
       "<tr><td>KitchenAbvGr</td>\n",
       "<td>2.4995542</td>\n",
       "<td>0.0040739</td>\n",
       "<td>0.0021168</td></tr>\n",
       "<tr><td>Condition1</td>\n",
       "<td>2.3085256</td>\n",
       "<td>0.0037626</td>\n",
       "<td>0.0019551</td></tr>\n",
       "<tr><td>ScreenPorch</td>\n",
       "<td>1.0632080</td>\n",
       "<td>0.0017329</td>\n",
       "<td>0.0009004</td></tr>\n",
       "<tr><td>BsmtFinType2</td>\n",
       "<td>0.5656899</td>\n",
       "<td>0.0009220</td>\n",
       "<td>0.0004791</td></tr>\n",
       "<tr><td>Heating</td>\n",
       "<td>0.0</td>\n",
       "<td>0.0</td>\n",
       "<td>0.0</td></tr></table></div>"
      ],
      "text/plain": [
       "variable      relative_importance    scaled_importance    percentage\n",
       "------------  ---------------------  -------------------  ------------\n",
       "OverallQual   613.552                1                    0.51961\n",
       "Neighborhood  178.913                0.291601             0.151519\n",
       "GrLivArea     154.889                0.252447             0.131174\n",
       "TotalBsmtSF   55.895                 0.0911006            0.0473368\n",
       "GarageArea    55.5602                0.090555             0.0470533\n",
       "BsmtFinSF1    29.2154                0.0476167            0.0247422\n",
       "OverallCond   24.1365                0.0393389            0.0204409\n",
       "CentralAir    15.8738                0.0258719            0.0134433\n",
       "LotArea       15.8381                0.0258138            0.0134131\n",
       "YearBuilt     10.9195                0.0177971            0.00924758\n",
       "GarageFinish  9.9149                 0.0161598            0.00839681\n",
       "BsmtFinType1  9.64842                0.0157255            0.00817113\n",
       "KitchenAbvGr  2.49955                0.0040739            0.00211684\n",
       "Condition1    2.30853                0.00376256           0.00195506\n",
       "ScreenPorch   1.06321                0.00173287           0.000900418\n",
       "BsmtFinType2  0.56569                0.000921991          0.000479076\n",
       "Heating       0                      0                    0"
      ]
     },
     "metadata": {},
     "output_type": "display_data"
    },
    {
     "data": {
      "text/plain": []
     },
     "execution_count": 209,
     "metadata": {},
     "output_type": "execute_result"
    }
   ],
   "source": [
    "hpr_cross_val"
   ]
  },
  {
   "cell_type": "markdown",
   "metadata": {},
   "source": [
    "### Quantifying validation error on validation data set.\n",
    "\n",
    "Ideally this is not necessary as we have already performed cross validation over the entire training data set, but it is still useful to do it as this be a comparable yardstick against other models and can be useful while ensembling as well."
   ]
  },
  {
   "cell_type": "code",
   "execution_count": 210,
   "metadata": {},
   "outputs": [
    {
     "name": "stdout",
     "output_type": "stream",
     "text": [
      "Parse progress: |█████████████████████████████████████████████████████████| 100%\n",
      "gbm Model Build progress: |███████████████████████████████████████████████| 100%\n",
      "Parse progress: |█████████████████████████████████████████████████████████| 100%\n",
      "gbm prediction progress: |████████████████████████████████████████████████| 100%\n"
     ]
    },
    {
     "name": "stderr",
     "output_type": "stream",
     "text": [
      "/Users/babs4JESUS/anaconda3/lib/python3.6/site-packages/h2o/job.py:69: UserWarning: Test/Validation dataset column 'Heating' has levels not trained on: [Floor, OthW]\n",
      "  warnings.warn(w)\n"
     ]
    },
    {
     "data": {
      "text/plain": [
       "0.13303899344520437"
      ]
     },
     "execution_count": 210,
     "metadata": {},
     "output_type": "execute_result"
    }
   ],
   "source": [
    "# Do a 10 fold cross validation as that is done typically.\n",
    "model_train_data = H2OGradientBoostingEstimator(model_id='housing_price_regression', \n",
    "                                                seed=1)\n",
    "model_train_data.train(x=final_cols, \n",
    "                       y=dep_var_col, \n",
    "                       training_frame=get_h2o_frame_with_rel_factors(train_data))\n",
    "\n",
    "predict_validation = model_train_data.predict(\n",
    "    get_h2o_frame_with_rel_factors(validation_data))                \n",
    "\n",
    "validation_data['Predictions'] = predict_validation['predict'].as_data_frame()\n",
    "evaluate_model_score_given_predictions(validation_data['LogSalePrice'], validation_data['Predictions'])\n"
   ]
  },
  {
   "cell_type": "markdown",
   "metadata": {},
   "source": [
    "#### 4 entries having values not encountered in training set for the 'Heating' column.\n",
    "\n",
    "Hence we are ignoring it for now. Also, this issue is not presnet in test data as well."
   ]
  },
  {
   "cell_type": "code",
   "execution_count": 211,
   "metadata": {},
   "outputs": [],
   "source": [
    "# Dump validaiton data to a file, which would be used later for ensembling.\n",
    "validation_data[['Id', 'LogSalePrice', 'Predictions']].to_csv('housing_price_h2o_gradient_boosting_validation.csv', \n",
    "                                                              index=False)"
   ]
  },
  {
   "cell_type": "markdown",
   "metadata": {},
   "source": [
    "### Making predictions on test data\n",
    "\n",
    "Now, there is another important matter to consider. In order to make predictions on test data, firstly it is important that we make sure that the test data is good. \n",
    "\n",
    "One problem that could be relevant here is presence of lots of null values in the test set and not in the training set. Let us check whether that is the case"
   ]
  },
  {
   "cell_type": "code",
   "execution_count": 212,
   "metadata": {},
   "outputs": [
    {
     "data": {
      "text/plain": [
       "OverallQual     0\n",
       "Neighborhood    0\n",
       "GrLivArea       0\n",
       "BsmtFinSF1      1\n",
       "OverallCond     0\n",
       "GarageArea      1\n",
       "TotalBsmtSF     1\n",
       "YearBuilt       0\n",
       "GarageFinish    0\n",
       "LotArea         0\n",
       "CentralAir      0\n",
       "BsmtFinType1    0\n",
       "KitchenAbvGr    0\n",
       "Condition1      0\n",
       "ScreenPorch     0\n",
       "BsmtFinType2    0\n",
       "Heating         0\n",
       "dtype: int64"
      ]
     },
     "execution_count": 212,
     "metadata": {},
     "output_type": "execute_result"
    }
   ],
   "source": [
    "test_data[final_cols].isnull().sum()"
   ]
  },
  {
   "cell_type": "markdown",
   "metadata": {},
   "source": [
    "Okay, things look good. Let us generate predictions on the test set."
   ]
  },
  {
   "cell_type": "code",
   "execution_count": 213,
   "metadata": {},
   "outputs": [
    {
     "name": "stdout",
     "output_type": "stream",
     "text": [
      "Parse progress: |█████████████████████████████████████████████████████████| 100%\n",
      "gbm Model Build progress: |███████████████████████████████████████████████| 100%\n"
     ]
    }
   ],
   "source": [
    "final_model = H2OGradientBoostingEstimator(model_id='housing_price_regression', seed=1)\n",
    "final_model.train(x=final_cols, \n",
    "                  y=dep_var_col, \n",
    "                  training_frame=get_h2o_frame_with_rel_factors(train_validation_data))\n"
   ]
  },
  {
   "cell_type": "code",
   "execution_count": 214,
   "metadata": {},
   "outputs": [
    {
     "name": "stdout",
     "output_type": "stream",
     "text": [
      "Parse progress: |█████████████████████████████████████████████████████████| 100%\n",
      "gbm prediction progress: |████████████████████████████████████████████████| 100%\n"
     ]
    }
   ],
   "source": [
    "predict_out = final_model.predict(\n",
    "    get_h2o_frame_with_rel_factors(test_data))                \n"
   ]
  },
  {
   "cell_type": "code",
   "execution_count": 215,
   "metadata": {},
   "outputs": [],
   "source": [
    "test_data['LogSalePrice'] = predict_out['predict'].as_data_frame()"
   ]
  },
  {
   "cell_type": "code",
   "execution_count": 216,
   "metadata": {},
   "outputs": [],
   "source": [
    "test_data['SalePrice'] = test_data['LogSalePrice'].apply(lambda x : np.exp(x))"
   ]
  },
  {
   "cell_type": "code",
   "execution_count": 217,
   "metadata": {},
   "outputs": [],
   "source": [
    "test_data[['Id', 'SalePrice']].to_csv('housing_price_h2o_gradient_boosting_predictions.csv', index=False)"
   ]
  }
 ],
 "metadata": {
  "kernelspec": {
   "display_name": "Python 3",
   "language": "python",
   "name": "python3"
  },
  "language_info": {
   "codemirror_mode": {
    "name": "ipython",
    "version": 3
   },
   "file_extension": ".py",
   "mimetype": "text/x-python",
   "name": "python",
   "nbconvert_exporter": "python",
   "pygments_lexer": "ipython3",
   "version": "3.6.8"
  }
 },
 "nbformat": 4,
 "nbformat_minor": 2
}

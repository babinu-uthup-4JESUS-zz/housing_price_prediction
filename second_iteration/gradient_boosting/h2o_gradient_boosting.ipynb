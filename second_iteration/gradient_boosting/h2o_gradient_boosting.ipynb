{
 "cells": [
  {
   "cell_type": "markdown",
   "metadata": {},
   "source": [
    "### Basic Overview\n",
    "\n",
    "We will be exploring gradient boosting methods (in the h2o framework) to build a predictive model for predicting housing prices, given relevant data.\n",
    "\n",
    "However, we will be examining every step in detail, to make sure that we make full use of the library."
   ]
  },
  {
   "cell_type": "code",
   "execution_count": 88,
   "metadata": {},
   "outputs": [],
   "source": [
    "import pandas as pd\n",
    "import numpy as np\n",
    "import sys\n",
    "sys.path.append('../../common_routines/')\n",
    "from relevant_functions import\\\n",
    "    evaluate_model_score_given_predictions,\\\n",
    "    evaluate_model_score\n"
   ]
  },
  {
   "cell_type": "markdown",
   "metadata": {},
   "source": [
    "#### Get clean data first"
   ]
  },
  {
   "cell_type": "code",
   "execution_count": 89,
   "metadata": {},
   "outputs": [],
   "source": [
    "train_data = pd.read_csv('../../cleaned_input/train_data.csv')\n",
    "validation_data = pd.read_csv('../../cleaned_input/validation_data.csv')"
   ]
  },
  {
   "cell_type": "code",
   "execution_count": 90,
   "metadata": {},
   "outputs": [
    {
     "data": {
      "text/plain": [
       "Index(['Id', 'MSSubClass', 'MSZoning', 'LotArea', 'Street', 'LotShape',\n",
       "       'LandContour', 'Utilities', 'LotConfig', 'LandSlope',\n",
       "       ...\n",
       "       'LogGarageArea', 'LogWoodDeckSF', 'LogOpenPorchSF', 'LogEnclosedPorch',\n",
       "       'Log3SsnPorch', 'LogScreenPorch', 'LogPoolArea', 'LogMiscVal',\n",
       "       'LogSalePrice', 'LogMasVnrArea_times_not_missing'],\n",
       "      dtype='object', length=102)"
      ]
     },
     "execution_count": 90,
     "metadata": {},
     "output_type": "execute_result"
    }
   ],
   "source": [
    "train_data.columns"
   ]
  },
  {
   "cell_type": "code",
   "execution_count": 91,
   "metadata": {},
   "outputs": [],
   "source": [
    "train_validation_data = pd.concat([train_data, validation_data])"
   ]
  },
  {
   "cell_type": "code",
   "execution_count": 92,
   "metadata": {},
   "outputs": [],
   "source": [
    "test_data = pd.read_csv('../../cleaned_input/test.csv')"
   ]
  },
  {
   "cell_type": "code",
   "execution_count": 93,
   "metadata": {},
   "outputs": [
    {
     "data": {
      "text/plain": [
       "27"
      ]
     },
     "execution_count": 93,
     "metadata": {},
     "output_type": "execute_result"
    }
   ],
   "source": [
    "test_data.isnull().sum().sum()"
   ]
  },
  {
   "cell_type": "code",
   "execution_count": 94,
   "metadata": {},
   "outputs": [
    {
     "data": {
      "text/plain": [
       "False"
      ]
     },
     "execution_count": 94,
     "metadata": {},
     "output_type": "execute_result"
    }
   ],
   "source": [
    "## Are they indeed clean ?\n",
    "train_data.isnull().sum().any()"
   ]
  },
  {
   "cell_type": "code",
   "execution_count": 95,
   "metadata": {},
   "outputs": [
    {
     "data": {
      "text/plain": [
       "False"
      ]
     },
     "execution_count": 95,
     "metadata": {},
     "output_type": "execute_result"
    }
   ],
   "source": [
    "validation_data.isnull().sum().any()"
   ]
  },
  {
   "cell_type": "markdown",
   "metadata": {},
   "source": [
    "#### Get h2o up and running !\n"
   ]
  },
  {
   "cell_type": "code",
   "execution_count": 96,
   "metadata": {},
   "outputs": [
    {
     "name": "stdout",
     "output_type": "stream",
     "text": [
      "Checking whether there is an H2O instance running at http://localhost:54321 . connected.\n"
     ]
    },
    {
     "data": {
      "text/html": [
       "<div style=\"overflow:auto\"><table style=\"width:50%\"><tr><td>H2O cluster uptime:</td>\n",
       "<td>16 hours 43 mins</td></tr>\n",
       "<tr><td>H2O cluster timezone:</td>\n",
       "<td>America/New_York</td></tr>\n",
       "<tr><td>H2O data parsing timezone:</td>\n",
       "<td>UTC</td></tr>\n",
       "<tr><td>H2O cluster version:</td>\n",
       "<td>3.24.0.1</td></tr>\n",
       "<tr><td>H2O cluster version age:</td>\n",
       "<td>11 days </td></tr>\n",
       "<tr><td>H2O cluster name:</td>\n",
       "<td>H2O_from_python_babs4JESUS_auajwj</td></tr>\n",
       "<tr><td>H2O cluster total nodes:</td>\n",
       "<td>1</td></tr>\n",
       "<tr><td>H2O cluster free memory:</td>\n",
       "<td>12.84 Gb</td></tr>\n",
       "<tr><td>H2O cluster total cores:</td>\n",
       "<td>8</td></tr>\n",
       "<tr><td>H2O cluster allowed cores:</td>\n",
       "<td>8</td></tr>\n",
       "<tr><td>H2O cluster status:</td>\n",
       "<td>locked, healthy</td></tr>\n",
       "<tr><td>H2O connection url:</td>\n",
       "<td>http://localhost:54321</td></tr>\n",
       "<tr><td>H2O connection proxy:</td>\n",
       "<td>None</td></tr>\n",
       "<tr><td>H2O internal security:</td>\n",
       "<td>False</td></tr>\n",
       "<tr><td>H2O API Extensions:</td>\n",
       "<td>Amazon S3, XGBoost, Algos, AutoML, Core V3, Core V4</td></tr>\n",
       "<tr><td>Python version:</td>\n",
       "<td>3.6.8 final</td></tr></table></div>"
      ],
      "text/plain": [
       "--------------------------  ---------------------------------------------------\n",
       "H2O cluster uptime:         16 hours 43 mins\n",
       "H2O cluster timezone:       America/New_York\n",
       "H2O data parsing timezone:  UTC\n",
       "H2O cluster version:        3.24.0.1\n",
       "H2O cluster version age:    11 days\n",
       "H2O cluster name:           H2O_from_python_babs4JESUS_auajwj\n",
       "H2O cluster total nodes:    1\n",
       "H2O cluster free memory:    12.84 Gb\n",
       "H2O cluster total cores:    8\n",
       "H2O cluster allowed cores:  8\n",
       "H2O cluster status:         locked, healthy\n",
       "H2O connection url:         http://localhost:54321\n",
       "H2O connection proxy:\n",
       "H2O internal security:      False\n",
       "H2O API Extensions:         Amazon S3, XGBoost, Algos, AutoML, Core V3, Core V4\n",
       "Python version:             3.6.8 final\n",
       "--------------------------  ---------------------------------------------------"
      ]
     },
     "metadata": {},
     "output_type": "display_data"
    }
   ],
   "source": [
    "# Using h2o\n",
    "import h2o\n",
    "h2o.init(nthreads = -1, max_mem_size = 15)"
   ]
  },
  {
   "cell_type": "markdown",
   "metadata": {},
   "source": [
    "### Brief framework.\n",
    "\n",
    "We will be building according the following framework (similar to how we did for PCA).\n",
    "\n",
    "Given set of columns, we should be able to do the following :\n",
    "\n",
    "1. Train model on training set.\n",
    "\n",
    "2. Validate on validation set.\n",
    "\n",
    "3. Generate predicitons on test data.\n",
    "\n",
    "4. Do cross validation on combined set of training/validation data.\n"
   ]
  },
  {
   "cell_type": "code",
   "execution_count": 97,
   "metadata": {},
   "outputs": [],
   "source": [
    "ALL_CATEGORICAL_COLUMNS = ['MSSubClass',\n",
    " 'MSZoning',\n",
    " 'Street',\n",
    " 'LotShape',\n",
    " 'LandContour',\n",
    " 'Utilities',\n",
    " 'LotConfig',\n",
    " 'LandSlope',\n",
    " 'Neighborhood',\n",
    " 'Condition1',\n",
    " 'Condition2',\n",
    " 'BldgType',\n",
    " 'HouseStyle',\n",
    " 'RoofStyle',\n",
    " 'RoofMatl',\n",
    " 'Exterior1st',\n",
    " 'Exterior2nd',\n",
    " 'MasVnrType',\n",
    " 'ExterQual',\n",
    " 'ExterCond',\n",
    " 'Foundation',\n",
    " 'BsmtQual',\n",
    " 'BsmtCond',\n",
    " 'BsmtExposure',\n",
    " 'BsmtFinType1',\n",
    " 'BsmtFinType2',\n",
    " 'Heating',\n",
    " 'HeatingQC',\n",
    " 'CentralAir',\n",
    " 'Electrical',\n",
    " 'KitchenQual',\n",
    " 'Functional',\n",
    " 'FireplaceQu',\n",
    " 'GarageType',\n",
    " 'GarageFinish',\n",
    " 'GarageQual',\n",
    " 'GarageCond',\n",
    " 'PavedDrive',\n",
    " 'PoolQC',\n",
    " 'Fence',\n",
    " 'MiscFeature',\n",
    " 'MoSold',\n",
    " 'YrSold',\n",
    " 'SaleType',\n",
    " 'SaleCondition']"
   ]
  },
  {
   "cell_type": "code",
   "execution_count": 98,
   "metadata": {},
   "outputs": [],
   "source": [
    "ALL_NUMERICAL_COLUMNS = ['LotArea',\n",
    " 'OverallQual',\n",
    " 'OverallCond',\n",
    " 'YearBuilt',\n",
    " 'YearRemodAdd',\n",
    " 'MasVnrArea_times_not_missing',\n",
    " 'MasVnrArea_not_missing',\n",
    " 'BsmtFinSF1',\n",
    " 'BsmtUnfSF',\n",
    " 'TotalBsmtSF',\n",
    " '1stFlrSF',\n",
    " '2ndFlrSF',\n",
    " 'LowQualFinSF',\n",
    " 'GrLivArea',\n",
    " 'BsmtFullBath',\n",
    " 'BsmtHalfBath',\n",
    " 'FullBath',\n",
    " 'HalfBath',\n",
    " 'BedroomAbvGr',\n",
    " 'KitchenAbvGr',\n",
    " 'TotRmsAbvGrd',\n",
    " 'Fireplaces',\n",
    " 'GarageYrBlt_times_not_missing',\n",
    " 'GarageYrBlt_not_missing',\n",
    " 'GarageCars',\n",
    " 'GarageArea',\n",
    " 'WoodDeckSF',\n",
    " 'OpenPorchSF',\n",
    " 'EnclosedPorch',\n",
    " '3SsnPorch',\n",
    " 'ScreenPorch',\n",
    " 'PoolArea',\n",
    " 'MiscVal']"
   ]
  },
  {
   "cell_type": "code",
   "execution_count": 99,
   "metadata": {},
   "outputs": [],
   "source": [
    "ALL_COLUMNS = ALL_CATEGORICAL_COLUMNS + ALL_NUMERICAL_COLUMNS"
   ]
  },
  {
   "cell_type": "code",
   "execution_count": 100,
   "metadata": {},
   "outputs": [],
   "source": [
    "# Columns the model to be trained \n",
    "# Check out ExterQual and YearBuilt instead of YearRemodAdd\n",
    "# Check out BsmtCond\n",
    "#cat_cols_in_model = ['MSSubClass', 'Neighborhood', 'ExterQual', 'Foundation', 'BsmtQual', 'BsmtCond',\n",
    "#                     'BsmtFinType1']\n",
    "#numeric_cols_in_model = ['GrLivArea', 'OverallQual', 'OverallCond', 'YearRemodAdd', 'BsmtFinSF1', \n",
    "#                         'TotalBsmtSF']\n",
    "# Check out GarageCond\n",
    "cat_cols_in_model = ['MSSubClass', 'Neighborhood']\n",
    "numeric_cols_in_model = ['GrLivArea', 'OverallQual', 'OverallCond', 'YearRemodAdd', 'BsmtFinSF1', \n",
    "                         'TotalBsmtSF', '1stFlrSF', '2ndFlrSF', 'GarageArea', 'LowQualFinSF']\n",
    "\n",
    "all_cols_in_model = cat_cols_in_model + numeric_cols_in_model\n",
    "all_cols_in_model = ['OverallQual']\n",
    "dep_var_col = 'LogSalePrice'"
   ]
  },
  {
   "cell_type": "code",
   "execution_count": 101,
   "metadata": {},
   "outputs": [
    {
     "data": {
      "text/plain": [
       "['OverallQual']"
      ]
     },
     "execution_count": 101,
     "metadata": {},
     "output_type": "execute_result"
    }
   ],
   "source": [
    "all_cols_in_model"
   ]
  },
  {
   "cell_type": "markdown",
   "metadata": {},
   "source": [
    "#### Training model on the training set\n"
   ]
  },
  {
   "cell_type": "code",
   "execution_count": 102,
   "metadata": {},
   "outputs": [],
   "source": [
    "def get_h2o_frame_with_rel_factors(test_data):\n",
    "    test_data_h2o = h2o.H2OFrame(test_data)\n",
    "    for col in ALL_CATEGORICAL_COLUMNS:\n",
    "        test_data_h2o[col] = test_data_h2o[col].asfactor()\n",
    "    return test_data_h2o"
   ]
  },
  {
   "cell_type": "code",
   "execution_count": 103,
   "metadata": {},
   "outputs": [],
   "source": [
    "from h2o.estimators.gbm import H2OGradientBoostingEstimator"
   ]
  },
  {
   "cell_type": "code",
   "execution_count": null,
   "metadata": {},
   "outputs": [],
   "source": [
    "hpr_1 = H2OGradientBoostingEstimator(model_id='housing_price_regression', seed=1)\n",
    "hpr_1.train(x=all_cols_in_model, \n",
    "            y=dep_var_col, \n",
    "            training_frame=get_h2o_frame_with_rel_factors(train_data))"
   ]
  },
  {
   "cell_type": "code",
   "execution_count": null,
   "metadata": {},
   "outputs": [],
   "source": [
    "predict_out = hpr_1.predict(\n",
    "    get_h2o_frame_with_rel_factors(train_data))                \n",
    "train_data['Predictions'] = predict_out.as_data_frame()['predict'].values.tolist()"
   ]
  },
  {
   "cell_type": "code",
   "execution_count": null,
   "metadata": {},
   "outputs": [],
   "source": [
    "evaluate_model_score_given_predictions((train_data['Predictions'].values), \n",
    "                                       (train_data[dep_var_col].values))"
   ]
  },
  {
   "cell_type": "markdown",
   "metadata": {},
   "source": [
    "#### Inspect the output model\n",
    "\n",
    "It may seem like a trivial thing, but shouldn't we inspect the model to see what exactly it does ? This is especially important in data science and it is very easy to get entangled in a quagmire of models and functions without clearly understanding what any of them does.\n"
   ]
  },
  {
   "cell_type": "code",
   "execution_count": 104,
   "metadata": {},
   "outputs": [
    {
     "ename": "NameError",
     "evalue": "name 'hpr_1' is not defined",
     "output_type": "error",
     "traceback": [
      "\u001b[0;31m---------------------------------------------------------------------------\u001b[0m",
      "\u001b[0;31mNameError\u001b[0m                                 Traceback (most recent call last)",
      "\u001b[0;32m<ipython-input-104-1d37a6ba9299>\u001b[0m in \u001b[0;36m<module>\u001b[0;34m()\u001b[0m\n\u001b[1;32m      1\u001b[0m \u001b[0;32mfrom\u001b[0m \u001b[0mh2o\u001b[0m\u001b[0;34m.\u001b[0m\u001b[0mtree\u001b[0m \u001b[0;32mimport\u001b[0m \u001b[0mH2OTree\u001b[0m\u001b[0;34m\u001b[0m\u001b[0;34m\u001b[0m\u001b[0m\n\u001b[0;32m----> 2\u001b[0;31m \u001b[0mtree\u001b[0m \u001b[0;34m=\u001b[0m \u001b[0mH2OTree\u001b[0m\u001b[0;34m(\u001b[0m\u001b[0mmodel\u001b[0m \u001b[0;34m=\u001b[0m \u001b[0mhpr_1\u001b[0m\u001b[0;34m,\u001b[0m \u001b[0mtree_number\u001b[0m \u001b[0;34m=\u001b[0m \u001b[0;36m0\u001b[0m\u001b[0;34m,\u001b[0m \u001b[0mtree_class\u001b[0m \u001b[0;34m=\u001b[0m \u001b[0;32mNone\u001b[0m\u001b[0;34m)\u001b[0m\u001b[0;34m\u001b[0m\u001b[0;34m\u001b[0m\u001b[0m\n\u001b[0m",
      "\u001b[0;31mNameError\u001b[0m: name 'hpr_1' is not defined"
     ]
    }
   ],
   "source": [
    "from h2o.tree import H2OTree\n",
    "tree = H2OTree(model = hpr_1, tree_number = 0, tree_class = None)"
   ]
  },
  {
   "cell_type": "code",
   "execution_count": null,
   "metadata": {},
   "outputs": [],
   "source": [
    "tree"
   ]
  },
  {
   "cell_type": "code",
   "execution_count": null,
   "metadata": {},
   "outputs": [],
   "source": [
    "len(tree)"
   ]
  },
  {
   "cell_type": "code",
   "execution_count": null,
   "metadata": {},
   "outputs": [],
   "source": [
    "print(tree)"
   ]
  },
  {
   "cell_type": "code",
   "execution_count": null,
   "metadata": {},
   "outputs": [],
   "source": [
    "tree.levels"
   ]
  },
  {
   "cell_type": "code",
   "execution_count": null,
   "metadata": {},
   "outputs": [],
   "source": [
    "tree.tree_number"
   ]
  },
  {
   "cell_type": "code",
   "execution_count": null,
   "metadata": {},
   "outputs": [],
   "source": [
    "tree.show()"
   ]
  },
  {
   "cell_type": "code",
   "execution_count": null,
   "metadata": {},
   "outputs": [],
   "source": [
    "print(tree.root_node)"
   ]
  },
  {
   "cell_type": "code",
   "execution_count": null,
   "metadata": {},
   "outputs": [],
   "source": [
    "print(tree.root_node.left_child)"
   ]
  },
  {
   "cell_type": "markdown",
   "metadata": {},
   "source": [
    "#### Testing model on validation set"
   ]
  },
  {
   "cell_type": "code",
   "execution_count": null,
   "metadata": {},
   "outputs": [],
   "source": [
    "predict_out = hpr_1.predict(\n",
    "    get_h2o_frame_with_rel_factors(validation_data))                \n",
    "validation_data['Predictions'] = predict_out.as_data_frame()['predict'].values.tolist()"
   ]
  },
  {
   "cell_type": "code",
   "execution_count": null,
   "metadata": {},
   "outputs": [],
   "source": [
    "#evaluate_model_score_given_predictions(np.log(validation_data['Predictions'].values), \n",
    "#                                       np.log(validation_data[dep_var_col].values))"
   ]
  },
  {
   "cell_type": "code",
   "execution_count": null,
   "metadata": {},
   "outputs": [],
   "source": [
    "validation_score = evaluate_model_score_given_predictions((validation_data['Predictions'].values), \n",
    "                                                          (validation_data[dep_var_col].values))\n",
    "print(validation_score)"
   ]
  },
  {
   "cell_type": "markdown",
   "metadata": {},
   "source": [
    "#### Generate predictions on test data"
   ]
  },
  {
   "cell_type": "code",
   "execution_count": null,
   "metadata": {},
   "outputs": [],
   "source": [
    "test_data_one_hot = pd.read_csv('../../cleaned_input/test_data_one_hot.csv')"
   ]
  },
  {
   "cell_type": "code",
   "execution_count": null,
   "metadata": {},
   "outputs": [],
   "source": [
    "test_data['LogMasVnrArea_times_not_missing'] = test_data_one_hot['LogMasVnrArea_times_not_missing']"
   ]
  },
  {
   "cell_type": "code",
   "execution_count": null,
   "metadata": {},
   "outputs": [],
   "source": [
    "test_data[all_cols_in_model].isnull().sum()"
   ]
  },
  {
   "cell_type": "code",
   "execution_count": null,
   "metadata": {},
   "outputs": [],
   "source": [
    "hpr_1 = H2OGradientBoostingEstimator(model_id='housing_price_regression', seed=1)\n",
    "hpr_1.train(x=all_cols_in_model, \n",
    "            y=dep_var_col, \n",
    "            training_frame=get_h2o_frame_with_rel_factors(train_validation_data))"
   ]
  },
  {
   "cell_type": "code",
   "execution_count": null,
   "metadata": {},
   "outputs": [],
   "source": [
    "predict_out = hpr_1.predict(\n",
    "    get_h2o_frame_with_rel_factors(test_data))                \n",
    "test_data['Predictions'] = predict_out.as_data_frame()['predict'].values.tolist()"
   ]
  },
  {
   "cell_type": "markdown",
   "metadata": {},
   "source": [
    "#### Cross validation"
   ]
  },
  {
   "cell_type": "code",
   "execution_count": null,
   "metadata": {},
   "outputs": [],
   "source": [
    "# Do a 10 fold cross validation as that is done typically.\n",
    "hpr_cross_val = H2OGradientBoostingEstimator(model_id='housing_price_regression', \n",
    "                                             seed=1, \n",
    "                                             nfolds=5,\n",
    "                                             keep_cross_validation_predictions=True)\n",
    "hpr_cross_val.train(x=all_cols_in_model, \n",
    "                    y=dep_var_col, \n",
    "                    training_frame=get_h2o_frame_with_rel_factors(train_validation_data))\n"
   ]
  },
  {
   "cell_type": "code",
   "execution_count": null,
   "metadata": {},
   "outputs": [],
   "source": [
    "hpr_cross_val.cross_validation_predictions"
   ]
  },
  {
   "cell_type": "code",
   "execution_count": null,
   "metadata": {},
   "outputs": [],
   "source": [
    "def get_cross_validated_rmse(hpr_cross_val):\n",
    "    cv_preds = hpr_cross_val.cross_validation_predictions()\n",
    "    for i in range(len(cv_preds)):\n",
    "        if i == 0:\n",
    "            result_cv = cv_preds[0]['predict'].as_data_frame().copy()\n",
    "        else:\n",
    "            result_cv +=  cv_preds[i]['predict'].as_data_frame()\n",
    "    return evaluate_model_score_given_predictions(result_cv, train_validation_data['LogSalePrice'])    "
   ]
  },
  {
   "cell_type": "code",
   "execution_count": null,
   "metadata": {},
   "outputs": [],
   "source": [
    "get_cross_validated_rmse(hpr_cross_val)"
   ]
  },
  {
   "cell_type": "markdown",
   "metadata": {},
   "source": [
    "#### Model building in detail.\n",
    "\n",
    "We make sure that we exploit the capabilities given by the h2o module to the maximum.\n",
    "\n",
    "So in this section, we try to build models in multiple ways using different values for certain parameters and see how they perform. Here we go !"
   ]
  },
  {
   "cell_type": "code",
   "execution_count": null,
   "metadata": {},
   "outputs": [],
   "source": [
    "# # Build the model using default parameters and evaluate error on the training/validation set.\n",
    "\n",
    "# hpr_1 = H2OGradientBoostingEstimator(model_id='housing_price_regression', \n",
    "#                                      seed=1,\n",
    "#                                      ntrees=50,\n",
    "#                                      learn_rate=0.1,\n",
    "#                                      stopping_rounds=0)\n",
    "# hpr_1.train(x=all_cols_in_model, \n",
    "#             y=dep_var_col, \n",
    "#             training_frame=get_h2o_frame_with_rel_factors(train_data),\n",
    "\n",
    "#             validation_frame=None)\n",
    "\n",
    "# predict_out = hpr_1.predict(\n",
    "#     get_h2o_frame_with_rel_factors(train_data))                \n",
    "# train_data['Predictions'] = predict_out.as_data_frame()['predict'].values.tolist()\n",
    "\n",
    "# print(\"Score on training data : \",\n",
    "#       evaluate_model_score_given_predictions((train_data['Predictions'].values), \n",
    "#                                              (train_data[dep_var_col].values)))\n",
    "\n",
    "\n",
    "\n",
    "# predict_out = hpr_1.predict(\n",
    "#     get_h2o_frame_with_rel_factors(validation_data))                \n",
    "# validation_data['Predictions'] = predict_out.as_data_frame()['predict'].values.tolist()\n",
    "\n",
    "# print(\"Score on training data : \",\n",
    "#       evaluate_model_score_given_predictions((validation_data['Predictions'].values), \n",
    "#                                              (validation_data[dep_var_col].values)))\n",
    "\n"
   ]
  },
  {
   "cell_type": "code",
   "execution_count": null,
   "metadata": {},
   "outputs": [],
   "source": [
    "# # Tinker with the learning rate alone here.\n",
    "# # Build the model using default parameters and evaluate error on the training/validation set.\n",
    "\n",
    "# hpr_1 = H2OGradientBoostingEstimator(model_id='housing_price_regression', \n",
    "#                                      seed=1,\n",
    "#                                      ntrees=50,\n",
    "#                                      learn_rate=0.01,\n",
    "#                                      stopping_rounds=0)\n",
    "# hpr_1.train(x=all_cols_in_model, \n",
    "#             y=dep_var_col, \n",
    "#             training_frame=get_h2o_frame_with_rel_factors(train_data),\n",
    "\n",
    "#             validation_frame=None)\n",
    "\n",
    "# predict_out = hpr_1.predict(\n",
    "#     get_h2o_frame_with_rel_factors(train_data))                \n",
    "# train_data['Predictions'] = predict_out.as_data_frame()['predict'].values.tolist()\n",
    "\n",
    "# print(\"Score on training data : \",\n",
    "#       evaluate_model_score_given_predictions((train_data['Predictions'].values), \n",
    "#                                              (train_data[dep_var_col].values)))\n",
    "\n",
    "\n",
    "\n",
    "# predict_out = hpr_1.predict(\n",
    "#     get_h2o_frame_with_rel_factors(validation_data))                \n",
    "# validation_data['Predictions'] = predict_out.as_data_frame()['predict'].values.tolist()\n",
    "\n",
    "# print(\"Score on training data : \",\n",
    "#       evaluate_model_score_given_predictions((validation_data['Predictions'].values), \n",
    "#                                              (validation_data[dep_var_col].values)))\n",
    "\n",
    "\n"
   ]
  },
  {
   "cell_type": "code",
   "execution_count": null,
   "metadata": {},
   "outputs": [],
   "source": [
    "# # Try increasing the number of trees here and see whether it makes any difference.\n",
    "\n",
    "# hpr_1 = H2OGradientBoostingEstimator(model_id='housing_price_regression', \n",
    "#                                      seed=1,\n",
    "#                                      ntrees=500,\n",
    "#                                      learn_rate=0.01,\n",
    "#                                      stopping_rounds=0)\n",
    "# hpr_1.train(x=all_cols_in_model, \n",
    "#             y=dep_var_col, \n",
    "#             training_frame=get_h2o_frame_with_rel_factors(train_data),\n",
    "\n",
    "#             validation_frame=None)\n",
    "\n",
    "# predict_out = hpr_1.predict(\n",
    "#     get_h2o_frame_with_rel_factors(train_data))                \n",
    "# train_data['Predictions'] = predict_out.as_data_frame()['predict'].values.tolist()\n",
    "\n",
    "# print(\"Score on training data : \",\n",
    "#       evaluate_model_score_given_predictions((train_data['Predictions'].values), \n",
    "#                                              (train_data[dep_var_col].values)))\n",
    "\n",
    "\n",
    "\n",
    "# predict_out = hpr_1.predict(\n",
    "#     get_h2o_frame_with_rel_factors(validation_data))                \n",
    "# validation_data['Predictions'] = predict_out.as_data_frame()['predict'].values.tolist()\n",
    "\n",
    "# print(\"Score on training data : \",\n",
    "#       evaluate_model_score_given_predictions((validation_data['Predictions'].values), \n",
    "#                                              (validation_data[dep_var_col].values)))\n",
    "\n",
    "\n"
   ]
  },
  {
   "cell_type": "code",
   "execution_count": null,
   "metadata": {},
   "outputs": [],
   "source": [
    "# # Now comes the real boosting tree part. Add in a validation frame and set a value for stopping rounds as well.\n",
    "\n",
    "# hpr_1 = H2OGradientBoostingEstimator(model_id='housing_price_regression', \n",
    "#                                      seed=1,\n",
    "#                                      ntrees=50,\n",
    "#                                      learn_rate=0.1,\n",
    "#                                      stopping_rounds=5)\n",
    "# hpr_1.train(x=all_cols_in_model, \n",
    "#             y=dep_var_col, \n",
    "#             training_frame=get_h2o_frame_with_rel_factors(train_data),\n",
    "\n",
    "#             validation_frame=get_h2o_frame_with_rel_factors(validation_data))\n",
    "\n",
    "# predict_out = hpr_1.predict(\n",
    "#     get_h2o_frame_with_rel_factors(train_data))                \n",
    "# train_data['Predictions'] = predict_out.as_data_frame()['predict'].values.tolist()\n",
    "\n",
    "# print(\"Score on training data : \",\n",
    "#       evaluate_model_score_given_predictions((train_data['Predictions'].values), \n",
    "#                                              (train_data[dep_var_col].values)))\n",
    "\n",
    "\n",
    "\n",
    "# predict_out = hpr_1.predict(\n",
    "#     get_h2o_frame_with_rel_factors(validation_data))                \n",
    "# validation_data['Predictions'] = predict_out.as_data_frame()['predict'].values.tolist()\n",
    "\n",
    "# print(\"Score on training data : \",\n",
    "#       evaluate_model_score_given_predictions((validation_data['Predictions'].values), \n",
    "#                                              (validation_data[dep_var_col].values)))\n",
    "\n",
    "\n"
   ]
  },
  {
   "cell_type": "code",
   "execution_count": null,
   "metadata": {},
   "outputs": [],
   "source": [
    "# # Now comes the real boosting tree part. Add in a validation frame and set a value for stopping rounds as well.\n",
    "# # Increases the number of trees to 500.\n",
    "# hpr_1 = H2OGradientBoostingEstimator(model_id='housing_price_regression', \n",
    "#                                      seed=1,\n",
    "#                                      ntrees=500,\n",
    "#                                      learn_rate=0.01,\n",
    "#                                      stopping_rounds=5)\n",
    "# hpr_1.train(x=all_cols_in_model, \n",
    "#             y=dep_var_col, \n",
    "#             training_frame=get_h2o_frame_with_rel_factors(train_data),\n",
    "\n",
    "#             validation_frame=get_h2o_frame_with_rel_factors(validation_data))\n",
    "\n",
    "# predict_out = hpr_1.predict(\n",
    "#     get_h2o_frame_with_rel_factors(train_data))                \n",
    "# train_data['Predictions'] = predict_out.as_data_frame()['predict'].values.tolist()\n",
    "\n",
    "# print(\"Score on training data : \",\n",
    "#       evaluate_model_score_given_predictions((train_data['Predictions'].values), \n",
    "#                                              (train_data[dep_var_col].values)))\n",
    "\n",
    "\n",
    "\n",
    "# predict_out = hpr_1.predict(\n",
    "#     get_h2o_frame_with_rel_factors(validation_data))                \n",
    "# validation_data['Predictions'] = predict_out.as_data_frame()['predict'].values.tolist()\n",
    "\n",
    "# print(\"Score on training data : \",\n",
    "#       evaluate_model_score_given_predictions((validation_data['Predictions'].values), \n",
    "#                                              (validation_data[dep_var_col].values)))\n",
    "\n",
    "\n"
   ]
  },
  {
   "cell_type": "code",
   "execution_count": null,
   "metadata": {},
   "outputs": [],
   "source": [
    "# # Now let us try cross validation along with stopping and see where we end up.\n",
    "# hpr_1 = H2OGradientBoostingEstimator(model_id='housing_price_regression', \n",
    "#                                      seed=1,\n",
    "#                                      ntrees=500,\n",
    "#                                      learn_rate=0.01,\n",
    "#                                      stopping_rounds=5,\n",
    "#                                      nfolds=5,\n",
    "#                                      keep_cross_validation_predictions=True)\n",
    "# hpr_1.train(x=all_cols_in_model, \n",
    "#             y=dep_var_col, \n",
    "#             training_frame=get_h2o_frame_with_rel_factors(train_validation_data))\n",
    "\n",
    "# print(\"Cross validaition score is \", get_cross_validated_rmse(hpr_1))"
   ]
  },
  {
   "cell_type": "code",
   "execution_count": null,
   "metadata": {},
   "outputs": [],
   "source": [
    "# # Now let us try the same with a different number of trees.\n",
    "# hpr_1 = H2OGradientBoostingEstimator(model_id='housing_price_regression', \n",
    "#                                      seed=1,\n",
    "#                                      ntrees=50,\n",
    "#                                      learn_rate=0.1,\n",
    "#                                      stopping_rounds=5,\n",
    "#                                      nfolds=5,\n",
    "#                                      keep_cross_validation_predictions=True)\n",
    "# hpr_1.train(x=all_cols_in_model, \n",
    "#             y=dep_var_col, \n",
    "#             training_frame=get_h2o_frame_with_rel_factors(train_validation_data))\n",
    "\n",
    "# print(\"Cross validaition score is \", get_cross_validated_rmse(hpr_1))"
   ]
  },
  {
   "cell_type": "markdown",
   "metadata": {},
   "source": [
    "#### Conclusion.\n",
    "\n",
    "At this stage, after seeing outputs, it is difficult to say something concretly. The model outputs will definitely depend on the number of predictors and at this stage, with just just predictor, it does not look to make much of a difference."
   ]
  },
  {
   "cell_type": "markdown",
   "metadata": {},
   "source": [
    "### Try somewhat of a greedy method to select columns\n",
    "\n",
    "In this approach, we would start with an empty model and at every step, we would the predictor that would decrease the cross validation error the most. We have not fully automated it (it would be extremely easy to do so), but have built the model manually after inspection in each step. \n",
    "\n",
    "As simple as it seems, this looks to work pretty well. In fact, we were able to get a much better model, with almost no extra effort !"
   ]
  },
  {
   "cell_type": "code",
   "execution_count": null,
   "metadata": {},
   "outputs": [],
   "source": [
    "import operator\n",
    "def get_cross_val_scores_new_col(base_model_cols, \n",
    "                                 ntrees=50,\n",
    "                                 learn_rate=0.1,\n",
    "                                 stopping_rounds=0,\n",
    "                                 train_validation_data=train_validation_data,\n",
    "                                 nfolds=5,\n",
    "                                 dep_var_col='LogSalePrice'):\n",
    "    columns_to_cross_val_score = dict()\n",
    "    for col in ALL_COLUMNS:\n",
    "        # If the column was already included, skip it.\n",
    "        if col in base_model_cols:\n",
    "            continue\n",
    "        \n",
    "        cur_model_cols = base_model_cols + [col]            \n",
    "        print(cur_model_cols)\n",
    "\n",
    "        # Do a 10 fold cross validation as that is done typically.\n",
    "        hpr_cross_val = H2OGradientBoostingEstimator(model_id='housing_price_regression', \n",
    "                                                    seed=1, \n",
    "                                                    ntrees=ntrees,\n",
    "                                                    learn_rate=learn_rate,\n",
    "                                                    stopping_rounds=stopping_rounds,\n",
    "                                                    nfolds=nfolds,\n",
    "                                                    keep_cross_validation_predictions=True)\n",
    "        hpr_cross_val.train(x=cur_model_cols, \n",
    "                            y=dep_var_col, \n",
    "                            training_frame=get_h2o_frame_with_rel_factors(train_validation_data))\n",
    "\n",
    "        cv_score = get_cross_validated_rmse(hpr_cross_val)\n",
    "\n",
    "        columns_to_cross_val_score[col] = cv_score\n",
    "    \n",
    "    sorted_cross_val_scores = sorted(columns_to_cross_val_score.items(), key=operator.itemgetter(1))\n",
    "    return sorted_cross_val_scores"
   ]
  },
  {
   "cell_type": "code",
   "execution_count": null,
   "metadata": {},
   "outputs": [],
   "source": [
    "def get_cross_val_scores_given_cols(cur_model_cols,\n",
    "                                    ntrees=50,\n",
    "                                    learn_rate=0.1,\n",
    "                                    stopping_rounds=0,\n",
    "                                    train_validation_data=train_validation_data,\n",
    "                                    nfolds=5,\n",
    "                                    dep_var_col='LogSalePrice'):\n",
    "\n",
    "    # Do a 10 fold cross validation as that is done typically.\n",
    "    hpr_cross_val = H2OGradientBoostingEstimator(model_id='housing_price_regression', \n",
    "                                                 seed=1, \n",
    "                                                 ntrees=50,\n",
    "                                                 learn_rate=0.1,\n",
    "                                                 stopping_rounds=0,\n",
    "                                                 nfolds=nfolds,\n",
    "                                                 keep_cross_validation_predictions=True)\n",
    "    hpr_cross_val.train(x=cur_model_cols, \n",
    "                        y=dep_var_col, \n",
    "                        training_frame=get_h2o_frame_with_rel_factors(train_validation_data))\n",
    "\n",
    "    cv_score = get_cross_validated_rmse(hpr_cross_val)\n",
    "\n",
    "    return cv_score"
   ]
  },
  {
   "cell_type": "code",
   "execution_count": null,
   "metadata": {},
   "outputs": [],
   "source": [
    "# Let us begin our testing on a good number of trees witha a low learning rate and see how it looks.\n",
    "#sorted_cross_val_scores = get_cross_val_scores_new_col([],ntrees=500, learn_rate=0.01)"
   ]
  },
  {
   "cell_type": "code",
   "execution_count": null,
   "metadata": {},
   "outputs": [],
   "source": [
    "#sorted_cross_val_scores "
   ]
  },
  {
   "cell_type": "code",
   "execution_count": null,
   "metadata": {
    "scrolled": false
   },
   "outputs": [],
   "source": [
    "# Let us check out default values now. We would not expect much of a difference here.\n",
    "#sorted_cross_val_scores = get_cross_val_scores_new_col([])"
   ]
  },
  {
   "cell_type": "code",
   "execution_count": null,
   "metadata": {},
   "outputs": [],
   "source": [
    "#sorted_cross_val_scores"
   ]
  },
  {
   "cell_type": "code",
   "execution_count": null,
   "metadata": {},
   "outputs": [],
   "source": [
    "# We do not see much of difference here. Let us try with stopping rounds (we do not expect to see much of a difference\n",
    "# here as well.)\n",
    "# Let us begin our testing on a good number of trees witha a low learning rate and see how it looks.\n",
    "#sorted_cross_val_scores = get_cross_val_scores_new_col([],ntrees=500, learn_rate=0.01, stopping_rounds=5)"
   ]
  },
  {
   "cell_type": "code",
   "execution_count": null,
   "metadata": {},
   "outputs": [],
   "source": [
    "#sorted_cross_val_scores"
   ]
  },
  {
   "cell_type": "code",
   "execution_count": null,
   "metadata": {
    "scrolled": false
   },
   "outputs": [],
   "source": [
    "#sorted_cross_val_scores = get_cross_val_scores_new_col(['OverallQual'])"
   ]
  },
  {
   "cell_type": "code",
   "execution_count": null,
   "metadata": {},
   "outputs": [],
   "source": [
    "#sorted_cross_val_scores"
   ]
  },
  {
   "cell_type": "code",
   "execution_count": null,
   "metadata": {},
   "outputs": [],
   "source": [
    "#sorted_cross_val_scores = get_cross_val_scores_new_col(['OverallQual'],ntrees=500, learn_rate=0.01, stopping_rounds=5)"
   ]
  },
  {
   "cell_type": "code",
   "execution_count": null,
   "metadata": {},
   "outputs": [],
   "source": [
    "#sorted_cross_val_scores"
   ]
  },
  {
   "cell_type": "code",
   "execution_count": null,
   "metadata": {
    "scrolled": false
   },
   "outputs": [],
   "source": [
    "#sorted_cross_val_scores = get_cross_val_scores_new_col(['OverallQual', 'GrLivArea'])"
   ]
  },
  {
   "cell_type": "code",
   "execution_count": null,
   "metadata": {},
   "outputs": [],
   "source": [
    "#sorted_cross_val_scores\n"
   ]
  },
  {
   "cell_type": "code",
   "execution_count": null,
   "metadata": {},
   "outputs": [],
   "source": [
    "# Do this after checkiing the earlier result to see if GrLivArea is the factor to be included.\n",
    "#sorted_cross_val_scores = get_cross_val_scores_new_col(['OverallQual', 'GrLivArea'],\n",
    "#                                                       ntrees=500, learn_rate=0.01, stopping_rounds=5)"
   ]
  },
  {
   "cell_type": "code",
   "execution_count": null,
   "metadata": {},
   "outputs": [],
   "source": [
    "#sorted_cross_val_scores"
   ]
  },
  {
   "cell_type": "code",
   "execution_count": null,
   "metadata": {},
   "outputs": [],
   "source": [
    "#sorted_cross_val_scores = get_cross_val_scores_new_col(['OverallQual', 'GrLivArea', 'Neighborhood'])"
   ]
  },
  {
   "cell_type": "code",
   "execution_count": null,
   "metadata": {},
   "outputs": [],
   "source": [
    "#sorted_cross_val_scores"
   ]
  },
  {
   "cell_type": "code",
   "execution_count": null,
   "metadata": {},
   "outputs": [],
   "source": [
    "# Do this after checkiing the earlier result to see if GrLivArea is the factor to be included.\n",
    "#sorted_cross_val_scores = get_cross_val_scores_new_col(['OverallQual', 'GrLivArea', 'Neighborhood'],\n",
    "#                                                       ntrees=500, learn_rate=0.01, stopping_rounds=5)"
   ]
  },
  {
   "cell_type": "code",
   "execution_count": null,
   "metadata": {},
   "outputs": [],
   "source": [
    "#sorted_cross_val_scores"
   ]
  },
  {
   "cell_type": "code",
   "execution_count": null,
   "metadata": {},
   "outputs": [],
   "source": [
    "#sorted_cross_val_scores = get_cross_val_scores_new_col(['OverallQual', 'GrLivArea', 'Neighborhood'],\n",
    "#                                                       ntrees=500, learn_rate=0.01)"
   ]
  },
  {
   "cell_type": "code",
   "execution_count": null,
   "metadata": {},
   "outputs": [],
   "source": [
    "#sorted_cross_val_scores"
   ]
  },
  {
   "cell_type": "markdown",
   "metadata": {},
   "source": [
    "If the results shown above look right, go for the final model and apply stopping rounds to the same (you may want to check for the 'heat' variable.\n"
   ]
  },
  {
   "cell_type": "code",
   "execution_count": null,
   "metadata": {
    "scrolled": false
   },
   "outputs": [],
   "source": [
    "# sorted_cross_val_scores = get_cross_val_scores_new_col(['OverallQual', \n",
    "#                                                         'Neighborhood', \n",
    "#                                                         'GrLivArea',\n",
    "#                                                         'BsmtFinSF1'])"
   ]
  },
  {
   "cell_type": "code",
   "execution_count": null,
   "metadata": {},
   "outputs": [],
   "source": [
    "# sorted_cross_val_scores"
   ]
  },
  {
   "cell_type": "code",
   "execution_count": null,
   "metadata": {},
   "outputs": [],
   "source": [
    "\n",
    "# sorted_cross_val_scores = get_cross_val_scores_new_col(['OverallQual', \n",
    "#                                                         'Neighborhood', \n",
    "#                                                         'GrLivArea',\n",
    "#                                                         'BsmtFinSF1',\n",
    "#                                                         'OverallCond'])\n"
   ]
  },
  {
   "cell_type": "code",
   "execution_count": null,
   "metadata": {},
   "outputs": [],
   "source": [
    "# sorted_cross_val_scores"
   ]
  },
  {
   "cell_type": "code",
   "execution_count": null,
   "metadata": {},
   "outputs": [],
   "source": [
    "\n",
    "# sorted_cross_val_scores = get_cross_val_scores_new_col(['OverallQual', \n",
    "#                                                         'Neighborhood', \n",
    "#                                                         'GrLivArea',\n",
    "#                                                         'BsmtFinSF1',\n",
    "#                                                         'OverallCond',\n",
    "#                                                         'GarageArea'])"
   ]
  },
  {
   "cell_type": "code",
   "execution_count": null,
   "metadata": {},
   "outputs": [],
   "source": [
    "# sorted_cross_val_scores"
   ]
  },
  {
   "cell_type": "code",
   "execution_count": null,
   "metadata": {},
   "outputs": [],
   "source": [
    "\n",
    "# sorted_cross_val_scores = get_cross_val_scores_new_col(['OverallQual', \n",
    "#                                                         'Neighborhood', \n",
    "#                                                         'GrLivArea',\n",
    "#                                                         'BsmtFinSF1',\n",
    "#                                                         'OverallCond',\n",
    "#                                                         'GarageArea',\n",
    "#                                                         'TotalBsmtSF'])\n"
   ]
  },
  {
   "cell_type": "code",
   "execution_count": null,
   "metadata": {},
   "outputs": [],
   "source": [
    "# sorted_cross_val_scores"
   ]
  },
  {
   "cell_type": "code",
   "execution_count": null,
   "metadata": {},
   "outputs": [],
   "source": [
    "\n",
    "\n",
    "# sorted_cross_val_scores = get_cross_val_scores_new_col(['OverallQual', \n",
    "#                                                         'Neighborhood', \n",
    "#                                                         'GrLivArea',\n",
    "#                                                         'BsmtFinSF1',\n",
    "#                                                         'OverallCond',\n",
    "#                                                         'GarageArea',\n",
    "#                                                         'TotalBsmtSF',\n",
    "#                                                         'YearBuilt'])\n"
   ]
  },
  {
   "cell_type": "code",
   "execution_count": null,
   "metadata": {},
   "outputs": [],
   "source": [
    "# sorted_cross_val_scores"
   ]
  },
  {
   "cell_type": "code",
   "execution_count": null,
   "metadata": {},
   "outputs": [],
   "source": [
    "# sorted_cross_val_scores = get_cross_val_scores_new_col(['OverallQual', \n",
    "#                                                         'Neighborhood', \n",
    "#                                                         'GrLivArea',\n",
    "#                                                         'BsmtFinSF1',\n",
    "#                                                         'OverallCond',\n",
    "#                                                         'GarageArea',\n",
    "#                                                         'TotalBsmtSF',\n",
    "#                                                         'YearBuilt',\n",
    "#                                                         'GarageFinish'])\n",
    "\n"
   ]
  },
  {
   "cell_type": "code",
   "execution_count": null,
   "metadata": {},
   "outputs": [],
   "source": [
    "# sorted_cross_val_scores"
   ]
  },
  {
   "cell_type": "code",
   "execution_count": null,
   "metadata": {},
   "outputs": [],
   "source": [
    "# sorted_cross_val_scores = get_cross_val_scores_new_col(['OverallQual', \n",
    "#                                                         'Neighborhood', \n",
    "#                                                         'GrLivArea',\n",
    "#                                                         'BsmtFinSF1',\n",
    "#                                                         'OverallCond',\n",
    "#                                                         'GarageArea',\n",
    "#                                                         'TotalBsmtSF',\n",
    "#                                                         'YearBuilt',\n",
    "#                                                         'GarageFinish',\n",
    "#                                                         'LotArea'])\n",
    "\n"
   ]
  },
  {
   "cell_type": "code",
   "execution_count": null,
   "metadata": {},
   "outputs": [],
   "source": [
    "# sorted_cross_val_scores"
   ]
  },
  {
   "cell_type": "code",
   "execution_count": null,
   "metadata": {},
   "outputs": [],
   "source": [
    "# sorted_cross_val_scores = get_cross_val_scores_new_col(['OverallQual', \n",
    "#                                                         'Neighborhood', \n",
    "#                                                         'GrLivArea',\n",
    "#                                                         'BsmtFinSF1',\n",
    "#                                                         'OverallCond',\n",
    "#                                                         'GarageArea',\n",
    "#                                                         'TotalBsmtSF',\n",
    "#                                                         'YearBuilt',\n",
    "#                                                         'GarageFinish',\n",
    "#                                                         'LotArea',\n",
    "#                                                         'CentralAir'])\n",
    "\n"
   ]
  },
  {
   "cell_type": "code",
   "execution_count": null,
   "metadata": {},
   "outputs": [],
   "source": [
    "# sorted_cross_val_scores"
   ]
  },
  {
   "cell_type": "code",
   "execution_count": null,
   "metadata": {},
   "outputs": [],
   "source": [
    "# sorted_cross_val_scores = get_cross_val_scores_new_col(['OverallQual', \n",
    "#                                                         'Neighborhood', \n",
    "#                                                         'GrLivArea',\n",
    "#                                                         'BsmtFinSF1',\n",
    "#                                                         'OverallCond',\n",
    "#                                                         'GarageArea',\n",
    "#                                                         'TotalBsmtSF',\n",
    "#                                                         'YearBuilt',\n",
    "#                                                         'GarageFinish',\n",
    "#                                                         'LotArea',\n",
    "#                                                         'CentralAir',\n",
    "#                                                         'BsmtFinType1'])\n",
    "\n"
   ]
  },
  {
   "cell_type": "code",
   "execution_count": null,
   "metadata": {},
   "outputs": [],
   "source": [
    "# sorted_cross_val_scores"
   ]
  },
  {
   "cell_type": "code",
   "execution_count": null,
   "metadata": {},
   "outputs": [],
   "source": [
    "# sorted_cross_val_scores = get_cross_val_scores_new_col(['OverallQual', \n",
    "#                                                         'Neighborhood', \n",
    "#                                                         'GrLivArea',\n",
    "#                                                         'BsmtFinSF1',\n",
    "#                                                         'OverallCond',\n",
    "#                                                         'GarageArea',\n",
    "#                                                         'TotalBsmtSF',\n",
    "#                                                         'YearBuilt',\n",
    "#                                                         'GarageFinish',\n",
    "#                                                         'LotArea',\n",
    "#                                                         'CentralAir',\n",
    "#                                                         'BsmtFinType1',\n",
    "#                                                         'KitchenAbvGr'])\n",
    "\n"
   ]
  },
  {
   "cell_type": "code",
   "execution_count": null,
   "metadata": {},
   "outputs": [],
   "source": [
    "# sorted_cross_val_scores"
   ]
  },
  {
   "cell_type": "code",
   "execution_count": null,
   "metadata": {},
   "outputs": [],
   "source": [
    "# sorted_cross_val_scores = get_cross_val_scores_new_col(['OverallQual', \n",
    "#                                                         'Neighborhood', \n",
    "#                                                         'GrLivArea',\n",
    "#                                                         'BsmtFinSF1',\n",
    "#                                                         'OverallCond',\n",
    "#                                                         'GarageArea',\n",
    "#                                                         'TotalBsmtSF',\n",
    "#                                                         'YearBuilt',\n",
    "#                                                         'GarageFinish',\n",
    "#                                                         'LotArea',\n",
    "#                                                         'CentralAir',\n",
    "#                                                         'BsmtFinType1',\n",
    "#                                                         'KitchenAbvGr',\n",
    "#                                                         'Condition1'])\n",
    "\n"
   ]
  },
  {
   "cell_type": "code",
   "execution_count": null,
   "metadata": {},
   "outputs": [],
   "source": [
    "# sorted_cross_val_scores"
   ]
  },
  {
   "cell_type": "code",
   "execution_count": null,
   "metadata": {},
   "outputs": [],
   "source": [
    "# sorted_cross_val_scores = get_cross_val_scores_new_col(['OverallQual', \n",
    "#                                                         'Neighborhood', \n",
    "#                                                         'GrLivArea',\n",
    "#                                                         'BsmtFinSF1',\n",
    "#                                                         'OverallCond',\n",
    "#                                                         'GarageArea',\n",
    "#                                                         'TotalBsmtSF',\n",
    "#                                                         'YearBuilt',\n",
    "#                                                         'GarageFinish',\n",
    "#                                                         'LotArea',\n",
    "#                                                         'CentralAir',\n",
    "#                                                         'BsmtFinType1',\n",
    "#                                                         'KitchenAbvGr',\n",
    "#                                                         'Condition1',\n",
    "#                                                         'ScreenPorch'])\n",
    "\n"
   ]
  },
  {
   "cell_type": "code",
   "execution_count": null,
   "metadata": {},
   "outputs": [],
   "source": [
    "# sorted_cross_val_scores"
   ]
  },
  {
   "cell_type": "code",
   "execution_count": null,
   "metadata": {},
   "outputs": [],
   "source": [
    "# sorted_cross_val_scores = get_cross_val_scores_new_col(['OverallQual', \n",
    "#                                                         'Neighborhood', \n",
    "#                                                         'GrLivArea',\n",
    "#                                                         'BsmtFinSF1',\n",
    "#                                                         'OverallCond',\n",
    "#                                                         'GarageArea',\n",
    "#                                                         'TotalBsmtSF',\n",
    "#                                                         'YearBuilt',\n",
    "#                                                         'GarageFinish',\n",
    "#                                                         'LotArea',\n",
    "#                                                         'CentralAir',\n",
    "#                                                         'BsmtFinType1',\n",
    "#                                                         'KitchenAbvGr',\n",
    "#                                                         'Condition1',\n",
    "#                                                         'ScreenPorch',\n",
    "#                                                         'BsmtFinType2'])\n",
    "\n"
   ]
  },
  {
   "cell_type": "code",
   "execution_count": null,
   "metadata": {},
   "outputs": [],
   "source": [
    "# sorted_cross_val_scores"
   ]
  },
  {
   "cell_type": "code",
   "execution_count": null,
   "metadata": {},
   "outputs": [],
   "source": [
    "# sorted_cross_val_scores = get_cross_val_scores_new_col(['OverallQual', \n",
    "#                                                         'Neighborhood', \n",
    "#                                                         'GrLivArea',\n",
    "#                                                         'BsmtFinSF1',\n",
    "#                                                         'OverallCond',\n",
    "#                                                         'GarageArea',\n",
    "#                                                         'TotalBsmtSF',\n",
    "#                                                         'YearBuilt',\n",
    "#                                                         'GarageFinish',\n",
    "#                                                         'LotArea',\n",
    "#                                                         'CentralAir',\n",
    "#                                                         'BsmtFinType1',\n",
    "#                                                         'KitchenAbvGr',\n",
    "#                                                         'Condition1',\n",
    "#                                                         'ScreenPorch',\n",
    "#                                                         'BsmtFinType2',\n",
    "#                                                         'Heating'])\n",
    "\n"
   ]
  },
  {
   "cell_type": "code",
   "execution_count": null,
   "metadata": {},
   "outputs": [],
   "source": [
    "# cross_val_score_this_model = get_cross_val_scores_given_cols(['OverallQual', \n",
    "#                                                         'Neighborhood', \n",
    "#                                                         'GrLivArea',\n",
    "#                                                         'BsmtFinSF1',\n",
    "#                                                         'OverallCond',\n",
    "#                                                         'GarageArea',\n",
    "#                                                         'TotalBsmtSF',\n",
    "#                                                         'YearBuilt',\n",
    "#                                                         'GarageFinish',\n",
    "#                                                         'LotArea',\n",
    "#                                                         'CentralAir',\n",
    "#                                                         'BsmtFinType1',\n",
    "#                                                         'KitchenAbvGr',\n",
    "#                                                         'Condition1',\n",
    "#                                                         'ScreenPorch',\n",
    "#                                                         'BsmtFinType2',\n",
    "#                                                         'Heating'])\n",
    "\n"
   ]
  },
  {
   "cell_type": "code",
   "execution_count": null,
   "metadata": {},
   "outputs": [],
   "source": [
    "# cross_val_score_this_model"
   ]
  },
  {
   "cell_type": "code",
   "execution_count": null,
   "metadata": {},
   "outputs": [],
   "source": [
    "# sorted_cross_val_scores"
   ]
  },
  {
   "cell_type": "markdown",
   "metadata": {},
   "source": [
    "We see that the cross validation score is decreasing, indicating that we have reached a plateau. Let us make check out our cross validation score now."
   ]
  },
  {
   "cell_type": "code",
   "execution_count": null,
   "metadata": {},
   "outputs": [],
   "source": [
    "final_cols = ['OverallQual', \n",
    "              'Neighborhood', \n",
    "              'GrLivArea',\n",
    "              'BsmtFinSF1',\n",
    "              'OverallCond',\n",
    "              'GarageArea',\n",
    "              'TotalBsmtSF',\n",
    "              'YearBuilt',\n",
    "              'GarageFinish',\n",
    "              'LotArea',\n",
    "              'CentralAir',\n",
    "              'BsmtFinType1',\n",
    "              'KitchenAbvGr',\n",
    "              'Condition1',\n",
    "              'ScreenPorch',\n",
    "              'BsmtFinType2',\n",
    "              'Heating']"
   ]
  },
  {
   "cell_type": "code",
   "execution_count": null,
   "metadata": {},
   "outputs": [],
   "source": [
    "cv_score = get_cross_val_scores_given_cols(final_cols)\n",
    "print(cv_score)\n"
   ]
  },
  {
   "cell_type": "markdown",
   "metadata": {},
   "source": [
    "#### Run at home BEGIN"
   ]
  },
  {
   "cell_type": "code",
   "execution_count": null,
   "metadata": {},
   "outputs": [],
   "source": [
    "'''\n",
    "cv_score = get_cross_val_scores_given_cols(final_cols, ntrees=500, learn_rate=0.01)\n",
    "print(cv_score)\n",
    "'''\n"
   ]
  },
  {
   "cell_type": "code",
   "execution_count": null,
   "metadata": {},
   "outputs": [],
   "source": [
    "'''\n",
    "cv_score = get_cross_val_scores_given_cols(final_cols, ntrees=500, learn_rate=0.01, stopping_rounds=5)\n",
    "print(cv_score)\n",
    "'''\n"
   ]
  },
  {
   "cell_type": "markdown",
   "metadata": {},
   "source": [
    "#### Run at home END"
   ]
  },
  {
   "cell_type": "markdown",
   "metadata": {},
   "source": [
    "#### Complete summary of the cross validation metrics."
   ]
  },
  {
   "cell_type": "code",
   "execution_count": null,
   "metadata": {},
   "outputs": [],
   "source": [
    "# Do a 10 fold cross validation as that is done typically.\n",
    "hpr_cross_val = H2OGradientBoostingEstimator(model_id='housing_price_regression', \n",
    "                                             seed=1, \n",
    "                                             nfolds=5,\n",
    "                                             keep_cross_validation_predictions=True)\n",
    "hpr_cross_val.train(x=final_cols, \n",
    "                    y=dep_var_col, \n",
    "                    training_frame=get_h2o_frame_with_rel_factors(train_validation_data))\n"
   ]
  },
  {
   "cell_type": "code",
   "execution_count": null,
   "metadata": {},
   "outputs": [],
   "source": [
    "hpr_cross_val"
   ]
  },
  {
   "cell_type": "markdown",
   "metadata": {},
   "source": [
    "### Quantifying validation error on validation data set.\n",
    "\n",
    "Ideally this is not necessary as we have already performed cross validation over the entire training data set, but it is still useful to do it as this be a comparable yardstick against other models and can be useful while ensembling as well."
   ]
  },
  {
   "cell_type": "code",
   "execution_count": null,
   "metadata": {},
   "outputs": [],
   "source": [
    "# Do a 10 fold cross validation as that is done typically.\n",
    "model_train_data = H2OGradientBoostingEstimator(model_id='housing_price_regression', \n",
    "                                                seed=1)\n",
    "model_train_data.train(x=final_cols, \n",
    "                       y=dep_var_col, \n",
    "                       training_frame=get_h2o_frame_with_rel_factors(train_data))\n",
    "\n",
    "predict_validation = model_train_data.predict(\n",
    "    get_h2o_frame_with_rel_factors(validation_data))                \n",
    "\n",
    "validation_data['Predictions'] = predict_validation['predict'].as_data_frame()\n",
    "evaluate_model_score_given_predictions(validation_data['LogSalePrice'], validation_data['Predictions'])\n"
   ]
  },
  {
   "cell_type": "markdown",
   "metadata": {},
   "source": [
    "#### 4 entries having values not encountered in training set for the 'Heating' column.\n",
    "\n",
    "Hence we are ignoring it for now. Also, this issue is not presnet in test data as well."
   ]
  },
  {
   "cell_type": "code",
   "execution_count": null,
   "metadata": {},
   "outputs": [],
   "source": [
    "# Dump validaiton data to a file, which would be used later for ensembling.\n",
    "validation_data[['Id', 'LogSalePrice', 'Predictions']].to_csv('housing_price_h2o_gradient_boosting_validation.csv', \n",
    "                                                              index=False)"
   ]
  },
  {
   "cell_type": "markdown",
   "metadata": {},
   "source": [
    "### Making predictions on test data\n",
    "\n",
    "Now, there is another important matter to consider. In order to make predictions on test data, firstly it is important that we make sure that the test data is good. \n",
    "\n",
    "One problem that could be relevant here is presence of lots of null values in the test set and not in the training set. Let us check whether that is the case"
   ]
  },
  {
   "cell_type": "code",
   "execution_count": null,
   "metadata": {},
   "outputs": [],
   "source": [
    "test_data[final_cols].isnull().sum()"
   ]
  },
  {
   "cell_type": "markdown",
   "metadata": {},
   "source": [
    "Okay, things look good. Let us generate predictions on the test set."
   ]
  },
  {
   "cell_type": "code",
   "execution_count": null,
   "metadata": {},
   "outputs": [],
   "source": [
    "final_model = H2OGradientBoostingEstimator(model_id='housing_price_regression', seed=1)\n",
    "final_model.train(x=final_cols, \n",
    "                  y=dep_var_col, \n",
    "                  training_frame=get_h2o_frame_with_rel_factors(train_validation_data))\n"
   ]
  },
  {
   "cell_type": "code",
   "execution_count": null,
   "metadata": {},
   "outputs": [],
   "source": [
    "predict_out = final_model.predict(\n",
    "    get_h2o_frame_with_rel_factors(test_data))                \n"
   ]
  },
  {
   "cell_type": "code",
   "execution_count": null,
   "metadata": {},
   "outputs": [],
   "source": [
    "test_data['LogSalePrice'] = predict_out['predict'].as_data_frame()"
   ]
  },
  {
   "cell_type": "code",
   "execution_count": null,
   "metadata": {},
   "outputs": [],
   "source": [
    "test_data['SalePrice'] = test_data['LogSalePrice'].apply(lambda x : np.exp(x))"
   ]
  },
  {
   "cell_type": "code",
   "execution_count": null,
   "metadata": {},
   "outputs": [],
   "source": [
    "test_data[['Id', 'SalePrice']].to_csv('housing_price_h2o_gradient_boosting_predictions.csv', index=False)"
   ]
  }
 ],
 "metadata": {
  "kernelspec": {
   "display_name": "Python 3",
   "language": "python",
   "name": "python3"
  },
  "language_info": {
   "codemirror_mode": {
    "name": "ipython",
    "version": 3
   },
   "file_extension": ".py",
   "mimetype": "text/x-python",
   "name": "python",
   "nbconvert_exporter": "python",
   "pygments_lexer": "ipython3",
   "version": "3.6.8"
  }
 },
 "nbformat": 4,
 "nbformat_minor": 2
}

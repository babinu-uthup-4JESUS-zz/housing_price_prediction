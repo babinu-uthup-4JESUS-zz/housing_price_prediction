{
 "cells": [
  {
   "cell_type": "markdown",
   "metadata": {},
   "source": [
    "### Building a full fledged lasso model.\n",
    "\n",
    "Here, we focus on building a full fledged lasso model. Here we go !"
   ]
  },
  {
   "cell_type": "code",
   "execution_count": 1,
   "metadata": {},
   "outputs": [],
   "source": [
    "# Scratch\n",
    "import pandas as pd\n",
    "import sys\n",
    "orig_train_data = pd.read_csv('../../input/train.csv')"
   ]
  },
  {
   "cell_type": "code",
   "execution_count": 2,
   "metadata": {},
   "outputs": [],
   "source": [
    "sys.path.append('../../common_routines/')\n",
    "import numpy as np\n",
    "from relevant_functions import\\\n",
    "    evaluate_model_score_given_predictions,\\\n",
    "    fit_pipeline_and_evaluate_on_validation_set,\\\n",
    "    fit_pipeline_and_cross_validate, \\\n",
    "    fit_pipeline_and_return_cross_validation_scores, \\\n",
    "    fit_pipeline_and_make_predictions_on_test_set"
   ]
  },
  {
   "cell_type": "code",
   "execution_count": 3,
   "metadata": {},
   "outputs": [
    {
     "data": {
      "text/plain": [
       "Index(['Id', 'MSSubClass', 'MSZoning', 'LotFrontage', 'LotArea', 'Street',\n",
       "       'Alley', 'LotShape', 'LandContour', 'Utilities', 'LotConfig',\n",
       "       'LandSlope', 'Neighborhood', 'Condition1', 'Condition2', 'BldgType',\n",
       "       'HouseStyle', 'OverallQual', 'OverallCond', 'YearBuilt', 'YearRemodAdd',\n",
       "       'RoofStyle', 'RoofMatl', 'Exterior1st', 'Exterior2nd', 'MasVnrType',\n",
       "       'MasVnrArea', 'ExterQual', 'ExterCond', 'Foundation', 'BsmtQual',\n",
       "       'BsmtCond', 'BsmtExposure', 'BsmtFinType1', 'BsmtFinSF1',\n",
       "       'BsmtFinType2', 'BsmtFinSF2', 'BsmtUnfSF', 'TotalBsmtSF', 'Heating',\n",
       "       'HeatingQC', 'CentralAir', 'Electrical', '1stFlrSF', '2ndFlrSF',\n",
       "       'LowQualFinSF', 'GrLivArea', 'BsmtFullBath', 'BsmtHalfBath', 'FullBath',\n",
       "       'HalfBath', 'BedroomAbvGr', 'KitchenAbvGr', 'KitchenQual',\n",
       "       'TotRmsAbvGrd', 'Functional', 'Fireplaces', 'FireplaceQu', 'GarageType',\n",
       "       'GarageYrBlt', 'GarageFinish', 'GarageCars', 'GarageArea', 'GarageQual',\n",
       "       'GarageCond', 'PavedDrive', 'WoodDeckSF', 'OpenPorchSF',\n",
       "       'EnclosedPorch', '3SsnPorch', 'ScreenPorch', 'PoolArea', 'PoolQC',\n",
       "       'Fence', 'MiscFeature', 'MiscVal', 'MoSold', 'YrSold', 'SaleType',\n",
       "       'SaleCondition', 'SalePrice'],\n",
       "      dtype='object')"
      ]
     },
     "execution_count": 3,
     "metadata": {},
     "output_type": "execute_result"
    }
   ],
   "source": [
    "orig_train_data.columns"
   ]
  },
  {
   "cell_type": "code",
   "execution_count": 4,
   "metadata": {},
   "outputs": [
    {
     "data": {
      "text/plain": [
       "81"
      ]
     },
     "execution_count": 4,
     "metadata": {},
     "output_type": "execute_result"
    }
   ],
   "source": [
    "len(orig_train_data.columns)"
   ]
  },
  {
   "cell_type": "code",
   "execution_count": 5,
   "metadata": {},
   "outputs": [
    {
     "data": {
      "text/plain": [
       "array(['Typ', 'Min1', 'Maj1', 'Min2', 'Mod', 'Maj2', 'Sev'], dtype=object)"
      ]
     },
     "execution_count": 5,
     "metadata": {},
     "output_type": "execute_result"
    }
   ],
   "source": [
    "orig_train_data['Functional'].unique()"
   ]
  },
  {
   "cell_type": "markdown",
   "metadata": {},
   "source": [
    "### Plan\n",
    "\n",
    "1. For every column in original training data, we should have one of the following transforms :\n",
    "\n",
    "    (a) Does nothing\n",
    "    \n",
    "    (b) Does log transform\n",
    "    \n",
    "    (c) Does one hot encoding\n",
    "    \n",
    "    (d) Handles null values (say for MasVnrArea)\n",
    "    \n",
    "    \n",
    "These transforms will create variables that are passed on to lasso method using modified dataframe. \n",
    "\n",
    "One question is whether we have linearly dependent columns as inputs to lasso. I beleive that it should be fine, as it would simply finetune the algorithm. One must however check whether there are dependent predictors in the final model."
   ]
  },
  {
   "cell_type": "code",
   "execution_count": 6,
   "metadata": {},
   "outputs": [],
   "source": [
    "def get_rel_X_cols(X_columns, X_column_transform_map, input_df=None, validation_df=None):\n",
    "    rel_X_cols = list()\n",
    "    for col in X_columns:\n",
    "        if col in X_column_transform_map.keys():\n",
    "            rel_cols = X_column_transform_map.get(col)(col , input_df, validation_df)\n",
    "        else:\n",
    "            rel_cols = [col]\n",
    "        for elem in rel_cols:\n",
    "            rel_X_cols.append(elem)\n",
    "    return rel_X_cols"
   ]
  },
  {
   "cell_type": "code",
   "execution_count": 7,
   "metadata": {},
   "outputs": [],
   "source": [
    "train_data_one_hot = pd.read_csv('../../cleaned_input/train_data_one_hot.csv')\n",
    "validation_data_one_hot = pd.read_csv('../../cleaned_input/validation_data_one_hot.to_csv')\n",
    "test_data_one_hot =pd.read_csv('../../cleaned_input/test_data_one_hot.csv')"
   ]
  },
  {
   "cell_type": "code",
   "execution_count": 8,
   "metadata": {},
   "outputs": [
    {
     "data": {
      "text/plain": [
       "array(['1stFlrSF', '2ndFlrSF', '3SsnPorch', 'BedroomAbvGr', 'BsmtFinSF1',\n",
       "       'BsmtFinSF2', 'BsmtFullBath', 'BsmtHalfBath', 'BsmtUnfSF',\n",
       "       'EnclosedPorch', 'Fireplaces', 'FullBath', 'GarageArea',\n",
       "       'GarageCars', 'GarageYrBlt', 'GarageYrBlt_not_missing',\n",
       "       'GarageYrBlt_times_not_missing', 'GrLivArea', 'HalfBath', 'Id',\n",
       "       'KitchenAbvGr', 'Log1stFlrSF', 'Log2ndFlrSF', 'Log3SsnPorch',\n",
       "       'LogBsmtFinSF1', 'LogBsmtFinSF2', 'LogBsmtUnfSF',\n",
       "       'LogEnclosedPorch', 'LogGarageArea', 'LogGrLivArea', 'LogLotArea',\n",
       "       'LogLowQualFinSF', 'LogMasVnrArea_times_not_missing', 'LogMiscVal',\n",
       "       'LogOpenPorchSF', 'LogPoolArea', 'LogSalePrice', 'LogScreenPorch',\n",
       "       'LogTotalBsmtSF', 'LogWoodDeckSF', 'LotArea', 'LowQualFinSF',\n",
       "       'MasVnrArea', 'MasVnrArea_not_missing',\n",
       "       'MasVnrArea_times_not_missing', 'MiscVal', 'OpenPorchSF',\n",
       "       'OverallCond', 'OverallQual', 'PoolArea', 'SalePrice',\n",
       "       'ScreenPorch', 'TotRmsAbvGrd', 'TotalBsmtSF', 'WoodDeckSF',\n",
       "       'YearBuilt', 'YearRemodAdd', 'BldgType_1Fam', 'BldgType_2fmCon',\n",
       "       'BldgType_Duplex', 'BldgType_Twnhs', 'BldgType_TwnhsE',\n",
       "       'BsmtCond_Fa', 'BsmtCond_Gd', 'BsmtCond_Missing', 'BsmtCond_Po',\n",
       "       'BsmtCond_TA', 'BsmtExposure_Av', 'BsmtExposure_Gd',\n",
       "       'BsmtExposure_Missing', 'BsmtExposure_Mn', 'BsmtExposure_No',\n",
       "       'BsmtFinType1_ALQ', 'BsmtFinType1_BLQ', 'BsmtFinType1_GLQ',\n",
       "       'BsmtFinType1_LwQ', 'BsmtFinType1_Rec', 'BsmtFinType1_Unf',\n",
       "       'BsmtFinType2_ALQ', 'BsmtFinType2_BLQ', 'BsmtFinType2_GLQ',\n",
       "       'BsmtFinType2_LwQ', 'BsmtFinType2_Rec', 'BsmtFinType2_Unf',\n",
       "       'BsmtQual_Ex', 'BsmtQual_Fa', 'BsmtQual_Gd', 'BsmtQual_Missing',\n",
       "       'BsmtQual_TA', 'CentralAir_N', 'CentralAir_Y', 'Condition1_Artery',\n",
       "       'Condition1_Feedr', 'Condition1_Norm', 'Condition1_PosA',\n",
       "       'Condition1_PosN', 'Condition1_RRAe', 'Condition1_RRAn',\n",
       "       'Condition1_RRNe', 'Condition1_RRNn', 'Condition2_Artery',\n",
       "       'Condition2_Feedr', 'Condition2_Norm', 'Condition2_PosA',\n",
       "       'Condition2_PosN', 'Condition2_RRAe', 'Condition2_RRAn',\n",
       "       'Condition2_RRNn', 'Electrical_FuseA', 'Electrical_FuseF',\n",
       "       'Electrical_FuseP', 'Electrical_Missing', 'Electrical_Mix',\n",
       "       'Electrical_SBrkr', 'ExterCond_Ex', 'ExterCond_Fa', 'ExterCond_Gd',\n",
       "       'ExterCond_Po', 'ExterCond_TA', 'ExterQual_Ex', 'ExterQual_Fa',\n",
       "       'ExterQual_Gd', 'ExterQual_TA', 'Exterior1st_AsbShng',\n",
       "       'Exterior1st_AsphShn', 'Exterior1st_BrkComm',\n",
       "       'Exterior1st_BrkFace', 'Exterior1st_CBlock', 'Exterior1st_CemntBd',\n",
       "       'Exterior1st_HdBoard', 'Exterior1st_ImStucc',\n",
       "       'Exterior1st_MetalSd', 'Exterior1st_Plywood', 'Exterior1st_Stone',\n",
       "       'Exterior1st_Stucco', 'Exterior1st_VinylSd', 'Exterior1st_Wd Sdng',\n",
       "       'Exterior1st_WdShing', 'Exterior2nd_AsbShng',\n",
       "       'Exterior2nd_AsphShn', 'Exterior2nd_Brk Cmn',\n",
       "       'Exterior2nd_BrkFace', 'Exterior2nd_CBlock', 'Exterior2nd_CmentBd',\n",
       "       'Exterior2nd_HdBoard', 'Exterior2nd_ImStucc',\n",
       "       'Exterior2nd_MetalSd', 'Exterior2nd_Other', 'Exterior2nd_Plywood',\n",
       "       'Exterior2nd_Stone', 'Exterior2nd_Stucco', 'Exterior2nd_VinylSd',\n",
       "       'Exterior2nd_Wd Sdng', 'Exterior2nd_Wd Shng', 'Fence_GdPrv',\n",
       "       'Fence_GdWo', 'Fence_Missing', 'Fence_MnPrv', 'Fence_MnWw',\n",
       "       'FireplaceQu_Ex', 'FireplaceQu_Fa', 'FireplaceQu_Gd',\n",
       "       'FireplaceQu_Missing', 'FireplaceQu_Po', 'FireplaceQu_TA',\n",
       "       'Foundation_BrkTil', 'Foundation_CBlock', 'Foundation_PConc',\n",
       "       'Foundation_Slab', 'Foundation_Stone', 'Foundation_Wood',\n",
       "       'Functional_Maj1', 'Functional_Maj2', 'Functional_Min1',\n",
       "       'Functional_Min2', 'Functional_Mod', 'Functional_Sev',\n",
       "       'Functional_Typ', 'GarageCond_Ex', 'GarageCond_Fa',\n",
       "       'GarageCond_Gd', 'GarageCond_Missing', 'GarageCond_Po',\n",
       "       'GarageCond_TA', 'GarageFinish_Fin', 'GarageFinish_Missing',\n",
       "       'GarageFinish_RFn', 'GarageFinish_Unf', 'GarageQual_Ex',\n",
       "       'GarageQual_Fa', 'GarageQual_Gd', 'GarageQual_Missing',\n",
       "       'GarageQual_Po', 'GarageQual_TA', 'GarageType_2Types',\n",
       "       'GarageType_Attchd', 'GarageType_Basment', 'GarageType_BuiltIn',\n",
       "       'GarageType_CarPort', 'GarageType_Detchd', 'GarageType_Missing',\n",
       "       'Heating_Floor', 'Heating_GasA', 'Heating_GasW', 'Heating_Grav',\n",
       "       'Heating_OthW', 'Heating_Wall', 'HeatingQC_Ex', 'HeatingQC_Fa',\n",
       "       'HeatingQC_Gd', 'HeatingQC_Po', 'HeatingQC_TA',\n",
       "       'HouseStyle_1.5Fin', 'HouseStyle_1.5Unf', 'HouseStyle_1Story',\n",
       "       'HouseStyle_2.5Fin', 'HouseStyle_2.5Unf', 'HouseStyle_2Story',\n",
       "       'HouseStyle_SFoyer', 'HouseStyle_SLvl', 'KitchenQual_Ex',\n",
       "       'KitchenQual_Fa', 'KitchenQual_Gd', 'KitchenQual_TA',\n",
       "       'LandContour_Bnk', 'LandContour_HLS', 'LandContour_Low',\n",
       "       'LandContour_Lvl', 'LandSlope_Gtl', 'LandSlope_Mod',\n",
       "       'LandSlope_Sev', 'LotConfig_Corner', 'LotConfig_CulDSac',\n",
       "       'LotConfig_FR2', 'LotConfig_FR3', 'LotConfig_Inside',\n",
       "       'LotShape_IR1', 'LotShape_IR2', 'LotShape_IR3', 'LotShape_Reg',\n",
       "       'MSSubClass_120', 'MSSubClass_150', 'MSSubClass_160',\n",
       "       'MSSubClass_180', 'MSSubClass_190', 'MSSubClass_20',\n",
       "       'MSSubClass_30', 'MSSubClass_40', 'MSSubClass_45', 'MSSubClass_50',\n",
       "       'MSSubClass_60', 'MSSubClass_70', 'MSSubClass_75', 'MSSubClass_80',\n",
       "       'MSSubClass_85', 'MSSubClass_90', 'MSZoning_C (all)',\n",
       "       'MSZoning_FV', 'MSZoning_RH', 'MSZoning_RL', 'MSZoning_RM',\n",
       "       'MasVnrType_BrkCmn', 'MasVnrType_BrkFace', 'MasVnrType_Missing',\n",
       "       'MasVnrType_None', 'MasVnrType_Stone', 'MiscFeature_Gar2',\n",
       "       'MiscFeature_Missing', 'MiscFeature_Othr', 'MiscFeature_Shed',\n",
       "       'MiscFeature_TenC', 'MoSold_1', 'MoSold_10', 'MoSold_11',\n",
       "       'MoSold_12', 'MoSold_2', 'MoSold_3', 'MoSold_4', 'MoSold_5',\n",
       "       'MoSold_6', 'MoSold_7', 'MoSold_8', 'MoSold_9',\n",
       "       'Neighborhood_Blmngtn', 'Neighborhood_Blueste',\n",
       "       'Neighborhood_BrDale', 'Neighborhood_BrkSide',\n",
       "       'Neighborhood_ClearCr', 'Neighborhood_CollgCr',\n",
       "       'Neighborhood_Crawfor', 'Neighborhood_Edwards',\n",
       "       'Neighborhood_Gilbert', 'Neighborhood_IDOTRR',\n",
       "       'Neighborhood_MeadowV', 'Neighborhood_Mitchel',\n",
       "       'Neighborhood_NAmes', 'Neighborhood_NPkVill',\n",
       "       'Neighborhood_NWAmes', 'Neighborhood_NoRidge',\n",
       "       'Neighborhood_NridgHt', 'Neighborhood_OldTown',\n",
       "       'Neighborhood_SWISU', 'Neighborhood_Sawyer',\n",
       "       'Neighborhood_SawyerW', 'Neighborhood_Somerst',\n",
       "       'Neighborhood_StoneBr', 'Neighborhood_Timber',\n",
       "       'Neighborhood_Veenker', 'PavedDrive_N', 'PavedDrive_P',\n",
       "       'PavedDrive_Y', 'PoolQC_Ex', 'PoolQC_Fa', 'PoolQC_Gd',\n",
       "       'PoolQC_Missing', 'RoofMatl_ClyTile', 'RoofMatl_CompShg',\n",
       "       'RoofMatl_Membran', 'RoofMatl_Metal', 'RoofMatl_Roll',\n",
       "       'RoofMatl_Tar&Grv', 'RoofMatl_WdShake', 'RoofMatl_WdShngl',\n",
       "       'RoofStyle_Flat', 'RoofStyle_Gable', 'RoofStyle_Gambrel',\n",
       "       'RoofStyle_Hip', 'RoofStyle_Mansard', 'RoofStyle_Shed',\n",
       "       'SaleCondition_Abnorml', 'SaleCondition_AdjLand',\n",
       "       'SaleCondition_Alloca', 'SaleCondition_Family',\n",
       "       'SaleCondition_Normal', 'SaleCondition_Partial', 'SaleType_COD',\n",
       "       'SaleType_CWD', 'SaleType_Con', 'SaleType_ConLD', 'SaleType_ConLI',\n",
       "       'SaleType_ConLw', 'SaleType_New', 'SaleType_Oth', 'SaleType_WD',\n",
       "       'Street_Grvl', 'Street_Pave', 'Utilities_AllPub',\n",
       "       'Utilities_NoSeWa', 'YrSold_2006', 'YrSold_2007', 'YrSold_2008',\n",
       "       'YrSold_2009', 'YrSold_2010'], dtype=object)"
      ]
     },
     "execution_count": 8,
     "metadata": {},
     "output_type": "execute_result"
    }
   ],
   "source": [
    "train_data_one_hot.columns.values"
   ]
  },
  {
   "cell_type": "code",
   "execution_count": 9,
   "metadata": {},
   "outputs": [],
   "source": [
    "def get_nothing(column, input_df=None, validation_df=None):\n",
    "    return []\n",
    "\n",
    "def get_column_itself(column, input_df=None, validation_df=None):\n",
    "    return [column]\n",
    "\n",
    "def get_log_transform(column, input_df=None, validation_df=None):\n",
    "    return ['Log' + column]\n",
    "    \n",
    "def get_one_hot_encoded_transformation(column, input_df=None, validation_df=None):\n",
    "    \n",
    "    rel_cols = [col for col in input_df.columns if column + '_' in col and column + '_Val' not in col]\n",
    "    return rel_cols\n",
    "\n",
    "def get_null_value_handling_with_log_transform(column, input_df=None, validation_df=None):\n",
    "    rel_cols = ['Log' + column + '_times_not_missing', column + '_not_missing']\n",
    "    return rel_cols\n",
    "\n",
    "def get_null_value_handling_with_no_transform(column, input_df=None, validation_df=None):\n",
    "    rel_cols = [column + '_times_not_missing', column + '_not_missing']\n",
    "    return rel_cols"
   ]
  },
  {
   "cell_type": "markdown",
   "metadata": {},
   "source": [
    "'GarageFinish',\n",
    "'GarageCars', 'GarageArea', 'GarageQual',\n",
    "       'GarageCond', 'PavedDrive', 'WoodDeckSF', 'OpenPorchSF',\n",
    "       'EnclosedPorch', '3SsnPorch', 'ScreenPorch', 'PoolArea', 'PoolQC',\n",
    "       'Fence', 'MiscFeature', 'MiscVal', 'MoSold', 'YrSold', 'SaleType',\n",
    "       'SaleCondition',"
   ]
  },
  {
   "cell_type": "code",
   "execution_count": 10,
   "metadata": {},
   "outputs": [
    {
     "name": "stdout",
     "output_type": "stream",
     "text": [
      "           'GarageFinish',\n",
      "           'GarageCars',\n",
      "           'GarageArea',\n",
      "                        'GarageFinish' : get_one_hot_encoded_transformation,\n",
      "                        'GarageCars' : get_one_hot_encoded_transformation,\n",
      "                        'GarageArea' : get_one_hot_encoded_transformation,\n"
     ]
    }
   ],
   "source": [
    "rel_list  = ['GarageFinish', 'GarageCars', 'GarageArea']\n",
    "for val in rel_list:\n",
    "    print('           \\'' + val + '\\',')\n",
    "for val in rel_list:\n",
    "    print('                        \\'' + val + '\\'' + ' : get_one_hot_encoded_transformation,')"
   ]
  },
  {
   "cell_type": "code",
   "execution_count": 11,
   "metadata": {},
   "outputs": [],
   "source": [
    "rel_cols= ['Id',\n",
    "           'MSSubClass',\n",
    "           'MSZoning',\n",
    "           'LotFrontage',\n",
    "           'LotArea',\n",
    "           'Street',\n",
    "           'LotShape',\n",
    "           'LandContour',               \n",
    "           'Utilities',                              \n",
    "           'LotConfig',                                             \n",
    "           'LandSlope',                                                            \n",
    "           'Neighborhood',        \n",
    "           'Condition1', \n",
    "           'Condition2', \n",
    "           'BldgType',\n",
    "           'HouseStyle',\n",
    "           'OverallQual',\n",
    "           'OverallCond',\n",
    "           'YearBuilt', \n",
    "           'YearRemodAdd',\n",
    "           'RoofStyle', \n",
    "           'RoofMatl', \n",
    "           'Exterior1st',  \n",
    "           'Exterior2nd', \n",
    "           'MasVnrType', \n",
    "           'MasVnrArea',\n",
    "           'ExterQual',\n",
    "           'ExterCond',\n",
    "           'Foundation',\n",
    "           'BsmtQual',\n",
    "           'BsmtCond',\n",
    "           'BsmtExposure',\n",
    "           'BsmtFinType1',\n",
    "           'BsmtFinSF1',\n",
    "           'BsmtFinType2',\n",
    "           'BsmtUnfSF', \n",
    "           'TotalBsmtSF',\n",
    "           'Heating',\n",
    "           'HeatingQC',\n",
    "           'CentralAir',\n",
    "           'Electrical',\n",
    "           '1stFlrSF',\n",
    "           '2ndFlrSF',\n",
    "           'LowQualFinSF',\n",
    "           'GrLivArea',\n",
    "           'BsmtFullBath', \n",
    "           'BsmtHalfBath', \n",
    "           'FullBath',\n",
    "           'HalfBath', \n",
    "           'BedroomAbvGr', \n",
    "           'KitchenAbvGr',\n",
    "           'KitchenQual',\n",
    "           'TotRmsAbvGrd',\n",
    "           'Functional',\n",
    "           'Fireplaces',\n",
    "           'FireplaceQu',\n",
    "           'GarageType', \n",
    "           'GarageYrBlt',\n",
    "           'GarageFinish', \n",
    "           'GarageCars', \n",
    "           'GarageArea', \n",
    "           'GarageQual',\n",
    "           'GarageCond', \n",
    "           'PavedDrive', \n",
    "           'WoodDeckSF', \n",
    "           'OpenPorchSF',\n",
    "           'EnclosedPorch',\n",
    "           '3SsnPorch', \n",
    "           'ScreenPorch', \n",
    "           'PoolArea', \n",
    "           'PoolQC',\n",
    "           'Fence', \n",
    "           'MiscFeature', \n",
    "           'MiscVal', \n",
    "           'MoSold', \n",
    "           'YrSold', \n",
    "           'SaleType',\n",
    "           'SaleCondition',\n",
    "           'Alley']"
   ]
  },
  {
   "cell_type": "code",
   "execution_count": 12,
   "metadata": {},
   "outputs": [],
   "source": [
    "relevant_transform_map={'Id' : get_nothing,\n",
    "                        'MSSubClass' : get_one_hot_encoded_transformation,\n",
    "                        'MSZoning' : get_one_hot_encoded_transformation,\n",
    "                        'LotFrontage': get_nothing,\n",
    "                        'LotArea': get_log_transform,\n",
    "                        'Street' : get_one_hot_encoded_transformation,                            \n",
    "                        'LotShape' : get_one_hot_encoded_transformation,                                                     \n",
    "                        'LandContour' : get_one_hot_encoded_transformation,                                                     \n",
    "                        'Utilities' : get_one_hot_encoded_transformation,                                                                                 \n",
    "                        'LotConfig' : get_one_hot_encoded_transformation,                                                                                                             \n",
    "                        'LandSlope' : get_one_hot_encoded_transformation,                                                                                                                                         \n",
    "                        'Neighborhood' : get_one_hot_encoded_transformation,                                                                                                                                                                     \n",
    "                        'Condition1' : get_one_hot_encoded_transformation,                                                                                                                                                                                                 \n",
    "                        'Condition2' : get_one_hot_encoded_transformation,                                                                                                                                                                                                 \n",
    "                        'BldgType' : get_one_hot_encoded_transformation,                                                                                                                                                                                                 \n",
    "                        'HouseStyle' : get_one_hot_encoded_transformation,  \n",
    "                        'OverallQual' : get_column_itself,  \n",
    "                        'OverallCond' : get_column_itself,                              \n",
    "                        'YearBuilt' : get_column_itself,  \n",
    "                        'YearRemodAdd' : get_column_itself,                              \n",
    "                        'RoofStyle' : get_one_hot_encoded_transformation,                                                                                                                                                                     \n",
    "                        'RoofMatl' : get_one_hot_encoded_transformation,                                                                                                                                                                                                 \n",
    "                        'Exterior1st' : get_one_hot_encoded_transformation,                                                                                                                                                                                                 \n",
    "                        'Exterior2nd' : get_one_hot_encoded_transformation,                                                                                                                                                                                                 \n",
    "                        'MasVnrType' : get_one_hot_encoded_transformation,  \n",
    "                        'MasVnrArea' : get_null_value_handling_with_log_transform,\n",
    "                        'ExterQual' : get_one_hot_encoded_transformation,\n",
    "                        'ExterCond' : get_one_hot_encoded_transformation,\n",
    "                        'Foundation' : get_one_hot_encoded_transformation,\n",
    "                        'BsmtQual' : get_one_hot_encoded_transformation,\n",
    "                        'BsmtCond' : get_one_hot_encoded_transformation,\n",
    "                        'BsmtExposure' : get_one_hot_encoded_transformation,\n",
    "                        'BsmtFinType1' : get_one_hot_encoded_transformation,   \n",
    "                        'BsmtFinSF1' : get_log_transform,\n",
    "                        'BsmtFinType2' : get_one_hot_encoded_transformation,\n",
    "                        'BsmtUnfSF' : get_column_itself, \n",
    "                        'TotalBsmtSF' : get_column_itself,\n",
    "                        'Heating' : get_one_hot_encoded_transformation,\n",
    "                        'HeatingQC' : get_one_hot_encoded_transformation,\n",
    "                        'CentralAir' : get_one_hot_encoded_transformation,\n",
    "                        'Electrical' : get_one_hot_encoded_transformation,  \n",
    "                        '1stFlrSF' : get_log_transform,\n",
    "                        '2ndFlrSF' : get_log_transform,\n",
    "                        'LowQualFinSF' : get_log_transform,\n",
    "                        'GrLivArea' : get_log_transform,\n",
    "                        'BsmtFullBath' : get_column_itself, \n",
    "                        'BsmtHalfBath':get_column_itself, \n",
    "                        'FullBath' : get_column_itself,\n",
    "                        'HalfBath' : get_column_itself, \n",
    "                        'BedroomAbvGr' : get_column_itself, \n",
    "                        'KitchenAbvGr' :get_column_itself,\n",
    "                        'KitchenQual' : get_one_hot_encoded_transformation,\n",
    "                        'TotRmsAbvGrd' : get_column_itself,\n",
    "                        'Functional' : get_one_hot_encoded_transformation, \n",
    "                        'Fireplaces' : get_column_itself,\n",
    "                        'FireplaceQu' : get_one_hot_encoded_transformation,\n",
    "                        'GarageType' : get_one_hot_encoded_transformation,\n",
    "                        'GarageYrBlt' : get_null_value_handling_with_no_transform,\n",
    "                        'GarageFinish' : get_one_hot_encoded_transformation,\n",
    "                        'GarageCars': get_column_itself,\n",
    "                        'GarageArea' : get_log_transform,\n",
    "                        'GarageQual' : get_one_hot_encoded_transformation,\n",
    "                        'GarageCond' : get_one_hot_encoded_transformation,\n",
    "                        'PavedDrive' : get_one_hot_encoded_transformation,\n",
    "                        'WoodDeckSF' : get_log_transform,\n",
    "                        'OpenPorchSF' : get_log_transform,\n",
    "                        'EnclosedPorch' : get_log_transform,\n",
    "                        '3SsnPorch' : get_log_transform,\n",
    "                        'ScreenPorch' : get_log_transform, \n",
    "                        'PoolArea' : get_log_transform, \n",
    "                        'PoolQC' : get_one_hot_encoded_transformation,\n",
    "                        'Fence' : get_one_hot_encoded_transformation,\n",
    "                        'MiscFeature' : get_one_hot_encoded_transformation,\n",
    "                        'MiscVal' : get_log_transform, \n",
    "                        'MoSold' : get_one_hot_encoded_transformation, \n",
    "                        'YrSold' : get_one_hot_encoded_transformation, \n",
    "                        'SaleType' : get_one_hot_encoded_transformation,\n",
    "                        'SaleCondition' : get_one_hot_encoded_transformation,\n",
    "                        'Alley' : get_nothing}\n"
   ]
  },
  {
   "cell_type": "code",
   "execution_count": 13,
   "metadata": {
    "scrolled": false
   },
   "outputs": [],
   "source": [
    "rel_X_cols = get_rel_X_cols(\n",
    "    X_columns=rel_cols,\n",
    "    X_column_transform_map=relevant_transform_map,\n",
    "    input_df=train_data_one_hot,\n",
    "    validation_df=validation_data_one_hot)\n"
   ]
  },
  {
   "cell_type": "markdown",
   "metadata": {},
   "source": [
    "Now, that we are going to employ the lasso, we have to make sure that the predictors are standardized first. Hence we encapsulate , everything to a pipeline."
   ]
  },
  {
   "cell_type": "code",
   "execution_count": 14,
   "metadata": {},
   "outputs": [],
   "source": [
    "from sklearn.pipeline import Pipeline\n",
    "from sklearn.preprocessing import StandardScaler\n",
    "from sklearn import linear_model"
   ]
  },
  {
   "cell_type": "code",
   "execution_count": 15,
   "metadata": {},
   "outputs": [],
   "source": [
    "def get_all_imputing_all_normalizing_pipe(alpha=2000):\n",
    "    my_pipe = Pipeline([('scaling', StandardScaler()),\n",
    "                        ('model', linear_model.Lasso(alpha=alpha))]\n",
    "                      )\n",
    "    return my_pipe"
   ]
  },
  {
   "cell_type": "markdown",
   "metadata": {},
   "source": [
    "Let us a build a lasso model and see how it looks on the validaiton set."
   ]
  },
  {
   "cell_type": "code",
   "execution_count": 16,
   "metadata": {},
   "outputs": [],
   "source": [
    "(my_pipe, validaiton_score) = \\\n",
    "    fit_pipeline_and_evaluate_on_validation_set(get_all_imputing_all_normalizing_pipe(), \n",
    "                                                train_data_one_hot, \n",
    "                                                validation_data_one_hot, rel_X_cols)"
   ]
  },
  {
   "cell_type": "code",
   "execution_count": 17,
   "metadata": {},
   "outputs": [
    {
     "data": {
      "text/plain": [
       "Pipeline(memory=None,\n",
       "     steps=[('scaling', StandardScaler(copy=True, with_mean=True, with_std=True)), ('model', Lasso(alpha=2000, copy_X=True, fit_intercept=True, max_iter=1000,\n",
       "   normalize=False, positive=False, precompute=False, random_state=None,\n",
       "   selection='cyclic', tol=0.0001, warm_start=False))])"
      ]
     },
     "execution_count": 17,
     "metadata": {},
     "output_type": "execute_result"
    }
   ],
   "source": [
    "my_pipe"
   ]
  },
  {
   "cell_type": "code",
   "execution_count": 18,
   "metadata": {},
   "outputs": [
    {
     "data": {
      "text/plain": [
       "0"
      ]
     },
     "execution_count": 18,
     "metadata": {},
     "output_type": "execute_result"
    }
   ],
   "source": [
    "np.sum(my_pipe.named_steps['model'].coef_ !=0)"
   ]
  },
  {
   "cell_type": "code",
   "execution_count": 19,
   "metadata": {},
   "outputs": [
    {
     "data": {
      "text/plain": [
       "0.3839530153620444"
      ]
     },
     "execution_count": 19,
     "metadata": {},
     "output_type": "execute_result"
    }
   ],
   "source": [
    "validaiton_score"
   ]
  },
  {
   "cell_type": "markdown",
   "metadata": {},
   "source": [
    "#### What went wrong here ?\n",
    "\n",
    "The problem is that the penalty term was too large, resulting in extreme shrinkage of predictors, resulting in all of them boiling down to 0. \n",
    "\n",
    "Let us reduce the penalty term and see how it goes."
   ]
  },
  {
   "cell_type": "code",
   "execution_count": 20,
   "metadata": {},
   "outputs": [
    {
     "name": "stdout",
     "output_type": "stream",
     "text": [
      "53\n",
      "0.14489334115758548\n"
     ]
    }
   ],
   "source": [
    "(my_pipe, validaiton_score) = \\\n",
    "    fit_pipeline_and_evaluate_on_validation_set(get_all_imputing_all_normalizing_pipe(alpha=0.01), \n",
    "                                                train_data_one_hot, \n",
    "                                                validation_data_one_hot, rel_X_cols)\n",
    "print(np.sum(my_pipe.named_steps['model'].coef_ !=0))    \n",
    "print(validaiton_score)"
   ]
  },
  {
   "cell_type": "markdown",
   "metadata": {},
   "source": [
    "#### Going to cross validation\n",
    "The results look much better. Now the question comes as to whether we can use cross validation or not.\n",
    "\n",
    "We can definitely use cross validaiton, but because of the presence of a lot of categorical variables, this might result in lots of predictors being completely zeros during some rounds of cross validation, which could cause the model build to blow up. Before we embark on cross validation , we need to make sure that this does not happen."
   ]
  },
  {
   "cell_type": "markdown",
   "metadata": {},
   "source": [
    "Let us add some duplicate columns and see how lasso handles the same."
   ]
  },
  {
   "cell_type": "code",
   "execution_count": 21,
   "metadata": {},
   "outputs": [],
   "source": [
    "sub_cols= ['Id',\n",
    "           'MSSubClass',\n",
    "           'MSZoning',\n",
    "           'LotArea',\n",
    "           'LotArea',\n",
    "           'LotArea']\n"
   ]
  },
  {
   "cell_type": "code",
   "execution_count": 22,
   "metadata": {},
   "outputs": [],
   "source": [
    "def build_and_print_lasso_model_stats(sub_cols=rel_cols, \n",
    "                                      alpha =0.1,\n",
    "                                      relevant_transform_map=relevant_transform_map, \n",
    "                                      train_data_one_hot=train_data_one_hot,\n",
    "                                      validation_data_one_hot=validation_data_one_hot):\n",
    "    rel_X_cols = get_rel_X_cols(\n",
    "        X_columns=sub_cols,\n",
    "        X_column_transform_map=relevant_transform_map,\n",
    "        input_df=train_data_one_hot,\n",
    "        validation_df=validation_data_one_hot)\n",
    "\n",
    "    (my_pipe, validaiton_score) = \\\n",
    "        fit_pipeline_and_evaluate_on_validation_set(get_all_imputing_all_normalizing_pipe(alpha=alpha), \n",
    "                                                    train_data_one_hot, \n",
    "                                                    validation_data_one_hot, rel_X_cols)\n",
    "    print_lasso_pipeline_stats(my_pipe, detailed_stats=True)\n",
    "    print(\"Accuracy on validation data             : \", validaiton_score)\n"
   ]
  },
  {
   "cell_type": "code",
   "execution_count": 23,
   "metadata": {},
   "outputs": [],
   "source": [
    "def print_lasso_pipeline_stats(my_pipe, detailed_stats=False):\n",
    "    print(\"Number of predictors in the final model : \", np.sum(my_pipe.named_steps['model'].coef_ !=0))    \n",
    "    if detailed_stats:\n",
    "        print(\"\\n========== Boolean array of chosen predictors ======== \\n\\n \", (my_pipe.named_steps['model'].coef_ !=0))  \n",
    "        print(\"========================================================\\n\")\n",
    "        print(\"\\n========== Predictor coefficients ====================\\n\\n \", (my_pipe.named_steps['model'].coef_))    \n",
    "        print(\"========================================================\\n\")\n",
    "    "
   ]
  },
  {
   "cell_type": "code",
   "execution_count": 24,
   "metadata": {},
   "outputs": [
    {
     "name": "stdout",
     "output_type": "stream",
     "text": [
      "Number of predictors in the final model :  5\n",
      "\n",
      "========== Boolean array of chosen predictors ======== \n",
      "\n",
      "  [False False False False False False  True False False False  True False\n",
      " False False False False False False False False  True  True False  True]\n",
      "========================================================\n",
      "\n",
      "\n",
      "========== Predictor coefficients ====================\n",
      "\n",
      "  [ 0.00000000e+00  0.00000000e+00 -0.00000000e+00 -0.00000000e+00\n",
      " -0.00000000e+00  0.00000000e+00 -1.55442263e-02 -0.00000000e+00\n",
      " -0.00000000e+00 -0.00000000e+00  5.39323448e-02 -0.00000000e+00\n",
      "  0.00000000e+00 -0.00000000e+00 -0.00000000e+00 -0.00000000e+00\n",
      " -0.00000000e+00  0.00000000e+00 -0.00000000e+00  0.00000000e+00\n",
      " -1.46370516e-02  4.49883904e-02  0.00000000e+00  3.89338485e-17]\n",
      "========================================================\n",
      "\n",
      "Accuracy on validation data             :  0.3465334068065698\n"
     ]
    }
   ],
   "source": [
    "build_and_print_lasso_model_stats(sub_cols)"
   ]
  },
  {
   "cell_type": "markdown",
   "metadata": {},
   "source": [
    "We see that though the resultant model may perform well, numerical issues can result in some of the duplicate predictors also getting a non zero coefficient(a very small one) and hence resulting in inflation in number of predictors."
   ]
  },
  {
   "cell_type": "markdown",
   "metadata": {},
   "source": [
    "### Zero predictors.\n",
    "\n",
    "Now, we come to the case when one of the predictor is completely zero (this is more relevant in the case of cross valdiaiton procedure due to the presence of one hot encoded categorical variables)."
   ]
  },
  {
   "cell_type": "code",
   "execution_count": 25,
   "metadata": {},
   "outputs": [],
   "source": [
    "train_data_one_hot['Dummy'] = 0.0\n",
    "validation_data_one_hot['Dummy'] = 0.0"
   ]
  },
  {
   "cell_type": "code",
   "execution_count": 26,
   "metadata": {},
   "outputs": [],
   "source": [
    "sub_cols= ['Id',\n",
    "           'MSSubClass',\n",
    "           'MSZoning',\n",
    "           'LotArea',\n",
    "           'Dummy']\n"
   ]
  },
  {
   "cell_type": "code",
   "execution_count": 27,
   "metadata": {},
   "outputs": [
    {
     "name": "stdout",
     "output_type": "stream",
     "text": [
      "Number of predictors in the final model :  4\n",
      "\n",
      "========== Boolean array of chosen predictors ======== \n",
      "\n",
      "  [False False False False False False  True False False False  True False\n",
      " False False False False False False False False  True  True False]\n",
      "========================================================\n",
      "\n",
      "\n",
      "========== Predictor coefficients ====================\n",
      "\n",
      "  [ 0.          0.         -0.         -0.         -0.          0.\n",
      " -0.01554423 -0.         -0.         -0.          0.05393234 -0.\n",
      "  0.         -0.         -0.         -0.         -0.          0.\n",
      " -0.          0.         -0.01463705  0.04498839  0.        ]\n",
      "========================================================\n",
      "\n",
      "Accuracy on validation data             :  0.3465334068065698\n"
     ]
    }
   ],
   "source": [
    "build_and_print_lasso_model_stats(sub_cols)"
   ]
  },
  {
   "cell_type": "markdown",
   "metadata": {},
   "source": [
    "\n",
    "That looks encouraging. Let us just see what happens if we add another column with zero entries."
   ]
  },
  {
   "cell_type": "code",
   "execution_count": 28,
   "metadata": {},
   "outputs": [],
   "source": [
    "train_data_one_hot['Dummy'] = 0\n",
    "validation_data_one_hot['Dummy'] = 0\n",
    "train_data_one_hot['Dummy2'] = 0\n",
    "validation_data_one_hot['Dummy2'] = 0"
   ]
  },
  {
   "cell_type": "code",
   "execution_count": 29,
   "metadata": {},
   "outputs": [],
   "source": [
    "sub_cols= ['Id',\n",
    "           'MSSubClass',\n",
    "           'MSZoning',\n",
    "           'LotArea',\n",
    "           'Dummy',\n",
    "           'Dummy2']\n"
   ]
  },
  {
   "cell_type": "code",
   "execution_count": 30,
   "metadata": {},
   "outputs": [
    {
     "name": "stdout",
     "output_type": "stream",
     "text": [
      "Number of predictors in the final model :  4\n",
      "\n",
      "========== Boolean array of chosen predictors ======== \n",
      "\n",
      "  [False False False False False False  True False False False  True False\n",
      " False False False False False False False False  True  True False False]\n",
      "========================================================\n",
      "\n",
      "\n",
      "========== Predictor coefficients ====================\n",
      "\n",
      "  [ 0.          0.         -0.         -0.         -0.          0.\n",
      " -0.01554423 -0.         -0.         -0.          0.05393234 -0.\n",
      "  0.         -0.         -0.         -0.         -0.          0.\n",
      " -0.          0.         -0.01463705  0.04498839  0.          0.        ]\n",
      "========================================================\n",
      "\n",
      "Accuracy on validation data             :  0.3465334068065698\n"
     ]
    }
   ],
   "source": [
    "build_and_print_lasso_model_stats(sub_cols)"
   ]
  },
  {
   "cell_type": "markdown",
   "metadata": {},
   "source": [
    "Okay it looks like lasso handles this well, giving us a green light to embark on cross valid\n",
    "ation."
   ]
  },
  {
   "cell_type": "code",
   "execution_count": 31,
   "metadata": {},
   "outputs": [],
   "source": [
    "train_data_one_hot.drop(columns=['Dummy', 'Dummy2'], inplace=True)\n",
    "validation_data_one_hot.drop(columns=['Dummy', 'Dummy2'], inplace=True)"
   ]
  },
  {
   "cell_type": "code",
   "execution_count": 32,
   "metadata": {},
   "outputs": [],
   "source": [
    "# Let us combine the dataframes together to increase amount of data at our disposal.\n",
    "train_validation_data_one_hot = pd.concat([train_data_one_hot, validation_data_one_hot])"
   ]
  },
  {
   "cell_type": "code",
   "execution_count": 33,
   "metadata": {},
   "outputs": [
    {
     "data": {
      "text/plain": [
       "['MSSubClass_120',\n",
       " 'MSSubClass_150',\n",
       " 'MSSubClass_160',\n",
       " 'MSSubClass_180',\n",
       " 'MSSubClass_190',\n",
       " 'MSSubClass_20',\n",
       " 'MSSubClass_30',\n",
       " 'MSSubClass_40',\n",
       " 'MSSubClass_45',\n",
       " 'MSSubClass_50',\n",
       " 'MSSubClass_60',\n",
       " 'MSSubClass_70',\n",
       " 'MSSubClass_75',\n",
       " 'MSSubClass_80',\n",
       " 'MSSubClass_85',\n",
       " 'MSSubClass_90',\n",
       " 'MSZoning_C (all)',\n",
       " 'MSZoning_FV',\n",
       " 'MSZoning_RH',\n",
       " 'MSZoning_RL',\n",
       " 'MSZoning_RM',\n",
       " 'LogLotArea',\n",
       " 'Street_Grvl',\n",
       " 'Street_Pave',\n",
       " 'LotShape_IR1',\n",
       " 'LotShape_IR2',\n",
       " 'LotShape_IR3',\n",
       " 'LotShape_Reg',\n",
       " 'LandContour_Bnk',\n",
       " 'LandContour_HLS',\n",
       " 'LandContour_Low',\n",
       " 'LandContour_Lvl',\n",
       " 'Utilities_AllPub',\n",
       " 'Utilities_NoSeWa',\n",
       " 'LotConfig_Corner',\n",
       " 'LotConfig_CulDSac',\n",
       " 'LotConfig_FR2',\n",
       " 'LotConfig_FR3',\n",
       " 'LotConfig_Inside',\n",
       " 'LandSlope_Gtl',\n",
       " 'LandSlope_Mod',\n",
       " 'LandSlope_Sev',\n",
       " 'Neighborhood_Blmngtn',\n",
       " 'Neighborhood_Blueste',\n",
       " 'Neighborhood_BrDale',\n",
       " 'Neighborhood_BrkSide',\n",
       " 'Neighborhood_ClearCr',\n",
       " 'Neighborhood_CollgCr',\n",
       " 'Neighborhood_Crawfor',\n",
       " 'Neighborhood_Edwards',\n",
       " 'Neighborhood_Gilbert',\n",
       " 'Neighborhood_IDOTRR',\n",
       " 'Neighborhood_MeadowV',\n",
       " 'Neighborhood_Mitchel',\n",
       " 'Neighborhood_NAmes',\n",
       " 'Neighborhood_NPkVill',\n",
       " 'Neighborhood_NWAmes',\n",
       " 'Neighborhood_NoRidge',\n",
       " 'Neighborhood_NridgHt',\n",
       " 'Neighborhood_OldTown',\n",
       " 'Neighborhood_SWISU',\n",
       " 'Neighborhood_Sawyer',\n",
       " 'Neighborhood_SawyerW',\n",
       " 'Neighborhood_Somerst',\n",
       " 'Neighborhood_StoneBr',\n",
       " 'Neighborhood_Timber',\n",
       " 'Neighborhood_Veenker',\n",
       " 'Condition1_Artery',\n",
       " 'Condition1_Feedr',\n",
       " 'Condition1_Norm',\n",
       " 'Condition1_PosA',\n",
       " 'Condition1_PosN',\n",
       " 'Condition1_RRAe',\n",
       " 'Condition1_RRAn',\n",
       " 'Condition1_RRNe',\n",
       " 'Condition1_RRNn',\n",
       " 'Condition2_Artery',\n",
       " 'Condition2_Feedr',\n",
       " 'Condition2_Norm',\n",
       " 'Condition2_PosA',\n",
       " 'Condition2_PosN',\n",
       " 'Condition2_RRAe',\n",
       " 'Condition2_RRAn',\n",
       " 'Condition2_RRNn',\n",
       " 'BldgType_1Fam',\n",
       " 'BldgType_2fmCon',\n",
       " 'BldgType_Duplex',\n",
       " 'BldgType_Twnhs',\n",
       " 'BldgType_TwnhsE',\n",
       " 'HouseStyle_1.5Fin',\n",
       " 'HouseStyle_1.5Unf',\n",
       " 'HouseStyle_1Story',\n",
       " 'HouseStyle_2.5Fin',\n",
       " 'HouseStyle_2.5Unf',\n",
       " 'HouseStyle_2Story',\n",
       " 'HouseStyle_SFoyer',\n",
       " 'HouseStyle_SLvl',\n",
       " 'OverallQual',\n",
       " 'OverallCond',\n",
       " 'YearBuilt',\n",
       " 'YearRemodAdd',\n",
       " 'RoofStyle_Flat',\n",
       " 'RoofStyle_Gable',\n",
       " 'RoofStyle_Gambrel',\n",
       " 'RoofStyle_Hip',\n",
       " 'RoofStyle_Mansard',\n",
       " 'RoofStyle_Shed',\n",
       " 'RoofMatl_ClyTile',\n",
       " 'RoofMatl_CompShg',\n",
       " 'RoofMatl_Membran',\n",
       " 'RoofMatl_Metal',\n",
       " 'RoofMatl_Roll',\n",
       " 'RoofMatl_Tar&Grv',\n",
       " 'RoofMatl_WdShake',\n",
       " 'RoofMatl_WdShngl',\n",
       " 'Exterior1st_AsbShng',\n",
       " 'Exterior1st_AsphShn',\n",
       " 'Exterior1st_BrkComm',\n",
       " 'Exterior1st_BrkFace',\n",
       " 'Exterior1st_CBlock',\n",
       " 'Exterior1st_CemntBd',\n",
       " 'Exterior1st_HdBoard',\n",
       " 'Exterior1st_ImStucc',\n",
       " 'Exterior1st_MetalSd',\n",
       " 'Exterior1st_Plywood',\n",
       " 'Exterior1st_Stone',\n",
       " 'Exterior1st_Stucco',\n",
       " 'Exterior1st_VinylSd',\n",
       " 'Exterior1st_Wd Sdng',\n",
       " 'Exterior1st_WdShing',\n",
       " 'Exterior2nd_AsbShng',\n",
       " 'Exterior2nd_AsphShn',\n",
       " 'Exterior2nd_Brk Cmn',\n",
       " 'Exterior2nd_BrkFace',\n",
       " 'Exterior2nd_CBlock',\n",
       " 'Exterior2nd_CmentBd',\n",
       " 'Exterior2nd_HdBoard',\n",
       " 'Exterior2nd_ImStucc',\n",
       " 'Exterior2nd_MetalSd',\n",
       " 'Exterior2nd_Other',\n",
       " 'Exterior2nd_Plywood',\n",
       " 'Exterior2nd_Stone',\n",
       " 'Exterior2nd_Stucco',\n",
       " 'Exterior2nd_VinylSd',\n",
       " 'Exterior2nd_Wd Sdng',\n",
       " 'Exterior2nd_Wd Shng',\n",
       " 'MasVnrType_BrkCmn',\n",
       " 'MasVnrType_BrkFace',\n",
       " 'MasVnrType_Missing',\n",
       " 'MasVnrType_None',\n",
       " 'MasVnrType_Stone',\n",
       " 'LogMasVnrArea_times_not_missing',\n",
       " 'MasVnrArea_not_missing',\n",
       " 'ExterQual_Ex',\n",
       " 'ExterQual_Fa',\n",
       " 'ExterQual_Gd',\n",
       " 'ExterQual_TA',\n",
       " 'ExterCond_Ex',\n",
       " 'ExterCond_Fa',\n",
       " 'ExterCond_Gd',\n",
       " 'ExterCond_Po',\n",
       " 'ExterCond_TA',\n",
       " 'Foundation_BrkTil',\n",
       " 'Foundation_CBlock',\n",
       " 'Foundation_PConc',\n",
       " 'Foundation_Slab',\n",
       " 'Foundation_Stone',\n",
       " 'Foundation_Wood',\n",
       " 'BsmtQual_Ex',\n",
       " 'BsmtQual_Fa',\n",
       " 'BsmtQual_Gd',\n",
       " 'BsmtQual_Missing',\n",
       " 'BsmtQual_TA',\n",
       " 'BsmtCond_Fa',\n",
       " 'BsmtCond_Gd',\n",
       " 'BsmtCond_Missing',\n",
       " 'BsmtCond_Po',\n",
       " 'BsmtCond_TA',\n",
       " 'BsmtExposure_Av',\n",
       " 'BsmtExposure_Gd',\n",
       " 'BsmtExposure_Missing',\n",
       " 'BsmtExposure_Mn',\n",
       " 'BsmtExposure_No',\n",
       " 'BsmtFinType1_ALQ',\n",
       " 'BsmtFinType1_BLQ',\n",
       " 'BsmtFinType1_GLQ',\n",
       " 'BsmtFinType1_LwQ',\n",
       " 'BsmtFinType1_Rec',\n",
       " 'BsmtFinType1_Unf',\n",
       " 'LogBsmtFinSF1',\n",
       " 'BsmtFinType2_ALQ',\n",
       " 'BsmtFinType2_BLQ',\n",
       " 'BsmtFinType2_GLQ',\n",
       " 'BsmtFinType2_LwQ',\n",
       " 'BsmtFinType2_Rec',\n",
       " 'BsmtFinType2_Unf',\n",
       " 'BsmtUnfSF',\n",
       " 'TotalBsmtSF',\n",
       " 'Heating_Floor',\n",
       " 'Heating_GasA',\n",
       " 'Heating_GasW',\n",
       " 'Heating_Grav',\n",
       " 'Heating_OthW',\n",
       " 'Heating_Wall',\n",
       " 'HeatingQC_Ex',\n",
       " 'HeatingQC_Fa',\n",
       " 'HeatingQC_Gd',\n",
       " 'HeatingQC_Po',\n",
       " 'HeatingQC_TA',\n",
       " 'CentralAir_N',\n",
       " 'CentralAir_Y',\n",
       " 'Electrical_FuseA',\n",
       " 'Electrical_FuseF',\n",
       " 'Electrical_FuseP',\n",
       " 'Electrical_Missing',\n",
       " 'Electrical_Mix',\n",
       " 'Electrical_SBrkr',\n",
       " 'Log1stFlrSF',\n",
       " 'Log2ndFlrSF',\n",
       " 'LogLowQualFinSF',\n",
       " 'LogGrLivArea',\n",
       " 'BsmtFullBath',\n",
       " 'BsmtHalfBath',\n",
       " 'FullBath',\n",
       " 'HalfBath',\n",
       " 'BedroomAbvGr',\n",
       " 'KitchenAbvGr',\n",
       " 'KitchenQual_Ex',\n",
       " 'KitchenQual_Fa',\n",
       " 'KitchenQual_Gd',\n",
       " 'KitchenQual_TA',\n",
       " 'TotRmsAbvGrd',\n",
       " 'Functional_Maj1',\n",
       " 'Functional_Maj2',\n",
       " 'Functional_Min1',\n",
       " 'Functional_Min2',\n",
       " 'Functional_Mod',\n",
       " 'Functional_Sev',\n",
       " 'Functional_Typ',\n",
       " 'Fireplaces',\n",
       " 'FireplaceQu_Ex',\n",
       " 'FireplaceQu_Fa',\n",
       " 'FireplaceQu_Gd',\n",
       " 'FireplaceQu_Missing',\n",
       " 'FireplaceQu_Po',\n",
       " 'FireplaceQu_TA',\n",
       " 'GarageType_2Types',\n",
       " 'GarageType_Attchd',\n",
       " 'GarageType_Basment',\n",
       " 'GarageType_BuiltIn',\n",
       " 'GarageType_CarPort',\n",
       " 'GarageType_Detchd',\n",
       " 'GarageType_Missing',\n",
       " 'GarageYrBlt_times_not_missing',\n",
       " 'GarageYrBlt_not_missing',\n",
       " 'GarageFinish_Fin',\n",
       " 'GarageFinish_Missing',\n",
       " 'GarageFinish_RFn',\n",
       " 'GarageFinish_Unf',\n",
       " 'GarageCars',\n",
       " 'LogGarageArea',\n",
       " 'GarageQual_Ex',\n",
       " 'GarageQual_Fa',\n",
       " 'GarageQual_Gd',\n",
       " 'GarageQual_Missing',\n",
       " 'GarageQual_Po',\n",
       " 'GarageQual_TA',\n",
       " 'GarageCond_Ex',\n",
       " 'GarageCond_Fa',\n",
       " 'GarageCond_Gd',\n",
       " 'GarageCond_Missing',\n",
       " 'GarageCond_Po',\n",
       " 'GarageCond_TA',\n",
       " 'PavedDrive_N',\n",
       " 'PavedDrive_P',\n",
       " 'PavedDrive_Y',\n",
       " 'LogWoodDeckSF',\n",
       " 'LogOpenPorchSF',\n",
       " 'LogEnclosedPorch',\n",
       " 'Log3SsnPorch',\n",
       " 'LogScreenPorch',\n",
       " 'LogPoolArea',\n",
       " 'PoolQC_Ex',\n",
       " 'PoolQC_Fa',\n",
       " 'PoolQC_Gd',\n",
       " 'PoolQC_Missing',\n",
       " 'Fence_GdPrv',\n",
       " 'Fence_GdWo',\n",
       " 'Fence_Missing',\n",
       " 'Fence_MnPrv',\n",
       " 'Fence_MnWw',\n",
       " 'MiscFeature_Gar2',\n",
       " 'MiscFeature_Missing',\n",
       " 'MiscFeature_Othr',\n",
       " 'MiscFeature_Shed',\n",
       " 'MiscFeature_TenC',\n",
       " 'LogMiscVal',\n",
       " 'MoSold_1',\n",
       " 'MoSold_10',\n",
       " 'MoSold_11',\n",
       " 'MoSold_12',\n",
       " 'MoSold_2',\n",
       " 'MoSold_3',\n",
       " 'MoSold_4',\n",
       " 'MoSold_5',\n",
       " 'MoSold_6',\n",
       " 'MoSold_7',\n",
       " 'MoSold_8',\n",
       " 'MoSold_9',\n",
       " 'YrSold_2006',\n",
       " 'YrSold_2007',\n",
       " 'YrSold_2008',\n",
       " 'YrSold_2009',\n",
       " 'YrSold_2010',\n",
       " 'SaleType_COD',\n",
       " 'SaleType_CWD',\n",
       " 'SaleType_Con',\n",
       " 'SaleType_ConLD',\n",
       " 'SaleType_ConLI',\n",
       " 'SaleType_ConLw',\n",
       " 'SaleType_New',\n",
       " 'SaleType_Oth',\n",
       " 'SaleType_WD',\n",
       " 'SaleCondition_Abnorml',\n",
       " 'SaleCondition_AdjLand',\n",
       " 'SaleCondition_Alloca',\n",
       " 'SaleCondition_Family',\n",
       " 'SaleCondition_Normal',\n",
       " 'SaleCondition_Partial']"
      ]
     },
     "execution_count": 33,
     "metadata": {},
     "output_type": "execute_result"
    }
   ],
   "source": [
    "rel_X_cols"
   ]
  },
  {
   "cell_type": "markdown",
   "metadata": {},
   "source": [
    "#### Alpha : 0.1"
   ]
  },
  {
   "cell_type": "code",
   "execution_count": 34,
   "metadata": {},
   "outputs": [],
   "source": [
    "(my_pipe, cross_validation_scores) =  fit_pipeline_and_return_cross_validation_scores(\n",
    "    get_all_imputing_all_normalizing_pipe(alpha=0.1),   \n",
    "    train_validation_data_one_hot,\n",
    "    X_columns=rel_X_cols)"
   ]
  },
  {
   "cell_type": "code",
   "execution_count": 35,
   "metadata": {},
   "outputs": [
    {
     "data": {
      "text/plain": [
       "array([0.20840778, 0.23262367, 0.22763913, 0.19911074, 0.2109533 ])"
      ]
     },
     "execution_count": 35,
     "metadata": {},
     "output_type": "execute_result"
    }
   ],
   "source": [
    "cross_validation_scores"
   ]
  },
  {
   "cell_type": "markdown",
   "metadata": {},
   "source": [
    "#### Alpha : 0.05"
   ]
  },
  {
   "cell_type": "code",
   "execution_count": 36,
   "metadata": {},
   "outputs": [
    {
     "name": "stdout",
     "output_type": "stream",
     "text": [
      "0.17365289674207796\n",
      "[0.1630993  0.18239288 0.18105086 0.15956896 0.1821525 ]\n",
      "Number of predictors in the final model :  11\n"
     ]
    }
   ],
   "source": [
    "(my_pipe, cross_validation_scores) =  fit_pipeline_and_return_cross_validation_scores(\n",
    "    get_all_imputing_all_normalizing_pipe(alpha=0.05), \n",
    "    train_validation_data_one_hot,\n",
    "    X_columns=rel_X_cols)\n",
    "print(cross_validation_scores.mean())\n",
    "print(cross_validation_scores)\n",
    "print_lasso_pipeline_stats(my_pipe)"
   ]
  },
  {
   "cell_type": "markdown",
   "metadata": {},
   "source": [
    "#### Alpha : 0.01"
   ]
  },
  {
   "cell_type": "code",
   "execution_count": 37,
   "metadata": {},
   "outputs": [
    {
     "name": "stdout",
     "output_type": "stream",
     "text": [
      "0.13005883179600125\n",
      "0.018103106867156767\n",
      "[0.10565665 0.13987823 0.13844707 0.11245373 0.15385848]\n",
      "Number of predictors in the final model :  49\n"
     ]
    }
   ],
   "source": [
    "(my_pipe, cross_validation_scores) =  fit_pipeline_and_return_cross_validation_scores(\n",
    "    get_all_imputing_all_normalizing_pipe(alpha=0.01), \n",
    "    train_validation_data_one_hot,\n",
    "    X_columns=rel_X_cols)\n",
    "print(cross_validation_scores.mean())\n",
    "print(cross_validation_scores.std())\n",
    "print(cross_validation_scores)\n",
    "print_lasso_pipeline_stats(my_pipe)"
   ]
  },
  {
   "cell_type": "markdown",
   "metadata": {},
   "source": [
    "#### Alpha : 0.005"
   ]
  },
  {
   "cell_type": "code",
   "execution_count": 38,
   "metadata": {},
   "outputs": [
    {
     "name": "stdout",
     "output_type": "stream",
     "text": [
      "0.12653827091920639\n",
      "0.018182177031224284\n",
      "[0.10141292 0.13500218 0.13681381 0.1094327  0.15002975]\n",
      "Number of predictors in the final model :  91\n"
     ]
    }
   ],
   "source": [
    "(my_pipe, cross_validation_scores) =  fit_pipeline_and_return_cross_validation_scores(\n",
    "    get_all_imputing_all_normalizing_pipe(alpha=0.005), \n",
    "    train_validation_data_one_hot,\n",
    "    X_columns=rel_X_cols)\n",
    "print(cross_validation_scores.mean())\n",
    "print(cross_validation_scores.std())\n",
    "print(cross_validation_scores)\n",
    "print_lasso_pipeline_stats(my_pipe)"
   ]
  },
  {
   "cell_type": "markdown",
   "metadata": {},
   "source": [
    "#### Alpha : 0.001"
   ]
  },
  {
   "cell_type": "code",
   "execution_count": 39,
   "metadata": {},
   "outputs": [
    {
     "name": "stdout",
     "output_type": "stream",
     "text": [
      "0.13127309724925343\n",
      "0.019990430593153016\n",
      "[0.10607825 0.13833795 0.14549448 0.10973796 0.15671684]\n",
      "Number of predictors in the final model :  208\n"
     ]
    }
   ],
   "source": [
    "(my_pipe, cross_validation_scores) =  fit_pipeline_and_return_cross_validation_scores(\n",
    "    get_all_imputing_all_normalizing_pipe(alpha=0.001), \n",
    "    train_validation_data_one_hot,\n",
    "    X_columns=rel_X_cols)\n",
    "print(cross_validation_scores.mean())\n",
    "print(cross_validation_scores.std())\n",
    "print(cross_validation_scores)\n",
    "print_lasso_pipeline_stats(my_pipe)"
   ]
  },
  {
   "cell_type": "markdown",
   "metadata": {},
   "source": [
    "#### Alpha : 0.0005"
   ]
  },
  {
   "cell_type": "code",
   "execution_count": 40,
   "metadata": {},
   "outputs": [
    {
     "name": "stdout",
     "output_type": "stream",
     "text": [
      "0.13399446342622526\n",
      "0.02073097387826821\n",
      "[0.10887034 0.14096242 0.1495903  0.1105503  0.15999895]\n",
      "Number of predictors in the final model :  236\n"
     ]
    }
   ],
   "source": [
    "(my_pipe, cross_validation_scores) =  fit_pipeline_and_return_cross_validation_scores(\n",
    "    get_all_imputing_all_normalizing_pipe(alpha=0.0005), \n",
    "    train_validation_data_one_hot,\n",
    "    X_columns=rel_X_cols)\n",
    "print(cross_validation_scores.mean())\n",
    "print(cross_validation_scores.std())\n",
    "print(cross_validation_scores)\n",
    "print_lasso_pipeline_stats(my_pipe)"
   ]
  },
  {
   "cell_type": "markdown",
   "metadata": {},
   "source": [
    "#### Find optimal alpha.\n",
    "\n",
    "It looks like the optimal alpha value is around 0.005. Let us verify this by testing on some values around this range."
   ]
  },
  {
   "cell_type": "code",
   "execution_count": 41,
   "metadata": {},
   "outputs": [],
   "source": [
    "alpha_values_to_be_tested = np.arange(0.001, 0.010, 0.001)"
   ]
  },
  {
   "cell_type": "code",
   "execution_count": 42,
   "metadata": {},
   "outputs": [],
   "source": [
    "cross_val_means = np.zeros(len(alpha_values_to_be_tested))\n",
    "num_of_dimensons = np.zeros(len(alpha_values_to_be_tested))"
   ]
  },
  {
   "cell_type": "code",
   "execution_count": 43,
   "metadata": {},
   "outputs": [
    {
     "name": "stdout",
     "output_type": "stream",
     "text": [
      "0.001\n",
      "0.002\n",
      "0.003\n",
      "0.004\n",
      "0.005\n",
      "0.006\n",
      "0.007\n",
      "0.008\n",
      "0.009000000000000001\n"
     ]
    }
   ],
   "source": [
    "cur_index =0 \n",
    "for alpha_val in alpha_values_to_be_tested:\n",
    "    print(alpha_val)\n",
    "    (my_pipe, cross_validation_scores) =  fit_pipeline_and_return_cross_validation_scores(\n",
    "        get_all_imputing_all_normalizing_pipe(alpha=alpha_val), \n",
    "        train_validation_data_one_hot,\n",
    "        X_columns=rel_X_cols)\n",
    "    cross_val_means[cur_index] = cross_validation_scores.mean()\n",
    "    num_of_dimensons[cur_index] = np.sum(my_pipe.named_steps['model'].coef_ !=0)\n",
    "    cur_index += 1\n",
    "    "
   ]
  },
  {
   "cell_type": "code",
   "execution_count": 44,
   "metadata": {},
   "outputs": [
    {
     "data": {
      "text/plain": [
       "array([0.1312731 , 0.12821027, 0.12659153, 0.12617111, 0.12653827,\n",
       "       0.12691304, 0.12745116, 0.12814534, 0.1290361 ])"
      ]
     },
     "execution_count": 44,
     "metadata": {},
     "output_type": "execute_result"
    }
   ],
   "source": [
    "cross_val_means"
   ]
  },
  {
   "cell_type": "code",
   "execution_count": 45,
   "metadata": {},
   "outputs": [],
   "source": [
    "import matplotlib.pyplot as plt\n",
    "FIGURE_LENGTH = 16\n",
    "FIGURE_BREADTH = 9\n"
   ]
  },
  {
   "cell_type": "code",
   "execution_count": 46,
   "metadata": {},
   "outputs": [
    {
     "data": {
      "text/plain": [
       "[<matplotlib.lines.Line2D at 0x10fab1fd0>]"
      ]
     },
     "execution_count": 46,
     "metadata": {},
     "output_type": "execute_result"
    },
    {
     "data": {
      "image/png": "[encoded data removed]",
      "text/plain": [
       "<Figure size 1152x648 with 1 Axes>"
      ]
     },
     "metadata": {},
     "output_type": "display_data"
    }
   ],
   "source": [
    "fig = plt.figure(figsize=(FIGURE_LENGTH, FIGURE_BREADTH))\n",
    "\n",
    "ax1 = fig.add_subplot(1,1,1)\n",
    "ax1.set_xlabel('Values of alpha')\n",
    "ax1.set_ylabel('Cross validation score')\n",
    "ax1.plot(alpha_values_to_be_tested, cross_val_means)"
   ]
  },
  {
   "cell_type": "markdown",
   "metadata": {},
   "source": [
    "Let us check out the dimensionality of each of these values of alpha as well."
   ]
  },
  {
   "cell_type": "code",
   "execution_count": 47,
   "metadata": {},
   "outputs": [
    {
     "data": {
      "text/plain": [
       "[<matplotlib.lines.Line2D at 0x10da76dd8>]"
      ]
     },
     "execution_count": 47,
     "metadata": {},
     "output_type": "execute_result"
    },
    {
     "data": {
      "image/png": "[encoded data removed]",
      "text/plain": [
       "<Figure size 1152x648 with 1 Axes>"
      ]
     },
     "metadata": {},
     "output_type": "display_data"
    }
   ],
   "source": [
    "fig = plt.figure(figsize=(FIGURE_LENGTH, FIGURE_BREADTH))\n",
    "\n",
    "ax1 = fig.add_subplot(1,1,1)\n",
    "ax1.set_xlabel('Values of alpha')\n",
    "ax1.set_ylabel('Number of predictors in model')\n",
    "ax1.plot(alpha_values_to_be_tested, num_of_dimensons)"
   ]
  },
  {
   "cell_type": "code",
   "execution_count": 48,
   "metadata": {},
   "outputs": [
    {
     "data": {
      "text/plain": [
       "array([208., 151., 123., 104.,  91.,  73.,  67.,  63.,  55.])"
      ]
     },
     "execution_count": 48,
     "metadata": {},
     "output_type": "execute_result"
    }
   ],
   "source": [
    "num_of_dimensons"
   ]
  },
  {
   "cell_type": "markdown",
   "metadata": {},
   "source": [
    "#### Let us check out value of alpha = 0.004\n"
   ]
  },
  {
   "cell_type": "code",
   "execution_count": 49,
   "metadata": {},
   "outputs": [
    {
     "name": "stdout",
     "output_type": "stream",
     "text": [
      "0.12617110927700162\n",
      "0.01814981921161587\n",
      "[0.10143063 0.13411721 0.13695859 0.10871196 0.14963717]\n",
      "Number of predictors in the final model :  104\n"
     ]
    }
   ],
   "source": [
    "(my_pipe, cross_validation_scores) =  fit_pipeline_and_return_cross_validation_scores(\n",
    "    get_all_imputing_all_normalizing_pipe(alpha=0.004), \n",
    "    train_validation_data_one_hot,\n",
    "    X_columns=rel_X_cols)\n",
    "print(cross_validation_scores.mean())\n",
    "print(cross_validation_scores.std())\n",
    "print(cross_validation_scores)\n",
    "print_lasso_pipeline_stats(my_pipe)"
   ]
  },
  {
   "cell_type": "markdown",
   "metadata": {},
   "source": [
    "#### Making predictions on test data.\n",
    "\n",
    "Okay now, that we have a final model, how do we make predictions on the test data set ?"
   ]
  },
  {
   "cell_type": "code",
   "execution_count": 50,
   "metadata": {},
   "outputs": [
    {
     "data": {
      "text/plain": [
       "353"
      ]
     },
     "execution_count": 50,
     "metadata": {},
     "output_type": "execute_result"
    }
   ],
   "source": [
    "len(test_data_one_hot.columns)"
   ]
  },
  {
   "cell_type": "markdown",
   "metadata": {},
   "source": [
    "#### Check for nan entries in test data."
   ]
  },
  {
   "cell_type": "code",
   "execution_count": 51,
   "metadata": {},
   "outputs": [
    {
     "data": {
      "text/plain": [
       "15"
      ]
     },
     "execution_count": 51,
     "metadata": {},
     "output_type": "execute_result"
    }
   ],
   "source": [
    "test_data_one_hot.isnull().sum().sum()"
   ]
  },
  {
   "cell_type": "markdown",
   "metadata": {},
   "source": [
    "#### Let us drill down more on these columns"
   ]
  },
  {
   "cell_type": "code",
   "execution_count": 52,
   "metadata": {},
   "outputs": [
    {
     "data": {
      "text/plain": [
       "1stFlrSF                         0\n",
       "2ndFlrSF                         0\n",
       "3SsnPorch                        0\n",
       "BedroomAbvGr                     0\n",
       "BsmtFinSF1                       1\n",
       "BsmtFinSF2                       1\n",
       "BsmtFullBath                     2\n",
       "BsmtHalfBath                     2\n",
       "BsmtUnfSF                        1\n",
       "EnclosedPorch                    0\n",
       "Fireplaces                       0\n",
       "FullBath                         0\n",
       "GarageArea                       1\n",
       "GarageCars                       1\n",
       "GarageYrBlt                      0\n",
       "GarageYrBlt_not_missing          0\n",
       "GarageYrBlt_times_not_missing    0\n",
       "GrLivArea                        0\n",
       "HalfBath                         0\n",
       "Id                               0\n",
       "KitchenAbvGr                     0\n",
       "Log1stFlrSF                      0\n",
       "Log2ndFlrSF                      0\n",
       "Log3SsnPorch                     0\n",
       "LogBsmtFinSF1                    1\n",
       "LogBsmtFinSF2                    1\n",
       "LogBsmtUnfSF                     1\n",
       "LogEnclosedPorch                 0\n",
       "LogGarageArea                    1\n",
       "LogGrLivArea                     0\n",
       "                                ..\n",
       "RoofStyle_Flat                   0\n",
       "RoofStyle_Gable                  0\n",
       "RoofStyle_Gambrel                0\n",
       "RoofStyle_Hip                    0\n",
       "RoofStyle_Mansard                0\n",
       "RoofStyle_Shed                   0\n",
       "SaleCondition_Abnorml            0\n",
       "SaleCondition_AdjLand            0\n",
       "SaleCondition_Alloca             0\n",
       "SaleCondition_Family             0\n",
       "SaleCondition_Normal             0\n",
       "SaleCondition_Partial            0\n",
       "SaleType_COD                     0\n",
       "SaleType_CWD                     0\n",
       "SaleType_Con                     0\n",
       "SaleType_ConLD                   0\n",
       "SaleType_ConLI                   0\n",
       "SaleType_ConLw                   0\n",
       "SaleType_New                     0\n",
       "SaleType_Oth                     0\n",
       "SaleType_WD                      0\n",
       "Street_Grvl                      0\n",
       "Street_Pave                      0\n",
       "Utilities_AllPub                 0\n",
       "Utilities_NoSeWa                 0\n",
       "YrSold_2006                      0\n",
       "YrSold_2007                      0\n",
       "YrSold_2008                      0\n",
       "YrSold_2009                      0\n",
       "YrSold_2010                      0\n",
       "Length: 353, dtype: int64"
      ]
     },
     "execution_count": 52,
     "metadata": {},
     "output_type": "execute_result"
    }
   ],
   "source": [
    "test_data_one_hot.isnull().sum()"
   ]
  },
  {
   "cell_type": "code",
   "execution_count": 53,
   "metadata": {},
   "outputs": [],
   "source": [
    "nan_cols = ['BsmtFinSF1', \n",
    "            'BsmtFinSF2', \n",
    "            'BsmtFullBath', \n",
    "            'BsmtHalfBath',  \n",
    "            'LogBsmtFinSF1', \n",
    "            'LogBsmtFinSF2', \n",
    "            'LogBsmtUnfSF',\n",
    "            'GarageArea',\n",
    "            'GarageCars',\n",
    "            'LogGarageArea',\n",
    "            'LogGarageCars',\n",
    "            'BsmtUnfSF',\n",
    "            'LogTotalBsmtSF',\n",
    "            'TotalBsmtSF']"
   ]
  },
  {
   "cell_type": "code",
   "execution_count": 54,
   "metadata": {},
   "outputs": [
    {
     "data": {
      "text/plain": [
       "14"
      ]
     },
     "execution_count": 54,
     "metadata": {},
     "output_type": "execute_result"
    }
   ],
   "source": [
    "len(nan_cols)"
   ]
  },
  {
   "cell_type": "code",
   "execution_count": 55,
   "metadata": {},
   "outputs": [],
   "source": [
    "\n",
    "non_nan_cols = [col for col in test_data_one_hot.columns if col not in nan_cols]"
   ]
  },
  {
   "cell_type": "code",
   "execution_count": 56,
   "metadata": {},
   "outputs": [
    {
     "data": {
      "text/plain": [
       "0"
      ]
     },
     "execution_count": 56,
     "metadata": {},
     "output_type": "execute_result"
    }
   ],
   "source": [
    "test_data_one_hot[non_nan_cols].isnull().sum().sum()"
   ]
  },
  {
   "cell_type": "code",
   "execution_count": 57,
   "metadata": {},
   "outputs": [
    {
     "data": {
      "text/plain": [
       "1459"
      ]
     },
     "execution_count": 57,
     "metadata": {},
     "output_type": "execute_result"
    }
   ],
   "source": [
    "len(test_data_one_hot)"
   ]
  },
  {
   "cell_type": "markdown",
   "metadata": {},
   "source": [
    "### Comments\n",
    "\n",
    "Thus, we have 15 nan values spread across 14 columns, for a dataset of 1459 entries. Now, this is not a significant number and we should be able to easily get around this.\n",
    "\n",
    "We set these nan values to 0, so that the predictive contribution of this particular nana entry would be 0. \n"
   ]
  },
  {
   "cell_type": "code",
   "execution_count": 58,
   "metadata": {},
   "outputs": [],
   "source": [
    "test_data_one_hot.fillna(0, inplace=True)"
   ]
  },
  {
   "cell_type": "code",
   "execution_count": 59,
   "metadata": {},
   "outputs": [
    {
     "name": "stdout",
     "output_type": "stream",
     "text": [
      "[118397.63126306 155195.57535261 181229.67796864 ... 164804.7721531\n",
      " 121674.84970654 226360.35128285]\n"
     ]
    }
   ],
   "source": [
    "(my_pipe, predictions) =  fit_pipeline_and_make_predictions_on_test_set(\n",
    "    get_all_imputing_all_normalizing_pipe(alpha=0.004), \n",
    "    train_validation_data_one_hot,\n",
    "    test_data_one_hot,\n",
    "    X_columns=rel_X_cols)\n",
    "\n",
    "print(np.exp(predictions))"
   ]
  },
  {
   "cell_type": "code",
   "execution_count": 60,
   "metadata": {},
   "outputs": [],
   "source": [
    "test_data_one_hot['SalePrice'] = np.exp(predictions)"
   ]
  },
  {
   "cell_type": "code",
   "execution_count": 61,
   "metadata": {},
   "outputs": [],
   "source": [
    "final_predictions_df = test_data_one_hot[['Id', 'SalePrice']]"
   ]
  },
  {
   "cell_type": "code",
   "execution_count": 62,
   "metadata": {},
   "outputs": [],
   "source": [
    "final_predictions_df.to_csv('housing_price_lasso_predictions.csv', index=False)"
   ]
  },
  {
   "cell_type": "markdown",
   "metadata": {},
   "source": [
    "### Future steps."
   ]
  },
  {
   "cell_type": "markdown",
   "metadata": {},
   "source": [
    "Now, what do we do and how do we enhance the predictive power of our model ? One option would be to try and see if PCA yields any benefit here. I do not think that it would,  since PCA is more tailored to problems where  data is heavily correlated (which may not be the case here). \n",
    "\n",
    "The situation here was much more apt for lasso, with a huge number of predictors to choose from, given the total size of our available data. However, it might be worthwhile to see feasibility of PCA as well and let us do that in the next section."
   ]
  }
 ],
 "metadata": {
  "kernelspec": {
   "display_name": "Python 3",
   "language": "python",
   "name": "python3"
  },
  "language_info": {
   "codemirror_mode": {
    "name": "ipython",
    "version": 3
   },
   "file_extension": ".py",
   "mimetype": "text/x-python",
   "name": "python",
   "nbconvert_exporter": "python",
   "pygments_lexer": "ipython3",
   "version": "3.6.4"
  }
 },
 "nbformat": 4,
 "nbformat_minor": 2
}

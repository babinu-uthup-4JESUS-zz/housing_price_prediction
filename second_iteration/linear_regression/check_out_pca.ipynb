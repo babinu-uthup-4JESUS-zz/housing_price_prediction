{
 "cells": [
  {
   "cell_type": "markdown",
   "metadata": {},
   "source": [
    "## Check out PCA\n",
    "\n",
    "In this notebook, we analyze to see whether using Principal Components Analysis (PCA) would yield us any benefits."
   ]
  },
  {
   "cell_type": "code",
   "execution_count": 1,
   "metadata": {},
   "outputs": [],
   "source": [
    "import pandas as pd\n",
    "import numpy as np\n",
    "import sys\n",
    "sys.path.append('../../common_routines/')\n",
    "import numpy as np\n",
    "from relevant_functions import\\\n",
    "    evaluate_model_score_given_predictions,\\\n",
    "    evaluate_model_score,\\\n",
    "    evaluate_neg_model_score,\\\n",
    "    cross_val_score_given_model,\\\n",
    "    fit_pipeline_and_cross_validate, \\\n",
    "    fit_pipeline_and_evaluate_on_validation_set, \\\n",
    "    print_model_stats_from_pipeline, \\\n",
    "    get_validated_transformed_data,\\\n",
    "    evaluate_model_score_given_predictions\n",
    "from sklearn import linear_model "
   ]
  },
  {
   "cell_type": "code",
   "execution_count": 2,
   "metadata": {},
   "outputs": [],
   "source": [
    "# Dump alll the dataframes with one hot encoding.\n",
    "train_data_one_hot = pd.read_csv('../../cleaned_input/train_data_one_hot.csv')\n",
    "validation_data_one_hot = pd.read_csv('../../cleaned_input/validation_data_one_hot.to_csv')\n",
    "test_data_one_hot =pd.read_csv('../../cleaned_input/test_data_one_hot.csv')\n",
    "\n",
    "# Dump the data frames prior to taking the one hot encoding transformation.\n",
    "# Remember that we had handled the null values at the stage and hence the model\n",
    "# does not need to worry about the same.\n",
    "train_data = pd.read_csv('../../cleaned_input/train_data.csv')\n",
    "validation_data = pd.read_csv('../../cleaned_input/validation_data.csv')\n",
    "test_data = pd.read_csv('../../input/test.csv')"
   ]
  },
  {
   "cell_type": "markdown",
   "metadata": {},
   "source": [
    "### Test the presence of muliticollinearity.\n",
    "\n",
    "Before, we apply PCA, we need to test whetherthe situation is ripe for the same. We do the same , by checking multicollinearity exists in the current scenario."
   ]
  },
  {
   "cell_type": "markdown",
   "metadata": {},
   "source": [
    "#### Let us set up data first."
   ]
  },
  {
   "cell_type": "code",
   "execution_count": 3,
   "metadata": {},
   "outputs": [],
   "source": [
    "def get_nothing(column, input_df=None, validation_df=None):\n",
    "    return []\n",
    "\n",
    "def get_column_itself(column, input_df=None, validation_df=None):\n",
    "    return [column]\n",
    "\n",
    "def get_log_transform(column, input_df=None, validation_df=None):\n",
    "    return ['Log' + column]\n",
    "    \n",
    "def get_one_hot_encoded_transformation(column, input_df=None, validation_df=None):\n",
    "    \n",
    "    rel_cols = [col for col in input_df.columns if column + '_' in col and column + '_Val' not in col]\n",
    "    return rel_cols\n",
    "\n",
    "def get_null_value_handling_with_log_transform(column, input_df=None, validation_df=None):\n",
    "    rel_cols = ['Log' + column + '_times_not_missing', column + '_not_missing']\n",
    "    return rel_cols\n",
    "\n",
    "def get_null_value_handling_with_no_transform(column, input_df=None, validation_df=None):\n",
    "    rel_cols = [column + '_times_not_missing', column + '_not_missing']\n",
    "    return rel_cols"
   ]
  },
  {
   "cell_type": "code",
   "execution_count": 4,
   "metadata": {},
   "outputs": [],
   "source": [
    "rel_cols= ['Id',\n",
    "           'MSSubClass',\n",
    "           'MSZoning',\n",
    "           'LotFrontage',\n",
    "           'LotArea',\n",
    "           'Street',\n",
    "           'LotShape',\n",
    "           'LandContour',               \n",
    "           'Utilities',                              \n",
    "           'LotConfig',                                             \n",
    "           'LandSlope',                                                            \n",
    "           'Neighborhood',        \n",
    "           'Condition1', \n",
    "           'Condition2', \n",
    "           'BldgType',\n",
    "           'HouseStyle',\n",
    "           'OverallQual',\n",
    "           'OverallCond',\n",
    "           'YearBuilt', \n",
    "           'YearRemodAdd',\n",
    "           'RoofStyle', \n",
    "           'RoofMatl', \n",
    "           'Exterior1st',  \n",
    "           'Exterior2nd', \n",
    "           'MasVnrType', \n",
    "           'MasVnrArea',\n",
    "           'ExterQual',\n",
    "           'ExterCond',\n",
    "           'Foundation',\n",
    "           'BsmtQual',\n",
    "           'BsmtCond',\n",
    "           'BsmtExposure',\n",
    "           'BsmtFinType1',\n",
    "           'BsmtFinSF1',\n",
    "           'BsmtFinType2',\n",
    "           'BsmtUnfSF', \n",
    "           'TotalBsmtSF',\n",
    "           'Heating',\n",
    "           'HeatingQC',\n",
    "           'CentralAir',\n",
    "           'Electrical',\n",
    "           '1stFlrSF',\n",
    "           '2ndFlrSF',\n",
    "           'LowQualFinSF',\n",
    "           'GrLivArea',\n",
    "           'BsmtFullBath', \n",
    "           'BsmtHalfBath', \n",
    "           'FullBath',\n",
    "           'HalfBath', \n",
    "           'BedroomAbvGr', \n",
    "           'KitchenAbvGr',\n",
    "           'KitchenQual',\n",
    "           'TotRmsAbvGrd',\n",
    "           'Functional',\n",
    "           'Fireplaces',\n",
    "           'FireplaceQu',\n",
    "           'GarageType', \n",
    "           'GarageYrBlt',\n",
    "           'GarageFinish', \n",
    "           'GarageCars', \n",
    "           'GarageArea', \n",
    "           'GarageQual',\n",
    "           'GarageCond', \n",
    "           'PavedDrive', \n",
    "           'WoodDeckSF', \n",
    "           'OpenPorchSF',\n",
    "           'EnclosedPorch',\n",
    "           '3SsnPorch', \n",
    "           'ScreenPorch', \n",
    "           'PoolArea', \n",
    "           'PoolQC',\n",
    "           'Fence', \n",
    "           'MiscFeature', \n",
    "           'MiscVal', \n",
    "           'MoSold', \n",
    "           'YrSold', \n",
    "           'SaleType',\n",
    "           'SaleCondition',   \n",
    "           'Alley']"
   ]
  },
  {
   "cell_type": "code",
   "execution_count": 5,
   "metadata": {},
   "outputs": [],
   "source": [
    "relevant_transform_map={'Id' : get_nothing,\n",
    "                        'MSSubClass' : get_one_hot_encoded_transformation,\n",
    "                        'MSZoning' : get_one_hot_encoded_transformation,\n",
    "                        'LotFrontage': get_nothing,\n",
    "                        'LotArea': get_log_transform,\n",
    "                        'Street' : get_one_hot_encoded_transformation,                            \n",
    "                        'LotShape' : get_one_hot_encoded_transformation,                                                     \n",
    "                        'LandContour' : get_one_hot_encoded_transformation,                                                     \n",
    "                        'Utilities' : get_one_hot_encoded_transformation,                                                                                 \n",
    "                        'LotConfig' : get_one_hot_encoded_transformation,                                                                                                             \n",
    "                        'LandSlope' : get_one_hot_encoded_transformation,                                                                                                                                         \n",
    "                        'Neighborhood' : get_one_hot_encoded_transformation,                                                                                                                                                                     \n",
    "                        'Condition1' : get_one_hot_encoded_transformation,                                                                                                                                                                                                 \n",
    "                        'Condition2' : get_one_hot_encoded_transformation,                                                                                                                                                                                                 \n",
    "                        'BldgType' : get_one_hot_encoded_transformation,                                                                                                                                                                                                 \n",
    "                        'HouseStyle' : get_one_hot_encoded_transformation,  \n",
    "                        'OverallQual' : get_column_itself,  \n",
    "                        'OverallCond' : get_column_itself,                              \n",
    "                        'YearBuilt' : get_column_itself,  \n",
    "                        'YearRemodAdd' : get_column_itself,                              \n",
    "                        'RoofStyle' : get_one_hot_encoded_transformation,                                                                                                                                                                     \n",
    "                        'RoofMatl' : get_one_hot_encoded_transformation,                                                                                                                                                                                                 \n",
    "                        'Exterior1st' : get_one_hot_encoded_transformation,                                                                                                                                                                                                 \n",
    "                        'Exterior2nd' : get_one_hot_encoded_transformation,                                                                                                                                                                                                 \n",
    "                        'MasVnrType' : get_one_hot_encoded_transformation,  \n",
    "                        'MasVnrArea' : get_null_value_handling_with_log_transform,\n",
    "                        'ExterQual' : get_one_hot_encoded_transformation,\n",
    "                        'ExterCond' : get_one_hot_encoded_transformation,\n",
    "                        'Foundation' : get_one_hot_encoded_transformation,\n",
    "                        'BsmtQual' : get_one_hot_encoded_transformation,\n",
    "                        'BsmtCond' : get_one_hot_encoded_transformation,\n",
    "                        'BsmtExposure' : get_one_hot_encoded_transformation,\n",
    "                        'BsmtFinType1' : get_one_hot_encoded_transformation,   \n",
    "                        'BsmtFinSF1' : get_log_transform,\n",
    "                        'BsmtFinType2' : get_one_hot_encoded_transformation,\n",
    "                        'BsmtUnfSF' : get_column_itself, \n",
    "                        'TotalBsmtSF' : get_column_itself,\n",
    "                        'Heating' : get_one_hot_encoded_transformation,\n",
    "                        'HeatingQC' : get_one_hot_encoded_transformation,\n",
    "                        'CentralAir' : get_one_hot_encoded_transformation,\n",
    "                        'Electrical' : get_one_hot_encoded_transformation,  \n",
    "                        '1stFlrSF' : get_log_transform,\n",
    "                        '2ndFlrSF' : get_log_transform,\n",
    "                        'LowQualFinSF' : get_log_transform,\n",
    "                        'GrLivArea' : get_log_transform,\n",
    "                        'BsmtFullBath' : get_column_itself, \n",
    "                        'BsmtHalfBath':get_column_itself, \n",
    "                        'FullBath' : get_column_itself,\n",
    "                        'HalfBath' : get_column_itself, \n",
    "                        'BedroomAbvGr' : get_column_itself, \n",
    "                        'KitchenAbvGr' :get_column_itself,\n",
    "                        'KitchenQual' : get_one_hot_encoded_transformation,\n",
    "                        'TotRmsAbvGrd' : get_column_itself,\n",
    "                        'Functional' : get_one_hot_encoded_transformation, \n",
    "                        'Fireplaces' : get_column_itself,  \n",
    "                        'FireplaceQu' : get_one_hot_encoded_transformation,\n",
    "                        'GarageType' : get_one_hot_encoded_transformation,\n",
    "                        'GarageYrBlt' : get_null_value_handling_with_no_transform,\n",
    "                        'GarageFinish' : get_one_hot_encoded_transformation,\n",
    "                        'GarageCars': get_column_itself,\n",
    "                        'GarageArea' : get_log_transform,\n",
    "                        'GarageQual' : get_one_hot_encoded_transformation,\n",
    "                        'GarageCond' : get_one_hot_encoded_transformation,\n",
    "                        'PavedDrive' : get_one_hot_encoded_transformation,\n",
    "                        'WoodDeckSF' : get_log_transform,\n",
    "                        'OpenPorchSF' : get_log_transform,\n",
    "                        'EnclosedPorch' : get_log_transform,\n",
    "                        '3SsnPorch' : get_log_transform,\n",
    "                        'ScreenPorch' : get_log_transform, \n",
    "                        'PoolArea' : get_log_transform, \n",
    "                        'PoolQC' : get_one_hot_encoded_transformation,\n",
    "                        'Fence' : get_one_hot_encoded_transformation,\n",
    "                        'MiscFeature' : get_one_hot_encoded_transformation,\n",
    "                        'MiscVal' : get_log_transform, \n",
    "                        'MoSold' : get_one_hot_encoded_transformation, \n",
    "                        'YrSold' : get_one_hot_encoded_transformation, \n",
    "                        'SaleType' : get_one_hot_encoded_transformation,\n",
    "                        'SaleCondition' : get_one_hot_encoded_transformation,\n",
    "                        'Alley' : get_nothing}\n"
   ]
  },
  {
   "cell_type": "code",
   "execution_count": 6,
   "metadata": {},
   "outputs": [],
   "source": [
    "def get_rel_X_cols(X_columns, X_column_transform_map, input_df=None, validation_df=None):\n",
    "    rel_X_cols = list()\n",
    "    for col in X_columns:\n",
    "        if col in X_column_transform_map.keys():\n",
    "            rel_cols = X_column_transform_map.get(col)(col , input_df, validation_df)\n",
    "        else:\n",
    "            rel_cols = [col]\n",
    "        for elem in rel_cols:\n",
    "            rel_X_cols.append(elem)\n",
    "    return rel_X_cols"
   ]
  },
  {
   "cell_type": "code",
   "execution_count": 7,
   "metadata": {},
   "outputs": [],
   "source": [
    "train_validation_data_one_hot = pd.concat([train_data_one_hot, validation_data_one_hot])"
   ]
  },
  {
   "cell_type": "code",
   "execution_count": 8,
   "metadata": {},
   "outputs": [],
   "source": [
    "train_validation_data = pd.concat([train_data, validation_data])"
   ]
  },
  {
   "cell_type": "code",
   "execution_count": 9,
   "metadata": {},
   "outputs": [],
   "source": [
    "rel_X_cols = get_rel_X_cols(\n",
    "    X_columns=rel_cols,\n",
    "    X_column_transform_map=relevant_transform_map,\n",
    "    input_df=train_data_one_hot,\n",
    "    validation_df=validation_data_one_hot)\n"
   ]
  },
  {
   "cell_type": "markdown",
   "metadata": {},
   "source": [
    "#### Presence of linearly dependent predictors.\n",
    "When we do one hot encoding , we would have a set of linearly dependent subset of predictors within our model, causing  the variance inflation factors of the relevant column to shoot up to infinity.\n",
    "\n"
   ]
  },
  {
   "cell_type": "code",
   "execution_count": 10,
   "metadata": {},
   "outputs": [
    {
     "name": "stdout",
     "output_type": "stream",
     "text": [
      "MSSubClass_120\n",
      "['MSSubClass_150', 'MSSubClass_160', 'MSSubClass_180', 'MSSubClass_190', 'MSSubClass_20', 'MSSubClass_30', 'MSSubClass_40', 'MSSubClass_45', 'MSSubClass_50', 'MSSubClass_60', 'MSSubClass_70', 'MSSubClass_75', 'MSSubClass_80', 'MSSubClass_85', 'MSSubClass_90', 'MSZoning_C (all)', 'MSZoning_FV', 'MSZoning_RH', 'MSZoning_RL', 'MSZoning_RM', 'LogLotArea', 'Street_Grvl', 'Street_Pave', 'LotShape_IR1', 'LotShape_IR2', 'LotShape_IR3', 'LotShape_Reg', 'LandContour_Bnk', 'LandContour_HLS', 'LandContour_Low', 'LandContour_Lvl', 'Utilities_AllPub', 'Utilities_NoSeWa', 'LotConfig_Corner', 'LotConfig_CulDSac', 'LotConfig_FR2', 'LotConfig_FR3', 'LotConfig_Inside', 'LandSlope_Gtl', 'LandSlope_Mod', 'LandSlope_Sev', 'Neighborhood_Blmngtn', 'Neighborhood_Blueste', 'Neighborhood_BrDale', 'Neighborhood_BrkSide', 'Neighborhood_ClearCr', 'Neighborhood_CollgCr', 'Neighborhood_Crawfor', 'Neighborhood_Edwards', 'Neighborhood_Gilbert', 'Neighborhood_IDOTRR', 'Neighborhood_MeadowV', 'Neighborhood_Mitchel', 'Neighborhood_NAmes', 'Neighborhood_NPkVill', 'Neighborhood_NWAmes', 'Neighborhood_NoRidge', 'Neighborhood_NridgHt', 'Neighborhood_OldTown', 'Neighborhood_SWISU', 'Neighborhood_Sawyer', 'Neighborhood_SawyerW', 'Neighborhood_Somerst', 'Neighborhood_StoneBr', 'Neighborhood_Timber', 'Neighborhood_Veenker', 'Condition1_Artery', 'Condition1_Feedr', 'Condition1_Norm', 'Condition1_PosA', 'Condition1_PosN', 'Condition1_RRAe', 'Condition1_RRAn', 'Condition1_RRNe', 'Condition1_RRNn', 'Condition2_Artery', 'Condition2_Feedr', 'Condition2_Norm', 'Condition2_PosA', 'Condition2_PosN', 'Condition2_RRAe', 'Condition2_RRAn', 'Condition2_RRNn', 'BldgType_1Fam', 'BldgType_2fmCon', 'BldgType_Duplex', 'BldgType_Twnhs', 'BldgType_TwnhsE', 'HouseStyle_1.5Fin', 'HouseStyle_1.5Unf', 'HouseStyle_1Story', 'HouseStyle_2.5Fin', 'HouseStyle_2.5Unf', 'HouseStyle_2Story', 'HouseStyle_SFoyer', 'HouseStyle_SLvl', 'OverallQual', 'OverallCond', 'YearBuilt', 'YearRemodAdd', 'RoofStyle_Flat', 'RoofStyle_Gable', 'RoofStyle_Gambrel', 'RoofStyle_Hip', 'RoofStyle_Mansard', 'RoofStyle_Shed', 'RoofMatl_ClyTile', 'RoofMatl_CompShg', 'RoofMatl_Membran', 'RoofMatl_Metal', 'RoofMatl_Roll', 'RoofMatl_Tar&Grv', 'RoofMatl_WdShake', 'RoofMatl_WdShngl', 'Exterior1st_AsbShng', 'Exterior1st_AsphShn', 'Exterior1st_BrkComm', 'Exterior1st_BrkFace', 'Exterior1st_CBlock', 'Exterior1st_CemntBd', 'Exterior1st_HdBoard', 'Exterior1st_ImStucc', 'Exterior1st_MetalSd', 'Exterior1st_Plywood', 'Exterior1st_Stone', 'Exterior1st_Stucco', 'Exterior1st_VinylSd', 'Exterior1st_Wd Sdng', 'Exterior1st_WdShing', 'Exterior2nd_AsbShng', 'Exterior2nd_AsphShn', 'Exterior2nd_Brk Cmn', 'Exterior2nd_BrkFace', 'Exterior2nd_CBlock', 'Exterior2nd_CmentBd', 'Exterior2nd_HdBoard', 'Exterior2nd_ImStucc', 'Exterior2nd_MetalSd', 'Exterior2nd_Other', 'Exterior2nd_Plywood', 'Exterior2nd_Stone', 'Exterior2nd_Stucco', 'Exterior2nd_VinylSd', 'Exterior2nd_Wd Sdng', 'Exterior2nd_Wd Shng', 'MasVnrType_BrkCmn', 'MasVnrType_BrkFace', 'MasVnrType_Missing', 'MasVnrType_None', 'MasVnrType_Stone', 'LogMasVnrArea_times_not_missing', 'MasVnrArea_not_missing', 'ExterQual_Ex', 'ExterQual_Fa', 'ExterQual_Gd', 'ExterQual_TA', 'ExterCond_Ex', 'ExterCond_Fa', 'ExterCond_Gd', 'ExterCond_Po', 'ExterCond_TA', 'Foundation_BrkTil', 'Foundation_CBlock', 'Foundation_PConc', 'Foundation_Slab', 'Foundation_Stone', 'Foundation_Wood', 'BsmtQual_Ex', 'BsmtQual_Fa', 'BsmtQual_Gd', 'BsmtQual_Missing', 'BsmtQual_TA', 'BsmtCond_Fa', 'BsmtCond_Gd', 'BsmtCond_Missing', 'BsmtCond_Po', 'BsmtCond_TA', 'BsmtExposure_Av', 'BsmtExposure_Gd', 'BsmtExposure_Missing', 'BsmtExposure_Mn', 'BsmtExposure_No', 'BsmtFinType1_ALQ', 'BsmtFinType1_BLQ', 'BsmtFinType1_GLQ', 'BsmtFinType1_LwQ', 'BsmtFinType1_Rec', 'BsmtFinType1_Unf', 'LogBsmtFinSF1', 'BsmtFinType2_ALQ', 'BsmtFinType2_BLQ', 'BsmtFinType2_GLQ', 'BsmtFinType2_LwQ', 'BsmtFinType2_Rec', 'BsmtFinType2_Unf', 'BsmtUnfSF', 'TotalBsmtSF', 'Heating_Floor', 'Heating_GasA', 'Heating_GasW', 'Heating_Grav', 'Heating_OthW', 'Heating_Wall', 'HeatingQC_Ex', 'HeatingQC_Fa', 'HeatingQC_Gd', 'HeatingQC_Po', 'HeatingQC_TA', 'CentralAir_N', 'CentralAir_Y', 'Electrical_FuseA', 'Electrical_FuseF', 'Electrical_FuseP', 'Electrical_Missing', 'Electrical_Mix', 'Electrical_SBrkr', 'Log1stFlrSF', 'Log2ndFlrSF', 'LogLowQualFinSF', 'LogGrLivArea', 'BsmtFullBath', 'BsmtHalfBath', 'FullBath', 'HalfBath', 'BedroomAbvGr', 'KitchenAbvGr', 'KitchenQual_Ex', 'KitchenQual_Fa', 'KitchenQual_Gd', 'KitchenQual_TA', 'TotRmsAbvGrd', 'Functional_Maj1', 'Functional_Maj2', 'Functional_Min1', 'Functional_Min2', 'Functional_Mod', 'Functional_Sev', 'Functional_Typ', 'Fireplaces', 'FireplaceQu_Ex', 'FireplaceQu_Fa', 'FireplaceQu_Gd', 'FireplaceQu_Missing', 'FireplaceQu_Po', 'FireplaceQu_TA', 'GarageType_2Types', 'GarageType_Attchd', 'GarageType_Basment', 'GarageType_BuiltIn', 'GarageType_CarPort', 'GarageType_Detchd', 'GarageType_Missing', 'GarageYrBlt_times_not_missing', 'GarageYrBlt_not_missing', 'GarageFinish_Fin', 'GarageFinish_Missing', 'GarageFinish_RFn', 'GarageFinish_Unf', 'GarageCars', 'LogGarageArea', 'GarageQual_Ex', 'GarageQual_Fa', 'GarageQual_Gd', 'GarageQual_Missing', 'GarageQual_Po', 'GarageQual_TA', 'GarageCond_Ex', 'GarageCond_Fa', 'GarageCond_Gd', 'GarageCond_Missing', 'GarageCond_Po', 'GarageCond_TA', 'PavedDrive_N', 'PavedDrive_P', 'PavedDrive_Y', 'LogWoodDeckSF', 'LogOpenPorchSF', 'LogEnclosedPorch', 'Log3SsnPorch', 'LogScreenPorch', 'LogPoolArea', 'PoolQC_Ex', 'PoolQC_Fa', 'PoolQC_Gd', 'PoolQC_Missing', 'Fence_GdPrv', 'Fence_GdWo', 'Fence_Missing', 'Fence_MnPrv', 'Fence_MnWw', 'MiscFeature_Gar2', 'MiscFeature_Missing', 'MiscFeature_Othr', 'MiscFeature_Shed', 'MiscFeature_TenC', 'LogMiscVal', 'MoSold_1', 'MoSold_10', 'MoSold_11', 'MoSold_12', 'MoSold_2', 'MoSold_3', 'MoSold_4', 'MoSold_5', 'MoSold_6', 'MoSold_7', 'MoSold_8', 'MoSold_9', 'YrSold_2006', 'YrSold_2007', 'YrSold_2008', 'YrSold_2009', 'YrSold_2010', 'SaleType_COD', 'SaleType_CWD', 'SaleType_Con', 'SaleType_ConLD', 'SaleType_ConLI', 'SaleType_ConLw', 'SaleType_New', 'SaleType_Oth', 'SaleType_WD', 'SaleCondition_Abnorml', 'SaleCondition_AdjLand', 'SaleCondition_Alloca', 'SaleCondition_Family', 'SaleCondition_Normal', 'SaleCondition_Partial']\n"
     ]
    }
   ],
   "source": [
    "given_col = rel_X_cols[0]\n",
    "print(given_col)\n",
    "other_cols = [col for col in rel_X_cols if col != given_col]\n",
    "print(other_cols)\n",
    "X = train_validation_data_one_hot[other_cols]\n",
    "Y = train_validation_data_one_hot[[given_col]]"
   ]
  },
  {
   "cell_type": "code",
   "execution_count": 11,
   "metadata": {},
   "outputs": [],
   "source": [
    "my_model = linear_model.LinearRegression()"
   ]
  },
  {
   "cell_type": "code",
   "execution_count": 12,
   "metadata": {},
   "outputs": [
    {
     "data": {
      "text/plain": [
       "LinearRegression(copy_X=True, fit_intercept=True, n_jobs=None,\n",
       "         normalize=False)"
      ]
     },
     "execution_count": 12,
     "metadata": {},
     "output_type": "execute_result"
    }
   ],
   "source": [
    "my_model.fit(X, Y)"
   ]
  },
  {
   "cell_type": "code",
   "execution_count": 13,
   "metadata": {},
   "outputs": [
    {
     "data": {
      "text/plain": [
       "1.0"
      ]
     },
     "execution_count": 13,
     "metadata": {},
     "output_type": "execute_result"
    }
   ],
   "source": [
    "my_model.score(X,Y)"
   ]
  },
  {
   "cell_type": "markdown",
   "metadata": {},
   "source": [
    "#### Omit one column to remove linear dependency.\n",
    "\n",
    "We make sure we omit one column, while returning one hot encoded columns of a particular variable(to prevent linear dependence amongst columns)"
   ]
  },
  {
   "cell_type": "code",
   "execution_count": 14,
   "metadata": {},
   "outputs": [],
   "source": [
    "def get_one_hot_encoded_transformation(column, input_df=None, validation_df=None):\n",
    "    \n",
    "    rel_cols = [col for col in input_df.columns if column + '_' in col and column + '_Val' not in col]\n",
    "    # Omit one column while returning the column list to avoid linear dependence amonst columns.\n",
    "    return rel_cols[:-1]\n"
   ]
  },
  {
   "cell_type": "code",
   "execution_count": 15,
   "metadata": {},
   "outputs": [],
   "source": [
    "def get_vif_model(given_col = 'MSSubClass_120', \n",
    "                  rel_cols=rel_cols,\n",
    "                  train_data_one_hot = train_data_one_hot,\n",
    "                  validation_data_one_hot = validation_data_one_hot,\n",
    "                  train_validation_data_one_hot = train_validation_data_one_hot):\n",
    "    relevant_transform_map={'Id' : get_nothing,\n",
    "                            'MSSubClass' : get_one_hot_encoded_transformation,\n",
    "                            'MSZoning' : get_one_hot_encoded_transformation,\n",
    "                            'LotFrontage': get_nothing,\n",
    "                            'LotArea': get_log_transform,\n",
    "                            'Street' : get_one_hot_encoded_transformation,                            \n",
    "                            'LotShape' : get_one_hot_encoded_transformation,                                                     \n",
    "                            'LandContour' : get_one_hot_encoded_transformation,                                                     \n",
    "                            'Utilities' : get_one_hot_encoded_transformation,                                                                                 \n",
    "                            'LotConfig' : get_one_hot_encoded_transformation,                                                                                                             \n",
    "                            'LandSlope' : get_one_hot_encoded_transformation,                                                                                                                                         \n",
    "                            'Neighborhood' : get_one_hot_encoded_transformation,                                                                                                                                                                     \n",
    "                            'Condition1' : get_one_hot_encoded_transformation,                                                                                                                                                                                                 \n",
    "                            'Condition2' : get_one_hot_encoded_transformation,                                                                                                                                                                                                 \n",
    "                            'BldgType' : get_one_hot_encoded_transformation,                                                                                                                                                                                                 \n",
    "                            'HouseStyle' : get_one_hot_encoded_transformation,  \n",
    "                            'OverallQual' : get_column_itself,  \n",
    "                            'OverallCond' : get_column_itself,                              \n",
    "                            'YearBuilt' : get_column_itself,  \n",
    "                            'YearRemodAdd' : get_column_itself,                              \n",
    "                            'RoofStyle' : get_one_hot_encoded_transformation,                                                                                                                                                                     \n",
    "                            'RoofMatl' : get_one_hot_encoded_transformation,                                                                                                                                                                                                 \n",
    "                            'Exterior1st' : get_one_hot_encoded_transformation,                                                                                                                                                                                                 \n",
    "                            'Exterior2nd' : get_one_hot_encoded_transformation,                                                                                                                                                                                                 \n",
    "                            'MasVnrType' : get_one_hot_encoded_transformation,  \n",
    "                            'MasVnrArea' : get_null_value_handling_with_log_transform,\n",
    "                            'ExterQual' : get_one_hot_encoded_transformation,\n",
    "                            'ExterCond' : get_one_hot_encoded_transformation,\n",
    "                            'Foundation' : get_one_hot_encoded_transformation,\n",
    "                            'BsmtQual' : get_one_hot_encoded_transformation,\n",
    "                            'BsmtCond' : get_one_hot_encoded_transformation,\n",
    "                            'BsmtExposure' : get_one_hot_encoded_transformation,\n",
    "                            'BsmtFinType1' : get_one_hot_encoded_transformation,   \n",
    "                            'BsmtFinSF1' : get_log_transform,\n",
    "                            'BsmtFinType2' : get_one_hot_encoded_transformation,\n",
    "                            'BsmtUnfSF' : get_column_itself, \n",
    "                            'TotalBsmtSF' : get_column_itself,\n",
    "                            'Heating' : get_one_hot_encoded_transformation,\n",
    "                            'HeatingQC' : get_one_hot_encoded_transformation,\n",
    "                            'CentralAir' : get_one_hot_encoded_transformation,\n",
    "                            'Electrical' : get_one_hot_encoded_transformation,  \n",
    "                            '1stFlrSF' : get_log_transform,\n",
    "                            '2ndFlrSF' : get_log_transform,\n",
    "                            'LowQualFinSF' : get_log_transform,\n",
    "                            'GrLivArea' : get_log_transform,\n",
    "                            'BsmtFullBath' : get_column_itself, \n",
    "                            'BsmtHalfBath':get_column_itself, \n",
    "                            'FullBath' : get_column_itself,\n",
    "                            'HalfBath' : get_column_itself, \n",
    "                            'BedroomAbvGr' : get_column_itself, \n",
    "                            'KitchenAbvGr' :get_column_itself,\n",
    "                            'KitchenQual' : get_one_hot_encoded_transformation,\n",
    "                            'TotRmsAbvGrd' : get_column_itself,\n",
    "                            'Functional' : get_one_hot_encoded_transformation, \n",
    "                            'Fireplaces' : get_column_itself,  \n",
    "                            'FireplaceQu' : get_one_hot_encoded_transformation,\n",
    "                            'GarageType' : get_one_hot_encoded_transformation,\n",
    "                            'GarageYrBlt' : get_null_value_handling_with_no_transform,\n",
    "                            'GarageFinish' : get_one_hot_encoded_transformation,\n",
    "                            'GarageCars': get_column_itself,\n",
    "                            'GarageArea' : get_log_transform,\n",
    "                            'GarageQual' : get_one_hot_encoded_transformation,\n",
    "                            'GarageCond' : get_one_hot_encoded_transformation,\n",
    "                            'PavedDrive' : get_one_hot_encoded_transformation,\n",
    "                            'WoodDeckSF' : get_log_transform, \n",
    "                            'OpenPorchSF' : get_log_transform,\n",
    "                            'EnclosedPorch' : get_log_transform,\n",
    "                            '3SsnPorch' : get_log_transform,\n",
    "                            'ScreenPorch' : get_log_transform, \n",
    "                            'PoolArea' : get_log_transform, \n",
    "                            'PoolQC' : get_one_hot_encoded_transformation,\n",
    "                            'Fence' : get_one_hot_encoded_transformation,\n",
    "                            'MiscFeature' : get_one_hot_encoded_transformation,\n",
    "                            'MiscVal' : get_log_transform, \n",
    "                            'MoSold' : get_one_hot_encoded_transformation, \n",
    "                            'YrSold' : get_one_hot_encoded_transformation, \n",
    "                            'SaleType' : get_one_hot_encoded_transformation,\n",
    "                            'SaleCondition' : get_one_hot_encoded_transformation,\n",
    "                            'Alley' : get_nothing}\n",
    "    rel_X_cols = get_rel_X_cols(\n",
    "        X_columns=rel_cols,\n",
    "        X_column_transform_map=relevant_transform_map,\n",
    "        input_df=train_data_one_hot,\n",
    "        validation_df=validation_data_one_hot)\n",
    "    \n",
    "    other_cols = [col for col in rel_X_cols if col != given_col]\n",
    "    X = train_validation_data_one_hot[other_cols]\n",
    "    Y = train_validation_data_one_hot[[given_col]]\n",
    "    my_model = linear_model.LinearRegression()\n",
    "    my_model.fit(X, Y)\n",
    "    return (my_model, my_model.score(X, Y))\n"
   ]
  },
  {
   "cell_type": "code",
   "execution_count": 16,
   "metadata": {},
   "outputs": [],
   "source": [
    "(my_model, r_squared) = get_vif_model(given_col='MSSubClass_120')"
   ]
  },
  {
   "cell_type": "code",
   "execution_count": 17,
   "metadata": {},
   "outputs": [
    {
     "data": {
      "text/plain": [
       "1.0"
      ]
     },
     "execution_count": 17,
     "metadata": {},
     "output_type": "execute_result"
    }
   ],
   "source": [
    "r_squared"
   ]
  },
  {
   "cell_type": "markdown",
   "metadata": {},
   "source": [
    "#### No effect !\n",
    "\n",
    "We should have forseen this before. Though we do not have linearly dependent predictors, the dependent variable is a plain linear combination of some of the predictors , causing us to have an R Squared of 1.\n",
    "\n",
    "Hence let us make sure that we remove two of the one hot encoded columns , as opposed to just one."
   ]
  },
  {
   "cell_type": "code",
   "execution_count": 18,
   "metadata": {},
   "outputs": [],
   "source": [
    "def get_one_hot_encoded_transformation(column, input_df=None, validation_df=None):\n",
    "    \n",
    "    rel_cols = [col for col in input_df.columns if column + '_' in col and column + '_Val' not in col]\n",
    "    # Omit one column while returning the column list to avoid linear dependence amonst columns.\n",
    "    return rel_cols[:-2]\n"
   ]
  },
  {
   "cell_type": "code",
   "execution_count": 19,
   "metadata": {},
   "outputs": [
    {
     "data": {
      "text/plain": [
       "0.9800570650678383"
      ]
     },
     "execution_count": 19,
     "metadata": {},
     "output_type": "execute_result"
    }
   ],
   "source": [
    "(my_model, r_squared) = get_vif_model(given_col='MSSubClass_120')\n",
    "r_squared\n"
   ]
  },
  {
   "cell_type": "markdown",
   "metadata": {},
   "source": [
    "This illustrates an issue. Because of the nature of one hot encoding, the multicollinearity will be very high, if we were to include other one hot encoded columns amongst the predictors. I believe that this rather inflates the multicollinearity than what it should be.\n",
    "\n",
    "\n",
    "Let us do one thing. For categorical variables, let us include only one of the dependent variable and remove all it's other one hot encoded columns from the list of predictors and then see VIF's come out. This way, we can try to get a true sense of multicollinearity amongst predictors.\n",
    "\n",
    "On second thought, let us refine it even further. For every categorical variable, let us build models in which one of the one hot encoded variable is the dependent variable (and , as mentioned before , omitting the other one hot encoded columns from the predictor list). Then , let us take maximum r-squared obtained amongst these models and use the same to calculate VIF. I will explain it with an example :\n",
    "\n",
    "Let us assume that we have 5 predictors A,B,C,D,E and only A is a categorical variable amongst these (and the rest numeric). Also, let us assume that A can take values of 1,2 and 3.\n",
    "\n",
    "==> List of predictors are A_1, A_2, A_3, C,D, E.\n",
    "\n",
    "=> For computing VIF of A, we build the following 3 models :\n",
    "\n",
    "        A_1 ~ (C, D , E)\n",
    "        A_2 ~ (C, D , E)\n",
    "        A_3 ~ (C, D , E)\n",
    "        \n",
    "and take the maximum of r squared obtained amongst these to compute the VIF for A."
   ]
  },
  {
   "cell_type": "code",
   "execution_count": 20,
   "metadata": {},
   "outputs": [],
   "source": [
    "def build_model_and_compute_r_squared(dependent_col, \n",
    "                                      predictor_cols, \n",
    "                                      train_validation_data_one_hot=train_validation_data_one_hot):\n",
    "\n",
    "    X = train_validation_data_one_hot[predictor_cols]\n",
    "    Y = train_validation_data_one_hot[[dependent_col]]\n",
    "    my_model = linear_model.LinearRegression()\n",
    "    my_model.fit(X, Y)\n",
    "    return (my_model, my_model.score(X, Y))\n"
   ]
  },
  {
   "cell_type": "code",
   "execution_count": 21,
   "metadata": {},
   "outputs": [],
   "source": [
    "def get_vifs(X_columns, \n",
    "             X_column_transform_map, \n",
    "             full_cols = rel_X_cols,\n",
    "             train_validation_data_one_hot=train_validation_data_one_hot):\n",
    "    rel_X_cols = list()\n",
    "    col_to_max_r_squared = dict()\n",
    "    for col in X_columns:\n",
    "        if col in X_column_transform_map.keys():\n",
    "            rel_cols = X_column_transform_map.get(col)(col , train_validation_data_one_hot)  \n",
    "        else:\n",
    "            rel_cols = [col]\n",
    "        r_squareds = list()\n",
    "        for elem in rel_cols:\n",
    "            dep_col  = elem\n",
    "            pred_cols = [x_col for x_col in full_cols if col not in x_col]\n",
    "\n",
    "            #  Since we had merged train and test dataframes , prior to one hot encoding, we could find\n",
    "            # cases of zero columns, which would yield an R Squared of 1. Hence, we ignore those.\n",
    "            r_squared = build_model_and_compute_r_squared(dep_col, \n",
    "                                                          pred_cols, \n",
    "                                                          train_validation_data_one_hot)[1]\n",
    "            if r_squared != 1:\n",
    "                r_squareds.append(r_squared)\n",
    "        if len(r_squareds) >= 1:\n",
    "            col_to_max_r_squared[col] = min(r_squareds)\n",
    "        for elem in rel_cols:\n",
    "            rel_X_cols.append(elem)\n",
    "    return col_to_max_r_squared"
   ]
  },
  {
   "cell_type": "code",
   "execution_count": 22,
   "metadata": {},
   "outputs": [],
   "source": [
    "#col_to_max_r_squared = get_vifs(rel_cols, relevant_transform_map)"
   ]
  },
  {
   "cell_type": "code",
   "execution_count": 23,
   "metadata": {},
   "outputs": [],
   "source": [
    "#sorted(col_to_max_r_squared.items(), key = lambda x : x[1], reverse=True)"
   ]
  },
  {
   "cell_type": "markdown",
   "metadata": {},
   "source": [
    "### Issues here.\n",
    "\n",
    "1. We have the following issues with testing of multicollinearity for categorical variables. \n",
    "\n",
    "    (a) Since we merged training and test data before doing one hot encoding, we occassionally find 0 columns, which shown an R squared of 1\n",
    "   \n",
    "   (b) Even though, we take care of the cases mentioned above, we are having extremely sparse columns, which can shown an abnormally high R Squared (and hence VIF). Though, we could take care of this, by taking the minium R Squared obtained for each categorical variable(amongst the one hot encoded columns), I am not sure if that is the ideal way to do it.\n",
    "\n",
    "\n",
    "\n",
    "2. From the stats seen above, there does look to be a lot of multicollinearity (even if you ignore the categorical variables), but how do we move forward in this case >\n"
   ]
  },
  {
   "cell_type": "markdown",
   "metadata": {},
   "source": [
    "### Thoughts\n",
    "\n",
    "1. Doing an outright PCA does not make sense due to inflation in multicollinearity shown by extremely sparse one hot encoded column.\n",
    "\n",
    "2. One option would be to do PCA only on the numerical columns. This is feasible, but given the extremely large number of categorical columns present, how do we decide to merge the result of this PCA on numeric predictors with other categorical ones ? How do we do a dimensionality reduction on the categorical predictors ?\n",
    "\n"
   ]
  },
  {
   "cell_type": "markdown",
   "metadata": {},
   "source": [
    "### Action \n",
    "\n",
    "One action would be to do a method which works on a mixture of both quantitative and categorical variables, namely Factor Analysis on Mixed data (See https://stats.stackexchange.com/questions/5774/can-principal-component-analysis-be-applied-to-datasets-containing-a-mix-of-cont).\n",
    "\n",
    "Fortunately , we have a python implementation and let us see if that helps (https://github.com/MaxHalford/Prince#factor-analysis-of-mixed-data-famd). \n",
    "\n",
    "Let us check it out !"
   ]
  },
  {
   "cell_type": "markdown",
   "metadata": {},
   "source": [
    "Now, that we are using a method, which deals with categorical variables as it is, we do not need to do one hot encoding on them.\n",
    "\n",
    "Hence, we come up with a new transformation, replacing the one hot encoding transformation with identity transformation."
   ]
  },
  {
   "cell_type": "code",
   "execution_count": 24,
   "metadata": {},
   "outputs": [],
   "source": [
    "famd_mthd_transform_map={'Id' : get_nothing,\n",
    "                        'MSSubClass' : get_column_itself,\n",
    "                        'MSZoning' : get_column_itself,\n",
    "                        'LotFrontage': get_nothing,\n",
    "                        'LotArea': get_log_transform,\n",
    "                        'Street' : get_column_itself,                            \n",
    "                        'LotShape' : get_column_itself,                                                     \n",
    "                        'LandContour' : get_column_itself,                                                     \n",
    "                        'Utilities' : get_column_itself,                                                                                 \n",
    "                        'LotConfig' : get_column_itself,                                                                                                             \n",
    "                        'LandSlope' : get_column_itself,                                                                                                                                         \n",
    "                        'Neighborhood' : get_column_itself,                                                                                                                                                                     \n",
    "                        'Condition1' : get_column_itself,                                                                                                                                                                                                 \n",
    "                        'Condition2' : get_column_itself,                                                                                                                                                                                                 \n",
    "                        'BldgType' : get_column_itself,                                                                                                                                                                                                 \n",
    "                        'HouseStyle' : get_column_itself,  \n",
    "                        'OverallQual' : get_column_itself,  \n",
    "                        'OverallCond' : get_column_itself,                              \n",
    "                        'YearBuilt' : get_column_itself,  \n",
    "                        'YearRemodAdd' : get_column_itself,                              \n",
    "                        'RoofStyle' : get_column_itself,                                                                                                                                                                     \n",
    "                        'RoofMatl' : get_column_itself,                                                                                                                                                                                                 \n",
    "                        'Exterior1st' : get_column_itself,                                                                                                                                                                                                 \n",
    "                        'Exterior2nd' : get_column_itself,                                                                                                                                                                                                 \n",
    "                        'MasVnrType' : get_column_itself,  \n",
    "                        'MasVnrArea' : get_null_value_handling_with_log_transform,\n",
    "                        'ExterQual' : get_column_itself,\n",
    "                        'ExterCond' : get_column_itself,\n",
    "                        'Foundation' : get_column_itself,\n",
    "                        'BsmtQual' : get_column_itself,\n",
    "                        'BsmtCond' : get_column_itself,\n",
    "                        'BsmtExposure' : get_column_itself,\n",
    "                        'BsmtFinType1' : get_column_itself,   \n",
    "                        'BsmtFinSF1' : get_log_transform,\n",
    "                        'BsmtFinType2' : get_column_itself,\n",
    "                        'BsmtUnfSF' : get_column_itself, \n",
    "                        'TotalBsmtSF' : get_column_itself,\n",
    "                        'Heating' : get_column_itself,\n",
    "                        'HeatingQC' : get_column_itself,\n",
    "                        'CentralAir' : get_column_itself,\n",
    "                        'Electrical' : get_column_itself,  \n",
    "                        '1stFlrSF' : get_log_transform,\n",
    "                        '2ndFlrSF' : get_log_transform,\n",
    "                        'LowQualFinSF' : get_log_transform,\n",
    "                        'GrLivArea' : get_log_transform,\n",
    "                        'BsmtFullBath' : get_column_itself, \n",
    "                        'BsmtHalfBath':get_column_itself, \n",
    "                        'FullBath' : get_column_itself,\n",
    "                        'HalfBath' : get_column_itself, \n",
    "                        'BedroomAbvGr' : get_column_itself, \n",
    "                        'KitchenAbvGr' :get_column_itself,\n",
    "                        'KitchenQual' : get_column_itself,\n",
    "                        'TotRmsAbvGrd' : get_column_itself,\n",
    "                        'Functional' : get_column_itself, \n",
    "                        'Fireplaces' : get_column_itself,  \n",
    "                        'FireplaceQu' : get_column_itself,\n",
    "                        'GarageType' : get_column_itself,\n",
    "                        'GarageYrBlt' : get_null_value_handling_with_no_transform,\n",
    "                        'GarageFinish' : get_column_itself,\n",
    "                        'GarageCars': get_column_itself,\n",
    "                        'GarageArea' : get_log_transform,\n",
    "                        'GarageQual' : get_column_itself,\n",
    "                        'GarageCond' : get_column_itself,\n",
    "                        'PavedDrive' : get_column_itself,\n",
    "                        'WoodDeckSF' : get_log_transform,\n",
    "                        'OpenPorchSF' : get_log_transform,\n",
    "                        'EnclosedPorch' : get_log_transform, \n",
    "                        '3SsnPorch' : get_log_transform,\n",
    "                        'ScreenPorch' : get_log_transform, \n",
    "                        'PoolArea' : get_log_transform, \n",
    "                        'PoolQC' : get_column_itself,\n",
    "                        'Fence' : get_column_itself,\n",
    "                        'MiscFeature' : get_column_itself,\n",
    "                        'MiscVal' : get_log_transform, \n",
    "                        'MoSold' : get_column_itself, \n",
    "                        'YrSold' : get_column_itself, \n",
    "                        'SaleType' : get_column_itself,\n",
    "                        'SaleCondition' : get_column_itself,\n",
    "                        'Alley' : get_nothing}\n"
   ]
  },
  {
   "cell_type": "code",
   "execution_count": 25,
   "metadata": {},
   "outputs": [],
   "source": [
    "rel_X_cols = get_rel_X_cols(\n",
    "    X_columns=rel_cols,\n",
    "    X_column_transform_map=famd_mthd_transform_map,\n",
    "    input_df=train_data)\n",
    "\n"
   ]
  },
  {
   "cell_type": "code",
   "execution_count": 26,
   "metadata": {},
   "outputs": [
    {
     "data": {
      "text/plain": [
       "['MSSubClass',\n",
       " 'MSZoning',\n",
       " 'LogLotArea',\n",
       " 'Street',\n",
       " 'LotShape',\n",
       " 'LandContour',\n",
       " 'Utilities',\n",
       " 'LotConfig',\n",
       " 'LandSlope',\n",
       " 'Neighborhood',\n",
       " 'Condition1',\n",
       " 'Condition2',\n",
       " 'BldgType',\n",
       " 'HouseStyle',\n",
       " 'OverallQual',\n",
       " 'OverallCond',\n",
       " 'YearBuilt',\n",
       " 'YearRemodAdd',\n",
       " 'RoofStyle',\n",
       " 'RoofMatl',\n",
       " 'Exterior1st',\n",
       " 'Exterior2nd',\n",
       " 'MasVnrType',\n",
       " 'LogMasVnrArea_times_not_missing',\n",
       " 'MasVnrArea_not_missing',\n",
       " 'ExterQual',\n",
       " 'ExterCond',\n",
       " 'Foundation',\n",
       " 'BsmtQual',\n",
       " 'BsmtCond',\n",
       " 'BsmtExposure',\n",
       " 'BsmtFinType1',\n",
       " 'LogBsmtFinSF1',\n",
       " 'BsmtFinType2',\n",
       " 'BsmtUnfSF',\n",
       " 'TotalBsmtSF',\n",
       " 'Heating',\n",
       " 'HeatingQC',\n",
       " 'CentralAir',\n",
       " 'Electrical',\n",
       " 'Log1stFlrSF',\n",
       " 'Log2ndFlrSF',\n",
       " 'LogLowQualFinSF',\n",
       " 'LogGrLivArea',\n",
       " 'BsmtFullBath',\n",
       " 'BsmtHalfBath',\n",
       " 'FullBath',\n",
       " 'HalfBath',\n",
       " 'BedroomAbvGr',\n",
       " 'KitchenAbvGr',\n",
       " 'KitchenQual',\n",
       " 'TotRmsAbvGrd',\n",
       " 'Functional',\n",
       " 'Fireplaces',\n",
       " 'FireplaceQu',\n",
       " 'GarageType',\n",
       " 'GarageYrBlt_times_not_missing',\n",
       " 'GarageYrBlt_not_missing',\n",
       " 'GarageFinish',\n",
       " 'GarageCars',\n",
       " 'LogGarageArea',\n",
       " 'GarageQual',\n",
       " 'GarageCond',\n",
       " 'PavedDrive',\n",
       " 'LogWoodDeckSF',\n",
       " 'LogOpenPorchSF',\n",
       " 'LogEnclosedPorch',\n",
       " 'Log3SsnPorch',\n",
       " 'LogScreenPorch',\n",
       " 'LogPoolArea',\n",
       " 'PoolQC',\n",
       " 'Fence',\n",
       " 'MiscFeature',\n",
       " 'LogMiscVal',\n",
       " 'MoSold',\n",
       " 'YrSold',\n",
       " 'SaleType',\n",
       " 'SaleCondition']"
      ]
     },
     "execution_count": 26,
     "metadata": {},
     "output_type": "execute_result"
    }
   ],
   "source": [
    "rel_X_cols"
   ]
  },
  {
   "cell_type": "markdown",
   "metadata": {},
   "source": [
    "Now, let us take a stab at FAMD method and see how it works."
   ]
  },
  {
   "cell_type": "code",
   "execution_count": 27,
   "metadata": {},
   "outputs": [],
   "source": [
    "columns_for_famd = [\n",
    " 'MSSubClass',\n",
    " 'MSZoning',\n",
    " 'LogLotArea',\n",
    " 'Street',\n",
    " 'LotShape',\n",
    " 'LandContour', \n",
    " 'Utilities',\n",
    " 'LotConfig',\n",
    " 'LandSlope',\n",
    " 'Neighborhood',\n",
    " 'Condition1',\n",
    " 'Condition2',\n",
    " 'BldgType',\n",
    " 'HouseStyle',\n",
    " 'OverallQual',\n",
    " 'OverallCond',\n",
    " 'YearBuilt',\n",
    " 'YearRemodAdd',\n",
    " 'RoofStyle',\n",
    " 'RoofMatl',\n",
    " 'Exterior1st',\n",
    " 'Exterior2nd',\n",
    " 'MasVnrType',\n",
    " 'LogMasVnrArea_times_not_missing',\n",
    " 'MasVnrArea_not_missing',\n",
    " 'ExterQual',\n",
    " 'ExterCond',\n",
    " 'Foundation',\n",
    " 'BsmtQual',\n",
    " 'BsmtCond',\n",
    " 'BsmtExposure',\n",
    " 'BsmtFinType1',\n",
    " 'LogBsmtFinSF1',\n",
    " 'BsmtFinType2',\n",
    " 'BsmtUnfSF',\n",
    " 'TotalBsmtSF',\n",
    " 'Heating',\n",
    " 'HeatingQC',\n",
    " 'CentralAir',\n",
    " 'Electrical',\n",
    " 'Log1stFlrSF',\n",
    " 'Log2ndFlrSF',\n",
    " 'LogLowQualFinSF',\n",
    " 'LogGrLivArea',\n",
    " 'BsmtFullBath',\n",
    " 'BsmtHalfBath',\n",
    " 'FullBath',\n",
    " 'HalfBath',\n",
    " 'BedroomAbvGr',\n",
    " 'KitchenAbvGr',\n",
    " 'KitchenQual',\n",
    " 'TotRmsAbvGrd',\n",
    " 'Functional',\n",
    " 'Fireplaces',\n",
    " 'FireplaceQu',\n",
    " 'GarageType',\n",
    " 'GarageYrBlt_times_not_missing']"
   ]
  },
  {
   "cell_type": "code",
   "execution_count": 28,
   "metadata": {},
   "outputs": [],
   "source": [
    "columns_for_famd = [\n",
    " 'MSSubClass',\n",
    " 'LogGrLivArea',\n",
    " 'MSZoning',    \n",
    " 'LogLotArea',\n",
    " 'OverallQual',\n",
    " 'OverallCond',\n",
    " 'YearBuilt', \n",
    " 'YearRemodAdd',\n",
    " 'LogLowQualFinSF'\n",
    "]"
   ]
  },
  {
   "cell_type": "code",
   "execution_count": 29,
   "metadata": {},
   "outputs": [],
   "source": [
    "\n",
    "columns_for_famd = [\n",
    " 'MSSubClass',\n",
    " 'LogGrLivArea',\n",
    " 'MSZoning',    \n",
    "]\n"
   ]
  },
  {
   "cell_type": "code",
   "execution_count": 30,
   "metadata": {},
   "outputs": [],
   "source": [
    "test_data = pd.read_csv('../../input/test.csv')"
   ]
  },
  {
   "cell_type": "code",
   "execution_count": 31,
   "metadata": {},
   "outputs": [],
   "source": [
    "train_data_for_famd = train_data[columns_for_famd].copy()\n",
    "validation_data_for_famd = validation_data[columns_for_famd].copy()\n",
    "train_validation_data_for_famd = train_validation_data[columns_for_famd].copy()\n",
    "test_data['LogGrLivArea'] = test_data_one_hot['LogGrLivArea']\n",
    "test_data['LogLotArea'] = test_data_one_hot['LogLotArea']\n",
    "test_data['LogMasVnrArea_times_not_missing'] = test_data_one_hot['LogMasVnrArea_times_not_missing']\n",
    "test_data['LogBsmtFinSF1'] = test_data_one_hot['LogBsmtFinSF1']\n",
    "test_data['Log1stFlrSF'] = test_data_one_hot['Log1stFlrSF']\n",
    "test_data['Log2ndFlrSF'] = test_data_one_hot['Log2ndFlrSF']\n",
    "test_data_for_famd = test_data[columns_for_famd].copy()"
   ]
  },
  {
   "cell_type": "code",
   "execution_count": 32,
   "metadata": {},
   "outputs": [
    {
     "data": {
      "text/plain": [
       "(1095, 3)"
      ]
     },
     "execution_count": 32,
     "metadata": {},
     "output_type": "execute_result"
    }
   ],
   "source": [
    "train_data_for_famd.shape"
   ]
  },
  {
   "cell_type": "code",
   "execution_count": 33,
   "metadata": {},
   "outputs": [
    {
     "data": {
      "text/plain": [
       "(365, 3)"
      ]
     },
     "execution_count": 33,
     "metadata": {},
     "output_type": "execute_result"
    }
   ],
   "source": [
    "validation_data_for_famd.shape"
   ]
  },
  {
   "cell_type": "code",
   "execution_count": 34,
   "metadata": {},
   "outputs": [
    {
     "data": {
      "text/plain": [
       "(1459, 3)"
      ]
     },
     "execution_count": 34,
     "metadata": {},
     "output_type": "execute_result"
    }
   ],
   "source": [
    "test_data_for_famd.shape"
   ]
  },
  {
   "cell_type": "code",
   "execution_count": 35,
   "metadata": {},
   "outputs": [],
   "source": [
    "train_data_for_famd['MSSubClass'] = train_data_for_famd['MSSubClass'].apply(lambda x : '#' + str(x) + '#')\n",
    "validation_data_for_famd['MSSubClass'] = validation_data_for_famd['MSSubClass'].apply(lambda x : '#' + str(x) + '#')\n",
    "test_data_for_famd['MSSubClass'] = test_data_for_famd['MSSubClass'].apply(lambda x : '#' + str(x) + '#')\n",
    "train_validation_data_for_famd['MSSubClass'] = train_validation_data_for_famd['MSSubClass'].apply(lambda x : '#' + str(x) + '#')\n",
    "#train_data_for_famd['MasVnrArea_not_missing'] = \\\n",
    "#    train_data_for_famd['MasVnrArea_not_missing'].apply(lambda x : '#' + str(x) + '#')\n"
   ]
  },
  {
   "cell_type": "code",
   "execution_count": 36,
   "metadata": {},
   "outputs": [
    {
     "data": {
      "text/plain": [
       "count     1095\n",
       "unique      15\n",
       "top       #20#\n",
       "freq       403\n",
       "Name: MSSubClass, dtype: object"
      ]
     },
     "execution_count": 36,
     "metadata": {},
     "output_type": "execute_result"
    }
   ],
   "source": [
    "train_data_for_famd['MSSubClass'].describe()"
   ]
  },
  {
   "cell_type": "code",
   "execution_count": 37,
   "metadata": {},
   "outputs": [],
   "source": [
    "def build_and_test_famd_model(num_components=25,\n",
    "                              train_data_for_famd=train_data_for_famd, \n",
    "                              Y = train_data['LogSalePrice'].values.ravel(),\n",
    "                              validation_data_for_famd=validation_data_for_famd\n",
    "                             ):\n",
    "    famd = prince.FAMD(\n",
    "        n_components=num_components,\n",
    "        n_iter=20,\n",
    "        copy=True,\n",
    "        check_input=True, \n",
    "        engine='auto',\n",
    "        random_state=42)\n",
    "    famd_model = famd.fit(train_data_for_famd)\n",
    "    transformed_X = famd_model.transform(train_data_for_famd)\n",
    "    print(transformed_X.shape)\n",
    "    my_model = linear_model.LinearRegression()\n",
    "    my_model.fit(transformed_X, Y)\n",
    "    predictions = my_model.predict(transformed_X)\n",
    "    \n",
    "    print(validation_data_for_famd.shape)    \n",
    "\n",
    "    transformed_X_valid = famd_model.transform(validation_data_for_famd)    \n",
    "\n",
    "    predictions_valid = my_model.predict(transformed_X_valid)    \n",
    "    return (my_model, \n",
    "            famd_model,\n",
    "            predictions,\n",
    "            predictions_valid)   \n",
    "      "
   ]
  },
  {
   "cell_type": "code",
   "execution_count": 38,
   "metadata": {},
   "outputs": [],
   "source": [
    "import prince"
   ]
  },
  {
   "cell_type": "code",
   "execution_count": 39,
   "metadata": {},
   "outputs": [
    {
     "name": "stdout",
     "output_type": "stream",
     "text": [
      "Index(['Id', 'MSSubClass', 'MSZoning', 'LotArea', 'Street', 'LotShape',\n",
      "       'LandContour', 'Utilities', 'LotConfig', 'LandSlope',\n",
      "       ...\n",
      "       'LogGarageArea', 'LogWoodDeckSF', 'LogOpenPorchSF', 'LogEnclosedPorch',\n",
      "       'Log3SsnPorch', 'LogScreenPorch', 'LogPoolArea', 'LogMiscVal',\n",
      "       'LogSalePrice', 'LogMasVnrArea_times_not_missing'],\n",
      "      dtype='object', length=102)\n"
     ]
    }
   ],
   "source": [
    "print(train_data.columns)"
   ]
  },
  {
   "cell_type": "code",
   "execution_count": 40,
   "metadata": {},
   "outputs": [
    {
     "data": {
      "text/plain": [
       "Condition1\n",
       "Artery      48\n",
       "Feedr       81\n",
       "Norm      1260\n",
       "PosA         8\n",
       "PosN        19\n",
       "RRAe        11\n",
       "RRAn        26\n",
       "RRNe         2\n",
       "RRNn         5\n",
       "dtype: int64"
      ]
     },
     "execution_count": 40,
     "metadata": {},
     "output_type": "execute_result"
    }
   ],
   "source": [
    "train_validation_data[['Condition1']].groupby(['Condition1']).size()"
   ]
  },
  {
   "cell_type": "code",
   "execution_count": 41,
   "metadata": {},
   "outputs": [
    {
     "data": {
      "text/plain": [
       "RoofStyle\n",
       "Flat         13\n",
       "Gable      1141\n",
       "Gambrel      11\n",
       "Hip         286\n",
       "Mansard       7\n",
       "Shed          2\n",
       "dtype: int64"
      ]
     },
     "execution_count": 41,
     "metadata": {},
     "output_type": "execute_result"
    }
   ],
   "source": [
    "train_validation_data[['RoofStyle']].groupby(['RoofStyle']).size()"
   ]
  },
  {
   "cell_type": "code",
   "execution_count": 42,
   "metadata": {},
   "outputs": [
    {
     "data": {
      "text/plain": [
       "array(['Norm', 'Artery', 'RRNn', 'Feedr', 'PosN', 'PosA', 'RRAn', 'RRAe'],\n",
       "      dtype=object)"
      ]
     },
     "execution_count": 42,
     "metadata": {},
     "output_type": "execute_result"
    }
   ],
   "source": [
    "train_validation_data['Condition2'].unique()"
   ]
  },
  {
   "cell_type": "code",
   "execution_count": 43,
   "metadata": {},
   "outputs": [
    {
     "name": "stdout",
     "output_type": "stream",
     "text": [
      "(1095, 21)\n",
      "(365, 3)\n"
     ]
    },
    {
     "ename": "ValueError",
     "evalue": "shapes (365,20) and (21,21) not aligned: 20 (dim 1) != 21 (dim 0)",
     "output_type": "error",
     "traceback": [
      "\u001b[0;31m---------------------------------------------------------------------------\u001b[0m",
      "\u001b[0;31mValueError\u001b[0m                                Traceback (most recent call last)",
      "\u001b[0;32m<ipython-input-43-f563e499792e>\u001b[0m in \u001b[0;36m<module>\u001b[0;34m()\u001b[0m\n\u001b[0;32m----> 1\u001b[0;31m \u001b[0;34m(\u001b[0m\u001b[0mmy_model\u001b[0m\u001b[0;34m,\u001b[0m \u001b[0mfamd_model\u001b[0m\u001b[0;34m,\u001b[0m \u001b[0mpredicitons_train_data\u001b[0m\u001b[0;34m,\u001b[0m \u001b[0mpredictions_validation_data\u001b[0m\u001b[0;34m)\u001b[0m \u001b[0;34m=\u001b[0m     \u001b[0mbuild_and_test_famd_model\u001b[0m\u001b[0;34m(\u001b[0m\u001b[0mnum_components\u001b[0m\u001b[0;34m=\u001b[0m\u001b[0;36m25\u001b[0m\u001b[0;34m)\u001b[0m\u001b[0;34m\u001b[0m\u001b[0m\n\u001b[0m\u001b[1;32m      2\u001b[0m \u001b[0;34m\u001b[0m\u001b[0m\n\u001b[1;32m      3\u001b[0m train_score = evaluate_model_score_given_predictions(predicitons_train_data, \n\u001b[1;32m      4\u001b[0m                                                      train_data['LogSalePrice'].values.ravel())\n\u001b[1;32m      5\u001b[0m validation_score = evaluate_model_score_given_predictions(predictions_validation_data,\n",
      "\u001b[0;32m<ipython-input-37-db638751ff3b>\u001b[0m in \u001b[0;36mbuild_and_test_famd_model\u001b[0;34m(num_components, train_data_for_famd, Y, validation_data_for_famd)\u001b[0m\n\u001b[1;32m     20\u001b[0m     \u001b[0mprint\u001b[0m\u001b[0;34m(\u001b[0m\u001b[0mvalidation_data_for_famd\u001b[0m\u001b[0;34m.\u001b[0m\u001b[0mshape\u001b[0m\u001b[0;34m)\u001b[0m\u001b[0;34m\u001b[0m\u001b[0m\n\u001b[1;32m     21\u001b[0m \u001b[0;34m\u001b[0m\u001b[0m\n\u001b[0;32m---> 22\u001b[0;31m     \u001b[0mtransformed_X_valid\u001b[0m \u001b[0;34m=\u001b[0m \u001b[0mfamd_model\u001b[0m\u001b[0;34m.\u001b[0m\u001b[0mtransform\u001b[0m\u001b[0;34m(\u001b[0m\u001b[0mvalidation_data_for_famd\u001b[0m\u001b[0;34m)\u001b[0m\u001b[0;34m\u001b[0m\u001b[0m\n\u001b[0m\u001b[1;32m     23\u001b[0m \u001b[0;34m\u001b[0m\u001b[0m\n\u001b[1;32m     24\u001b[0m     \u001b[0mpredictions_valid\u001b[0m \u001b[0;34m=\u001b[0m \u001b[0mmy_model\u001b[0m\u001b[0;34m.\u001b[0m\u001b[0mpredict\u001b[0m\u001b[0;34m(\u001b[0m\u001b[0mtransformed_X_valid\u001b[0m\u001b[0;34m)\u001b[0m\u001b[0;34m\u001b[0m\u001b[0m\n",
      "\u001b[0;32m~/anaconda3/lib/python3.6/site-packages/prince/mfa.py\u001b[0m in \u001b[0;36mtransform\u001b[0;34m(self, X)\u001b[0m\n\u001b[1;32m    121\u001b[0m     \u001b[0;32mdef\u001b[0m \u001b[0mtransform\u001b[0m\u001b[0;34m(\u001b[0m\u001b[0mself\u001b[0m\u001b[0;34m,\u001b[0m \u001b[0mX\u001b[0m\u001b[0;34m)\u001b[0m\u001b[0;34m:\u001b[0m\u001b[0;34m\u001b[0m\u001b[0m\n\u001b[1;32m    122\u001b[0m         \u001b[0;34m\"\"\"Returns the row principal coordinates of a dataset.\"\"\"\u001b[0m\u001b[0;34m\u001b[0m\u001b[0m\n\u001b[0;32m--> 123\u001b[0;31m         \u001b[0;32mreturn\u001b[0m \u001b[0mself\u001b[0m\u001b[0;34m.\u001b[0m\u001b[0mrow_coordinates\u001b[0m\u001b[0;34m(\u001b[0m\u001b[0mX\u001b[0m\u001b[0;34m)\u001b[0m\u001b[0;34m\u001b[0m\u001b[0m\n\u001b[0m\u001b[1;32m    124\u001b[0m \u001b[0;34m\u001b[0m\u001b[0m\n\u001b[1;32m    125\u001b[0m     \u001b[0;32mdef\u001b[0m \u001b[0m_row_coordinates_from_global\u001b[0m\u001b[0;34m(\u001b[0m\u001b[0mself\u001b[0m\u001b[0;34m,\u001b[0m \u001b[0mX_global\u001b[0m\u001b[0;34m)\u001b[0m\u001b[0;34m:\u001b[0m\u001b[0;34m\u001b[0m\u001b[0m\n",
      "\u001b[0;32m~/anaconda3/lib/python3.6/site-packages/prince/mfa.py\u001b[0m in \u001b[0;36mrow_coordinates\u001b[0;34m(self, X)\u001b[0m\n\u001b[1;32m    135\u001b[0m         \u001b[0;31m# Prepare input\u001b[0m\u001b[0;34m\u001b[0m\u001b[0;34m\u001b[0m\u001b[0m\n\u001b[1;32m    136\u001b[0m         \u001b[0mX\u001b[0m \u001b[0;34m=\u001b[0m \u001b[0mself\u001b[0m\u001b[0;34m.\u001b[0m\u001b[0m_prepare_input\u001b[0m\u001b[0;34m(\u001b[0m\u001b[0mX\u001b[0m\u001b[0;34m)\u001b[0m\u001b[0;34m\u001b[0m\u001b[0m\n\u001b[0;32m--> 137\u001b[0;31m         \u001b[0;32mreturn\u001b[0m \u001b[0mself\u001b[0m\u001b[0;34m.\u001b[0m\u001b[0m_row_coordinates_from_global\u001b[0m\u001b[0;34m(\u001b[0m\u001b[0mself\u001b[0m\u001b[0;34m.\u001b[0m\u001b[0m_build_X_global\u001b[0m\u001b[0;34m(\u001b[0m\u001b[0mX\u001b[0m\u001b[0;34m)\u001b[0m\u001b[0;34m)\u001b[0m\u001b[0;34m\u001b[0m\u001b[0m\n\u001b[0m\u001b[1;32m    138\u001b[0m \u001b[0;34m\u001b[0m\u001b[0m\n\u001b[1;32m    139\u001b[0m     \u001b[0;32mdef\u001b[0m \u001b[0mrow_contributions\u001b[0m\u001b[0;34m(\u001b[0m\u001b[0mself\u001b[0m\u001b[0;34m,\u001b[0m \u001b[0mX\u001b[0m\u001b[0;34m)\u001b[0m\u001b[0;34m:\u001b[0m\u001b[0;34m\u001b[0m\u001b[0m\n",
      "\u001b[0;32m~/anaconda3/lib/python3.6/site-packages/prince/mfa.py\u001b[0m in \u001b[0;36m_row_coordinates_from_global\u001b[0;34m(self, X_global)\u001b[0m\n\u001b[1;32m    125\u001b[0m     \u001b[0;32mdef\u001b[0m \u001b[0m_row_coordinates_from_global\u001b[0m\u001b[0;34m(\u001b[0m\u001b[0mself\u001b[0m\u001b[0;34m,\u001b[0m \u001b[0mX_global\u001b[0m\u001b[0;34m)\u001b[0m\u001b[0;34m:\u001b[0m\u001b[0;34m\u001b[0m\u001b[0m\n\u001b[1;32m    126\u001b[0m         \u001b[0;34m\"\"\"Returns the row principal coordinates.\"\"\"\u001b[0m\u001b[0;34m\u001b[0m\u001b[0m\n\u001b[0;32m--> 127\u001b[0;31m         \u001b[0;32mreturn\u001b[0m \u001b[0mlen\u001b[0m\u001b[0;34m(\u001b[0m\u001b[0mX_global\u001b[0m\u001b[0;34m)\u001b[0m \u001b[0;34m**\u001b[0m \u001b[0;36m0.5\u001b[0m \u001b[0;34m*\u001b[0m \u001b[0msuper\u001b[0m\u001b[0;34m(\u001b[0m\u001b[0;34m)\u001b[0m\u001b[0;34m.\u001b[0m\u001b[0mrow_coordinates\u001b[0m\u001b[0;34m(\u001b[0m\u001b[0mX_global\u001b[0m\u001b[0;34m)\u001b[0m\u001b[0;34m\u001b[0m\u001b[0m\n\u001b[0m\u001b[1;32m    128\u001b[0m \u001b[0;34m\u001b[0m\u001b[0m\n\u001b[1;32m    129\u001b[0m     \u001b[0;32mdef\u001b[0m \u001b[0mrow_coordinates\u001b[0m\u001b[0;34m(\u001b[0m\u001b[0mself\u001b[0m\u001b[0;34m,\u001b[0m \u001b[0mX\u001b[0m\u001b[0;34m)\u001b[0m\u001b[0;34m:\u001b[0m\u001b[0;34m\u001b[0m\u001b[0m\n",
      "\u001b[0;32m~/anaconda3/lib/python3.6/site-packages/prince/pca.py\u001b[0m in \u001b[0;36mrow_coordinates\u001b[0;34m(self, X)\u001b[0m\n\u001b[1;32m    102\u001b[0m             \u001b[0mX\u001b[0m \u001b[0;34m=\u001b[0m \u001b[0mself\u001b[0m\u001b[0;34m.\u001b[0m\u001b[0mscaler_\u001b[0m\u001b[0;34m.\u001b[0m\u001b[0mtransform\u001b[0m\u001b[0;34m(\u001b[0m\u001b[0mX\u001b[0m\u001b[0;34m)\u001b[0m\u001b[0;34m\u001b[0m\u001b[0m\n\u001b[1;32m    103\u001b[0m \u001b[0;34m\u001b[0m\u001b[0m\n\u001b[0;32m--> 104\u001b[0;31m         \u001b[0;32mreturn\u001b[0m \u001b[0mpd\u001b[0m\u001b[0;34m.\u001b[0m\u001b[0mDataFrame\u001b[0m\u001b[0;34m(\u001b[0m\u001b[0mdata\u001b[0m\u001b[0;34m=\u001b[0m\u001b[0mX\u001b[0m\u001b[0;34m.\u001b[0m\u001b[0mdot\u001b[0m\u001b[0;34m(\u001b[0m\u001b[0mself\u001b[0m\u001b[0;34m.\u001b[0m\u001b[0mV_\u001b[0m\u001b[0;34m.\u001b[0m\u001b[0mT\u001b[0m\u001b[0;34m)\u001b[0m\u001b[0;34m,\u001b[0m \u001b[0mindex\u001b[0m\u001b[0;34m=\u001b[0m\u001b[0mindex\u001b[0m\u001b[0;34m)\u001b[0m\u001b[0;34m\u001b[0m\u001b[0m\n\u001b[0m\u001b[1;32m    105\u001b[0m \u001b[0;34m\u001b[0m\u001b[0m\n\u001b[1;32m    106\u001b[0m     \u001b[0;32mdef\u001b[0m \u001b[0mrow_standard_coordinates\u001b[0m\u001b[0;34m(\u001b[0m\u001b[0mself\u001b[0m\u001b[0;34m,\u001b[0m \u001b[0mX\u001b[0m\u001b[0;34m)\u001b[0m\u001b[0;34m:\u001b[0m\u001b[0;34m\u001b[0m\u001b[0m\n",
      "\u001b[0;31mValueError\u001b[0m: shapes (365,20) and (21,21) not aligned: 20 (dim 1) != 21 (dim 0)"
     ]
    }
   ],
   "source": [
    "(my_model, famd_model, predicitons_train_data, predictions_validation_data) = \\\n",
    "    build_and_test_famd_model(num_components=25)\n",
    "\n",
    "train_score = evaluate_model_score_given_predictions(predicitons_train_data, \n",
    "                                                     train_data['LogSalePrice'].values.ravel())\n",
    "validation_score = evaluate_model_score_given_predictions(predictions_validation_data,\n",
    "                                                          validation_data['LogSalePrice'].values.ravel())\n",
    "print(train_score, validation_score)"
   ]
  },
  {
   "cell_type": "code",
   "execution_count": null,
   "metadata": {},
   "outputs": [],
   "source": [
    "famd = prince.FAMD(\n",
    "    n_components=25,\n",
    "    n_iter=20,\n",
    "    copy=True,\n",
    "    check_input=True, \n",
    "    engine='auto',\n",
    "    random_state=42)\n",
    "\n"
   ]
  },
  {
   "cell_type": "code",
   "execution_count": null,
   "metadata": {},
   "outputs": [],
   "source": [
    "famd_model = famd.fit(train_data_for_famd)\n",
    "transformed_X = famd_model.transform(train_data_for_famd)\n"
   ]
  },
  {
   "cell_type": "code",
   "execution_count": null,
   "metadata": {},
   "outputs": [],
   "source": [
    "Y = train_data['LogSalePrice'].values.ravel()"
   ]
  },
  {
   "cell_type": "code",
   "execution_count": null,
   "metadata": {},
   "outputs": [],
   "source": [
    "print(transformed_X.shape)\n",
    "my_model = linear_model.LinearRegression()\n",
    "my_model.fit(transformed_X, Y)\n",
    "predictions = my_model.predict(transformed_X)\n",
    "\n",
    "print(validation_data_for_famd.shape)    \n",
    "\n",
    "transformed_X_valid = famd_model.transform(validation_data_for_famd)    \n",
    "\n",
    "predictions_valid = my_model.predict(transformed_X_valid)    \n"
   ]
  },
  {
   "cell_type": "code",
   "execution_count": null,
   "metadata": {},
   "outputs": [],
   "source": [
    "transformed_X.mean()"
   ]
  },
  {
   "cell_type": "code",
   "execution_count": null,
   "metadata": {},
   "outputs": [],
   "source": [
    "transformed_X_valid.mean()"
   ]
  },
  {
   "cell_type": "code",
   "execution_count": null,
   "metadata": {},
   "outputs": [],
   "source": [
    "validation_data['LogSalePrice'].values.ravel()"
   ]
  },
  {
   "cell_type": "code",
   "execution_count": null,
   "metadata": {},
   "outputs": [],
   "source": [
    "len(famd_model.explained_inertia_)"
   ]
  },
  {
   "cell_type": "code",
   "execution_count": null,
   "metadata": {},
   "outputs": [],
   "source": [
    "sum(famd_model.explained_inertia_)"
   ]
  },
  {
   "cell_type": "markdown",
   "metadata": {},
   "source": [
    "### Make sure that we are able to make predictions on test data as well"
   ]
  },
  {
   "cell_type": "code",
   "execution_count": null,
   "metadata": {},
   "outputs": [],
   "source": [
    "test_data['MSZoning'].describe()"
   ]
  },
  {
   "cell_type": "code",
   "execution_count": null,
   "metadata": {},
   "outputs": [],
   "source": [
    "columns_for_famd"
   ]
  },
  {
   "cell_type": "code",
   "execution_count": null,
   "metadata": {},
   "outputs": [],
   "source": [
    "test_data['MSSubClass'].unique()\n"
   ]
  },
  {
   "cell_type": "code",
   "execution_count": null,
   "metadata": {},
   "outputs": [],
   "source": [
    "train_validation_data['MSSubClass'].unique()"
   ]
  },
  {
   "cell_type": "code",
   "execution_count": null,
   "metadata": {},
   "outputs": [],
   "source": [
    "test_data[test_data['MSSubClass'] == 150]"
   ]
  },
  {
   "cell_type": "code",
   "execution_count": null,
   "metadata": {},
   "outputs": [],
   "source": [
    "print(len(test_data_for_famd[test_data_for_famd['MSSubClass'] != 150]))"
   ]
  },
  {
   "cell_type": "code",
   "execution_count": null,
   "metadata": {},
   "outputs": [],
   "source": [
    "print(len(test_data_for_famd))"
   ]
  },
  {
   "cell_type": "code",
   "execution_count": null,
   "metadata": {},
   "outputs": [],
   "source": [
    "print(len(test_data_for_famd[test_data_for_famd['MSSubClass'] != '#150#']))"
   ]
  },
  {
   "cell_type": "code",
   "execution_count": null,
   "metadata": {},
   "outputs": [],
   "source": [
    "#There is one value for MSSubClass that is present in test set and not present in training set. \n",
    "#Let us delete this entry for now.C\n",
    "test_data_for_famd_1 = test_data_for_famd[test_data_for_famd['MSSubClass'] != '#150#']\n",
    "test_data_for_famd_2 =  test_data_for_famd_1[test_data_for_famd_1['MSZoning'].notnull()]\n",
    "(my_model, famd_model, predicitons_train_data, predictions_test_data) = \\\n",
    "    build_and_test_famd_model(num_components=25,\n",
    "                              train_data_for_famd=train_validation_data_for_famd, \n",
    "                              Y = train_validation_data['LogSalePrice'].values.ravel(),\n",
    "                              validation_data_for_famd=test_data_for_famd_2)\n",
    "train_score = evaluate_model_score_given_predictions(predicitons_train_data, \n",
    "                                                     train_validation_data['LogSalePrice'].values.ravel())\n",
    "print(train_score)"
   ]
  },
  {
   "cell_type": "markdown",
   "metadata": {},
   "source": [
    "There is one value for MSSubClass that is present in test set and not present in training set. Let us delete this entry for now."
   ]
  },
  {
   "cell_type": "markdown",
   "metadata": {},
   "source": [
    "### Build a cross validation routine.\n",
    "\n",
    "NOTE: I have written a routine here and though it theoretically works well, practically it causes lots of problems with some categorical variables having few values in the training set and not in the test set (and vice versa). This situation causes the FAMD routine to given unreliable results\n",
    "\n",
    "Also, there is another issue https://github.com/MaxHalford/prince/issues/61, which causes some of  the iterations to show absurd results. Hence, we need to be aware of the same.\n"
   ]
  },
  {
   "cell_type": "code",
   "execution_count": null,
   "metadata": {},
   "outputs": [],
   "source": [
    "def get_trained_model_and_transform(X, Y, num_components=25, num_iter=20):\n",
    "    famd = prince.FAMD(\n",
    "        n_components=num_components,\n",
    "        n_iter=num_iter,\n",
    "        copy=True,\n",
    "        check_input=True, \n",
    "        engine='auto',\n",
    "        random_state=42)\n",
    "\n",
    "    famd_model = famd.fit(X)\n",
    "    transformed_X = famd_model.transform(X)\n",
    "    \n",
    "    my_model = linear_model.LinearRegression()\n",
    "    \n",
    "    my_model.fit(transformed_X,Y)\n",
    "\n",
    "    return (my_model, famd_model)"
   ]
  },
  {
   "cell_type": "code",
   "execution_count": null,
   "metadata": {},
   "outputs": [],
   "source": [
    "def get_cross_val_output(input_df, \n",
    "                         num_components=25, \n",
    "                         num_iter=20,\n",
    "                         nfolds=5):\n",
    "    partition_indices = np.array_split(np.arange(len(input_df)), nfolds)\n",
    "    Y_column = 'LogSalePrice'\n",
    "    cross_validated_scores = np.zeros(nfolds)\n",
    "    rel_X_cols = [col for col in input_df.columns if col != Y_column]\n",
    "    cross_validated_data = pd.DataFrame(columns=input_df.columns)\n",
    "    for i in range(nfolds):\n",
    "        cross_validated_set = input_df[partition_indices[i][0]:partition_indices[i][-1] + 1].copy()\n",
    "        rel_training_data = pd.DataFrame(columns=input_df.columns, dtype=float)\n",
    "        for j in range(nfolds):\n",
    "            if j != i:\n",
    "                training_set = input_df[partition_indices[j][0]:partition_indices[j][-1] + 1]\n",
    "                rel_training_data = pd.concat([rel_training_data, training_set])\n",
    "        (my_model, famd_model) = get_trained_model_and_transform(rel_training_data[rel_X_cols], \n",
    "                                                                 rel_training_data[[Y_column]].values.ravel(),\n",
    "                                                                 num_components=num_components,\n",
    "                                                                 num_iter=num_iter)\n",
    "        '''\n",
    "        famd = prince.FAMD(\n",
    "            n_components=num_components,\n",
    "            n_iter=num_iter,\n",
    "            copy=True,\n",
    "            check_input=True, \n",
    "            engine='auto',\n",
    "            random_state=42)\n",
    "        X = rel_training_data[rel_X_cols]\n",
    "        Y = rel_training_data[[Y_column]].values.ravel()\n",
    "        \n",
    "        famd_model = famd.fit(X)\n",
    "        transformed_X = famd_model.transform(X)\n",
    "\n",
    "        my_model = linear_model.LinearRegression()\n",
    "\n",
    "        my_model.fit(transformed_X,Y)\n",
    "        '''\n",
    "        newX = cross_validated_set[rel_X_cols]\n",
    "        newY = cross_validated_set[[Y_column]]\n",
    "        \n",
    "        new_transformed_X = famd_model.transform(newX)\n",
    "        new_predictions = my_model.predict(new_transformed_X)\n",
    "        \n",
    "        cross_validated_score = evaluate_model_score_given_predictions(new_predictions, newY)\n",
    "        cross_validated_scores[i] = cross_validated_score\n",
    "        if i==3:\n",
    "            #print(cross_validated_score)\n",
    "            #rel_training_data.to_csv('data\\cv_training3.csv', index=False)\n",
    "            #cross_validated_set.to_csv('data\\cv_validation3.csv', index=False)            \n",
    "            (my_model, famd_model) = get_trained_model_and_transform(rel_training_data[rel_X_cols], \n",
    "                                                                     rel_training_data[[Y_column]].values.ravel(),\n",
    "                                                                     num_components=num_components,\n",
    "                                                                     num_iter=num_iter)\n",
    "            newX = cross_validated_set[rel_X_cols]\n",
    "            newY = cross_validated_set[[Y_column]]\n",
    "\n",
    "            new_transformed_X = famd_model.transform(newX)\n",
    "            new_predictions = my_model.predict(new_transformed_X)\n",
    "            print(new_predictions.mean())\n",
    "            cross_validated_score = evaluate_model_score_given_predictions(new_predictions, newY)\n",
    "            print(cross_validated_score)\n",
    "            \n",
    "        \n",
    "    return cross_validated_scores"
   ]
  },
  {
   "cell_type": "code",
   "execution_count": null,
   "metadata": {},
   "outputs": [],
   "source": [
    "def evaluate_model_score_with_transform(my_model, famd_model, newX, newY):\n",
    "    new_transformed_X = famd_model.transform(newX)\n",
    "    \n",
    "    return evaluate_model_score(my_model, new_transformed_X, newY)"
   ]
  },
  {
   "cell_type": "code",
   "execution_count": null,
   "metadata": {},
   "outputs": [],
   "source": [
    "relevnat_cols_for_cross_val = columns_for_famd.copy()\n",
    "relevnat_cols_for_cross_val.append('LogSalePrice')\n"
   ]
  },
  {
   "cell_type": "code",
   "execution_count": null,
   "metadata": {},
   "outputs": [],
   "source": [
    "relevnat_cols_for_cross_val"
   ]
  },
  {
   "cell_type": "code",
   "execution_count": null,
   "metadata": {},
   "outputs": [],
   "source": [
    "train_validation_data_for_famd_cv = train_validation_data_for_famd.copy()\n",
    "train_validation_data_for_famd_cv['LogSalePrice'] = train_validation_data['LogSalePrice']"
   ]
  },
  {
   "cell_type": "code",
   "execution_count": null,
   "metadata": {},
   "outputs": [],
   "source": [
    "#temp_df = train_validation_data_for_famd_cv.sample(frac=1)\n",
    "scores = get_cross_val_output(train_validation_data_for_famd_cv.sample(frac=1), \n",
    "                              num_components=25)"
   ]
  },
  {
   "cell_type": "code",
   "execution_count": null,
   "metadata": {},
   "outputs": [],
   "source": [
    "scores"
   ]
  },
  {
   "cell_type": "code",
   "execution_count": null,
   "metadata": {},
   "outputs": [],
   "source": [
    "scores.mean()"
   ]
  },
  {
   "cell_type": "code",
   "execution_count": null,
   "metadata": {},
   "outputs": [],
   "source": [
    "scores = get_cross_val_output(temp_df, \n",
    "                              num_components=25)"
   ]
  },
  {
   "cell_type": "code",
   "execution_count": null,
   "metadata": {},
   "outputs": [],
   "source": [
    "scores"
   ]
  },
  {
   "cell_type": "code",
   "execution_count": null,
   "metadata": {},
   "outputs": [],
   "source": [
    "cv_training = pd.read_csv('data/cv_training.csv')\n"
   ]
  },
  {
   "cell_type": "code",
   "execution_count": null,
   "metadata": {},
   "outputs": [],
   "source": [
    "scores = get_cross_val_output(cv_training, \n",
    "                              num_components=25)"
   ]
  },
  {
   "cell_type": "code",
   "execution_count": null,
   "metadata": {},
   "outputs": [],
   "source": [
    "scores"
   ]
  }
 ],
 "metadata": {
  "kernelspec": {
   "display_name": "Python 3",
   "language": "python",
   "name": "python3"
  },
  "language_info": {
   "codemirror_mode": {
    "name": "ipython",
    "version": 3
   },
   "file_extension": ".py",
   "mimetype": "text/x-python",
   "name": "python",
   "nbconvert_exporter": "python",
   "pygments_lexer": "ipython3",
   "version": "3.6.4"
  }
 },
 "nbformat": 4,
 "nbformat_minor": 2
}
